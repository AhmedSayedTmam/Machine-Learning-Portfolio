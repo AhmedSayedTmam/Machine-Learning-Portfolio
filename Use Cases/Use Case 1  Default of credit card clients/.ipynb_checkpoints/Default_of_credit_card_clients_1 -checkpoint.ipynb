{
 "cells": [
  {
   "cell_type": "markdown",
   "metadata": {
    "id": "2QyIkKYZBNib"
   },
   "source": [
    "# Amazon Web Services - Use Case 1 : Default of credit card clients"
   ]
  },
  {
   "cell_type": "markdown",
   "metadata": {
    "id": "gly43N6NBNjJ"
   },
   "source": [
    "## K-NN, SVM and Random Forest Classification Models \n",
    "\n",
    "In this notebook, we build, train to predict the target label Y Did the person pay default payment next month (Yes=1 or No=0 )\n",
    "1. <a href=\"#1\">Read the dataset</a>\n",
    "2. <a href=\"#2\">Exploratory Data Analysis</a>\n",
    "3. <a href=\"#3\">Select features to build the model</a>\n",
    "4. <a href=\"#6\">Train the classifier</a>\n"
   ]
  },
  {
   "cell_type": "markdown",
   "metadata": {
    "id": "tm_fwkoyBNjO"
   },
   "source": [
    "## 1. <a name=\"1\">Read the dataset</a>\n",
    "(<a href=\"#0\">Go to top</a>)\n",
    "\n",
    "Let's read the dataset into a dataframe, using Pandas."
   ]
  },
  {
   "cell_type": "code",
   "execution_count": 1,
   "metadata": {
    "id": "XO28-HiDCDKb"
   },
   "outputs": [],
   "source": [
    "import pandas as pd\n",
    "import numpy as np\n",
    "import matplotlib.pyplot as plt   \n",
    "import seaborn as sns\n",
    "\n",
    "# to prevent truncating the columns of the pandas dataframe\n",
    "pd.set_option('display.max_columns', None)\n",
    "df = pd.read_excel('default of credit card clients.xls', index_col=0, header=[0, 1])"
   ]
  },
  {
   "cell_type": "code",
   "execution_count": 2,
   "metadata": {
    "colab": {
     "base_uri": "https://localhost:8080/",
     "height": 300
    },
    "id": "gSuK4OieCDLa",
    "outputId": "99cd9b18-4a26-40d5-80bc-ae2ebd3679db",
    "scrolled": true
   },
   "outputs": [
    {
     "data": {
      "text/html": [
       "<div>\n",
       "<style scoped>\n",
       "    .dataframe tbody tr th:only-of-type {\n",
       "        vertical-align: middle;\n",
       "    }\n",
       "\n",
       "    .dataframe tbody tr th {\n",
       "        vertical-align: top;\n",
       "    }\n",
       "\n",
       "    .dataframe thead tr th {\n",
       "        text-align: left;\n",
       "    }\n",
       "</style>\n",
       "<table border=\"1\" class=\"dataframe\">\n",
       "  <thead>\n",
       "    <tr>\n",
       "      <th></th>\n",
       "      <th>X1</th>\n",
       "      <th>X2</th>\n",
       "      <th>X3</th>\n",
       "      <th>X4</th>\n",
       "      <th>X5</th>\n",
       "      <th>X6</th>\n",
       "      <th>X7</th>\n",
       "      <th>X8</th>\n",
       "      <th>X9</th>\n",
       "      <th>X10</th>\n",
       "      <th>X11</th>\n",
       "      <th>X12</th>\n",
       "      <th>X13</th>\n",
       "      <th>X14</th>\n",
       "      <th>X15</th>\n",
       "      <th>X16</th>\n",
       "      <th>X17</th>\n",
       "      <th>X18</th>\n",
       "      <th>X19</th>\n",
       "      <th>X20</th>\n",
       "      <th>X21</th>\n",
       "      <th>X22</th>\n",
       "      <th>X23</th>\n",
       "      <th>Y</th>\n",
       "    </tr>\n",
       "    <tr>\n",
       "      <th>ID</th>\n",
       "      <th>LIMIT_BAL</th>\n",
       "      <th>SEX</th>\n",
       "      <th>EDUCATION</th>\n",
       "      <th>MARRIAGE</th>\n",
       "      <th>AGE</th>\n",
       "      <th>PAY_0</th>\n",
       "      <th>PAY_2</th>\n",
       "      <th>PAY_3</th>\n",
       "      <th>PAY_4</th>\n",
       "      <th>PAY_5</th>\n",
       "      <th>PAY_6</th>\n",
       "      <th>BILL_AMT1</th>\n",
       "      <th>BILL_AMT2</th>\n",
       "      <th>BILL_AMT3</th>\n",
       "      <th>BILL_AMT4</th>\n",
       "      <th>BILL_AMT5</th>\n",
       "      <th>BILL_AMT6</th>\n",
       "      <th>PAY_AMT1</th>\n",
       "      <th>PAY_AMT2</th>\n",
       "      <th>PAY_AMT3</th>\n",
       "      <th>PAY_AMT4</th>\n",
       "      <th>PAY_AMT5</th>\n",
       "      <th>PAY_AMT6</th>\n",
       "      <th>default payment next month</th>\n",
       "    </tr>\n",
       "  </thead>\n",
       "  <tbody>\n",
       "    <tr>\n",
       "      <th>1</th>\n",
       "      <td>20000</td>\n",
       "      <td>female</td>\n",
       "      <td>university</td>\n",
       "      <td>married</td>\n",
       "      <td>24</td>\n",
       "      <td>2</td>\n",
       "      <td>2</td>\n",
       "      <td>-1</td>\n",
       "      <td>-1</td>\n",
       "      <td>-2</td>\n",
       "      <td>-2</td>\n",
       "      <td>3913</td>\n",
       "      <td>3102</td>\n",
       "      <td>689</td>\n",
       "      <td>0</td>\n",
       "      <td>0</td>\n",
       "      <td>0</td>\n",
       "      <td>0</td>\n",
       "      <td>689</td>\n",
       "      <td>0</td>\n",
       "      <td>0</td>\n",
       "      <td>0</td>\n",
       "      <td>0</td>\n",
       "      <td>1</td>\n",
       "    </tr>\n",
       "    <tr>\n",
       "      <th>2</th>\n",
       "      <td>120000</td>\n",
       "      <td>female</td>\n",
       "      <td>university</td>\n",
       "      <td>single</td>\n",
       "      <td>26</td>\n",
       "      <td>-1</td>\n",
       "      <td>2</td>\n",
       "      <td>0</td>\n",
       "      <td>0</td>\n",
       "      <td>0</td>\n",
       "      <td>2</td>\n",
       "      <td>2682</td>\n",
       "      <td>1725</td>\n",
       "      <td>2682</td>\n",
       "      <td>3272</td>\n",
       "      <td>3455</td>\n",
       "      <td>3261</td>\n",
       "      <td>0</td>\n",
       "      <td>1000</td>\n",
       "      <td>1000</td>\n",
       "      <td>1000</td>\n",
       "      <td>0</td>\n",
       "      <td>2000</td>\n",
       "      <td>1</td>\n",
       "    </tr>\n",
       "    <tr>\n",
       "      <th>3</th>\n",
       "      <td>90000</td>\n",
       "      <td>female</td>\n",
       "      <td>university</td>\n",
       "      <td>single</td>\n",
       "      <td>34</td>\n",
       "      <td>0</td>\n",
       "      <td>0</td>\n",
       "      <td>0</td>\n",
       "      <td>0</td>\n",
       "      <td>0</td>\n",
       "      <td>0</td>\n",
       "      <td>29239</td>\n",
       "      <td>14027</td>\n",
       "      <td>13559</td>\n",
       "      <td>14331</td>\n",
       "      <td>14948</td>\n",
       "      <td>15549</td>\n",
       "      <td>1518</td>\n",
       "      <td>1500</td>\n",
       "      <td>1000</td>\n",
       "      <td>1000</td>\n",
       "      <td>1000</td>\n",
       "      <td>5000</td>\n",
       "      <td>0</td>\n",
       "    </tr>\n",
       "    <tr>\n",
       "      <th>4</th>\n",
       "      <td>50000</td>\n",
       "      <td>female</td>\n",
       "      <td>university</td>\n",
       "      <td>married</td>\n",
       "      <td>37</td>\n",
       "      <td>0</td>\n",
       "      <td>0</td>\n",
       "      <td>0</td>\n",
       "      <td>0</td>\n",
       "      <td>0</td>\n",
       "      <td>0</td>\n",
       "      <td>46990</td>\n",
       "      <td>48233</td>\n",
       "      <td>49291</td>\n",
       "      <td>28314</td>\n",
       "      <td>28959</td>\n",
       "      <td>29547</td>\n",
       "      <td>2000</td>\n",
       "      <td>2019</td>\n",
       "      <td>1200</td>\n",
       "      <td>1100</td>\n",
       "      <td>1069</td>\n",
       "      <td>1000</td>\n",
       "      <td>0</td>\n",
       "    </tr>\n",
       "    <tr>\n",
       "      <th>5</th>\n",
       "      <td>50000</td>\n",
       "      <td>male</td>\n",
       "      <td>university</td>\n",
       "      <td>married</td>\n",
       "      <td>57</td>\n",
       "      <td>-1</td>\n",
       "      <td>0</td>\n",
       "      <td>-1</td>\n",
       "      <td>0</td>\n",
       "      <td>0</td>\n",
       "      <td>0</td>\n",
       "      <td>8617</td>\n",
       "      <td>5670</td>\n",
       "      <td>35835</td>\n",
       "      <td>20940</td>\n",
       "      <td>19146</td>\n",
       "      <td>19131</td>\n",
       "      <td>2000</td>\n",
       "      <td>36681</td>\n",
       "      <td>10000</td>\n",
       "      <td>9000</td>\n",
       "      <td>689</td>\n",
       "      <td>679</td>\n",
       "      <td>0</td>\n",
       "    </tr>\n",
       "  </tbody>\n",
       "</table>\n",
       "</div>"
      ],
      "text/plain": [
       "          X1      X2          X3       X4  X5    X6    X7    X8    X9   X10  \\\n",
       "ID LIMIT_BAL     SEX   EDUCATION MARRIAGE AGE PAY_0 PAY_2 PAY_3 PAY_4 PAY_5   \n",
       "1      20000  female  university  married  24     2     2    -1    -1    -2   \n",
       "2     120000  female  university   single  26    -1     2     0     0     0   \n",
       "3      90000  female  university   single  34     0     0     0     0     0   \n",
       "4      50000  female  university  married  37     0     0     0     0     0   \n",
       "5      50000    male  university  married  57    -1     0    -1     0     0   \n",
       "\n",
       "     X11       X12       X13       X14       X15       X16       X17      X18  \\\n",
       "ID PAY_6 BILL_AMT1 BILL_AMT2 BILL_AMT3 BILL_AMT4 BILL_AMT5 BILL_AMT6 PAY_AMT1   \n",
       "1     -2      3913      3102       689         0         0         0        0   \n",
       "2      2      2682      1725      2682      3272      3455      3261        0   \n",
       "3      0     29239     14027     13559     14331     14948     15549     1518   \n",
       "4      0     46990     48233     49291     28314     28959     29547     2000   \n",
       "5      0      8617      5670     35835     20940     19146     19131     2000   \n",
       "\n",
       "        X19      X20      X21      X22      X23                          Y  \n",
       "ID PAY_AMT2 PAY_AMT3 PAY_AMT4 PAY_AMT5 PAY_AMT6 default payment next month  \n",
       "1       689        0        0        0        0                          1  \n",
       "2      1000     1000     1000        0     2000                          1  \n",
       "3      1500     1000     1000     1000     5000                          0  \n",
       "4      2019     1200     1100     1069     1000                          0  \n",
       "5     36681    10000     9000      689      679                          0  "
      ]
     },
     "execution_count": 2,
     "metadata": {
      "tags": []
     },
     "output_type": "execute_result"
    }
   ],
   "source": [
    "df.head()"
   ]
  },
  {
   "cell_type": "markdown",
   "metadata": {
    "id": "PZwJvy5EBNjc"
   },
   "source": [
    "## 2. <a name=\"2\">Exploratory Data Analysis</a>\n",
    "(<a href=\"#0\">Go to top</a>)"
   ]
  },
  {
   "cell_type": "code",
   "execution_count": 3,
   "metadata": {
    "colab": {
     "base_uri": "https://localhost:8080/"
    },
    "id": "A19bG0O-CDLz",
    "outputId": "7aac4e9f-b2a5-49f2-8707-b2a3ed27b674"
   },
   "outputs": [
    {
     "name": "stdout",
     "output_type": "stream",
     "text": [
      "<class 'pandas.core.frame.DataFrame'>\n",
      "Int64Index: 30000 entries, 1 to 30000\n",
      "Data columns (total 24 columns):\n",
      " #   Column                           Non-Null Count  Dtype \n",
      "---  ------                           --------------  ----- \n",
      " 0   (X1, LIMIT_BAL)                  30000 non-null  int64 \n",
      " 1   (X2, SEX)                        30000 non-null  object\n",
      " 2   (X3, EDUCATION)                  29669 non-null  object\n",
      " 3   (X4, MARRIAGE)                   29677 non-null  object\n",
      " 4   (X5, AGE)                        30000 non-null  int64 \n",
      " 5   (X6, PAY_0)                      30000 non-null  int64 \n",
      " 6   (X7, PAY_2)                      30000 non-null  int64 \n",
      " 7   (X8, PAY_3)                      30000 non-null  int64 \n",
      " 8   (X9, PAY_4)                      30000 non-null  int64 \n",
      " 9   (X10, PAY_5)                     30000 non-null  int64 \n",
      " 10  (X11, PAY_6)                     30000 non-null  int64 \n",
      " 11  (X12, BILL_AMT1)                 30000 non-null  int64 \n",
      " 12  (X13, BILL_AMT2)                 30000 non-null  int64 \n",
      " 13  (X14, BILL_AMT3)                 30000 non-null  int64 \n",
      " 14  (X15, BILL_AMT4)                 30000 non-null  int64 \n",
      " 15  (X16, BILL_AMT5)                 30000 non-null  int64 \n",
      " 16  (X17, BILL_AMT6)                 30000 non-null  int64 \n",
      " 17  (X18, PAY_AMT1)                  30000 non-null  int64 \n",
      " 18  (X19, PAY_AMT2)                  30000 non-null  int64 \n",
      " 19  (X20, PAY_AMT3)                  30000 non-null  int64 \n",
      " 20  (X21, PAY_AMT4)                  30000 non-null  int64 \n",
      " 21  (X22, PAY_AMT5)                  30000 non-null  int64 \n",
      " 22  (X23, PAY_AMT6)                  30000 non-null  int64 \n",
      " 23  (Y, default payment next month)  30000 non-null  int64 \n",
      "dtypes: int64(21), object(3)\n",
      "memory usage: 5.7+ MB\n"
     ]
    }
   ],
   "source": [
    "df.info()"
   ]
  },
  {
   "cell_type": "markdown",
   "metadata": {
    "id": "RzaBW7EVBNjh"
   },
   "source": [
    "Let's modify some of the data type"
   ]
  },
  {
   "cell_type": "code",
   "execution_count": 4,
   "metadata": {
    "id": "lkq7aMoPBNjk"
   },
   "outputs": [],
   "source": [
    "for col in ['X1','X12','X13','X14','X15','X16','X17','X18','X19','X20','X21','X22','X23']:\n",
    "    df[col] = df[col].astype('float64')"
   ]
  },
  {
   "cell_type": "code",
   "execution_count": 5,
   "metadata": {
    "colab": {
     "base_uri": "https://localhost:8080/"
    },
    "id": "GPolLJu7BNjn",
    "outputId": "e3f5fd1b-e7cb-48d5-e197-f011129e80a8"
   },
   "outputs": [
    {
     "name": "stdout",
     "output_type": "stream",
     "text": [
      "<class 'pandas.core.frame.DataFrame'>\n",
      "Int64Index: 30000 entries, 1 to 30000\n",
      "Data columns (total 24 columns):\n",
      " #   Column                           Non-Null Count  Dtype  \n",
      "---  ------                           --------------  -----  \n",
      " 0   (X1, LIMIT_BAL)                  30000 non-null  float64\n",
      " 1   (X2, SEX)                        30000 non-null  object \n",
      " 2   (X3, EDUCATION)                  29669 non-null  object \n",
      " 3   (X4, MARRIAGE)                   29677 non-null  object \n",
      " 4   (X5, AGE)                        30000 non-null  int64  \n",
      " 5   (X6, PAY_0)                      30000 non-null  int64  \n",
      " 6   (X7, PAY_2)                      30000 non-null  int64  \n",
      " 7   (X8, PAY_3)                      30000 non-null  int64  \n",
      " 8   (X9, PAY_4)                      30000 non-null  int64  \n",
      " 9   (X10, PAY_5)                     30000 non-null  int64  \n",
      " 10  (X11, PAY_6)                     30000 non-null  int64  \n",
      " 11  (X12, BILL_AMT1)                 30000 non-null  float64\n",
      " 12  (X13, BILL_AMT2)                 30000 non-null  float64\n",
      " 13  (X14, BILL_AMT3)                 30000 non-null  float64\n",
      " 14  (X15, BILL_AMT4)                 30000 non-null  float64\n",
      " 15  (X16, BILL_AMT5)                 30000 non-null  float64\n",
      " 16  (X17, BILL_AMT6)                 30000 non-null  float64\n",
      " 17  (X18, PAY_AMT1)                  30000 non-null  float64\n",
      " 18  (X19, PAY_AMT2)                  30000 non-null  float64\n",
      " 19  (X20, PAY_AMT3)                  30000 non-null  float64\n",
      " 20  (X21, PAY_AMT4)                  30000 non-null  float64\n",
      " 21  (X22, PAY_AMT5)                  30000 non-null  float64\n",
      " 22  (X23, PAY_AMT6)                  30000 non-null  float64\n",
      " 23  (Y, default payment next month)  30000 non-null  int64  \n",
      "dtypes: float64(13), int64(8), object(3)\n",
      "memory usage: 5.7+ MB\n"
     ]
    }
   ],
   "source": [
    "df.info()"
   ]
  },
  {
   "cell_type": "code",
   "execution_count": 6,
   "metadata": {
    "colab": {
     "base_uri": "https://localhost:8080/",
     "height": 373
    },
    "id": "xnMkBpFBCDL5",
    "outputId": "3a7d1f13-a7f4-4e38-b9e2-628cc5f54706",
    "scrolled": true
   },
   "outputs": [
    {
     "data": {
      "text/html": [
       "<div>\n",
       "<style scoped>\n",
       "    .dataframe tbody tr th:only-of-type {\n",
       "        vertical-align: middle;\n",
       "    }\n",
       "\n",
       "    .dataframe tbody tr th {\n",
       "        vertical-align: top;\n",
       "    }\n",
       "\n",
       "    .dataframe thead tr th {\n",
       "        text-align: left;\n",
       "    }\n",
       "</style>\n",
       "<table border=\"1\" class=\"dataframe\">\n",
       "  <thead>\n",
       "    <tr>\n",
       "      <th></th>\n",
       "      <th>X1</th>\n",
       "      <th>X5</th>\n",
       "      <th>X6</th>\n",
       "      <th>X7</th>\n",
       "      <th>X8</th>\n",
       "      <th>X9</th>\n",
       "      <th>X10</th>\n",
       "      <th>X11</th>\n",
       "      <th>X12</th>\n",
       "      <th>X13</th>\n",
       "      <th>X14</th>\n",
       "      <th>X15</th>\n",
       "      <th>X16</th>\n",
       "      <th>X17</th>\n",
       "      <th>X18</th>\n",
       "      <th>X19</th>\n",
       "      <th>X20</th>\n",
       "      <th>X21</th>\n",
       "      <th>X22</th>\n",
       "      <th>X23</th>\n",
       "      <th>Y</th>\n",
       "    </tr>\n",
       "    <tr>\n",
       "      <th>ID</th>\n",
       "      <th>LIMIT_BAL</th>\n",
       "      <th>AGE</th>\n",
       "      <th>PAY_0</th>\n",
       "      <th>PAY_2</th>\n",
       "      <th>PAY_3</th>\n",
       "      <th>PAY_4</th>\n",
       "      <th>PAY_5</th>\n",
       "      <th>PAY_6</th>\n",
       "      <th>BILL_AMT1</th>\n",
       "      <th>BILL_AMT2</th>\n",
       "      <th>BILL_AMT3</th>\n",
       "      <th>BILL_AMT4</th>\n",
       "      <th>BILL_AMT5</th>\n",
       "      <th>BILL_AMT6</th>\n",
       "      <th>PAY_AMT1</th>\n",
       "      <th>PAY_AMT2</th>\n",
       "      <th>PAY_AMT3</th>\n",
       "      <th>PAY_AMT4</th>\n",
       "      <th>PAY_AMT5</th>\n",
       "      <th>PAY_AMT6</th>\n",
       "      <th>default payment next month</th>\n",
       "    </tr>\n",
       "  </thead>\n",
       "  <tbody>\n",
       "    <tr>\n",
       "      <th>count</th>\n",
       "      <td>30000.000000</td>\n",
       "      <td>30000.000000</td>\n",
       "      <td>30000.000000</td>\n",
       "      <td>30000.000000</td>\n",
       "      <td>30000.000000</td>\n",
       "      <td>30000.000000</td>\n",
       "      <td>30000.000000</td>\n",
       "      <td>30000.000000</td>\n",
       "      <td>30000.000000</td>\n",
       "      <td>30000.000000</td>\n",
       "      <td>3.000000e+04</td>\n",
       "      <td>30000.000000</td>\n",
       "      <td>30000.000000</td>\n",
       "      <td>30000.000000</td>\n",
       "      <td>30000.000000</td>\n",
       "      <td>3.000000e+04</td>\n",
       "      <td>30000.00000</td>\n",
       "      <td>30000.000000</td>\n",
       "      <td>30000.000000</td>\n",
       "      <td>30000.000000</td>\n",
       "      <td>30000.000000</td>\n",
       "    </tr>\n",
       "    <tr>\n",
       "      <th>mean</th>\n",
       "      <td>167484.322667</td>\n",
       "      <td>35.518833</td>\n",
       "      <td>-0.016700</td>\n",
       "      <td>-0.133767</td>\n",
       "      <td>-0.166200</td>\n",
       "      <td>-0.220667</td>\n",
       "      <td>-0.266200</td>\n",
       "      <td>-0.291100</td>\n",
       "      <td>51223.330900</td>\n",
       "      <td>49179.075167</td>\n",
       "      <td>4.701315e+04</td>\n",
       "      <td>43262.948967</td>\n",
       "      <td>40311.400967</td>\n",
       "      <td>38871.760400</td>\n",
       "      <td>5663.580500</td>\n",
       "      <td>5.921163e+03</td>\n",
       "      <td>5225.68150</td>\n",
       "      <td>4826.076867</td>\n",
       "      <td>4799.387633</td>\n",
       "      <td>5215.502567</td>\n",
       "      <td>0.221200</td>\n",
       "    </tr>\n",
       "    <tr>\n",
       "      <th>std</th>\n",
       "      <td>129747.661567</td>\n",
       "      <td>9.528019</td>\n",
       "      <td>1.123802</td>\n",
       "      <td>1.197186</td>\n",
       "      <td>1.196868</td>\n",
       "      <td>1.169139</td>\n",
       "      <td>1.133187</td>\n",
       "      <td>1.149988</td>\n",
       "      <td>73635.860576</td>\n",
       "      <td>71173.768783</td>\n",
       "      <td>6.934939e+04</td>\n",
       "      <td>64332.856134</td>\n",
       "      <td>60797.155770</td>\n",
       "      <td>59554.107537</td>\n",
       "      <td>16563.280354</td>\n",
       "      <td>2.304087e+04</td>\n",
       "      <td>17606.96147</td>\n",
       "      <td>15666.159744</td>\n",
       "      <td>15278.305679</td>\n",
       "      <td>17777.465775</td>\n",
       "      <td>0.415062</td>\n",
       "    </tr>\n",
       "    <tr>\n",
       "      <th>min</th>\n",
       "      <td>10000.000000</td>\n",
       "      <td>21.000000</td>\n",
       "      <td>-2.000000</td>\n",
       "      <td>-2.000000</td>\n",
       "      <td>-2.000000</td>\n",
       "      <td>-2.000000</td>\n",
       "      <td>-2.000000</td>\n",
       "      <td>-2.000000</td>\n",
       "      <td>-165580.000000</td>\n",
       "      <td>-69777.000000</td>\n",
       "      <td>-1.572640e+05</td>\n",
       "      <td>-170000.000000</td>\n",
       "      <td>-81334.000000</td>\n",
       "      <td>-339603.000000</td>\n",
       "      <td>0.000000</td>\n",
       "      <td>0.000000e+00</td>\n",
       "      <td>0.00000</td>\n",
       "      <td>0.000000</td>\n",
       "      <td>0.000000</td>\n",
       "      <td>0.000000</td>\n",
       "      <td>0.000000</td>\n",
       "    </tr>\n",
       "    <tr>\n",
       "      <th>25%</th>\n",
       "      <td>50000.000000</td>\n",
       "      <td>28.000000</td>\n",
       "      <td>-1.000000</td>\n",
       "      <td>-1.000000</td>\n",
       "      <td>-1.000000</td>\n",
       "      <td>-1.000000</td>\n",
       "      <td>-1.000000</td>\n",
       "      <td>-1.000000</td>\n",
       "      <td>3558.750000</td>\n",
       "      <td>2984.750000</td>\n",
       "      <td>2.666250e+03</td>\n",
       "      <td>2326.750000</td>\n",
       "      <td>1763.000000</td>\n",
       "      <td>1256.000000</td>\n",
       "      <td>1000.000000</td>\n",
       "      <td>8.330000e+02</td>\n",
       "      <td>390.00000</td>\n",
       "      <td>296.000000</td>\n",
       "      <td>252.500000</td>\n",
       "      <td>117.750000</td>\n",
       "      <td>0.000000</td>\n",
       "    </tr>\n",
       "    <tr>\n",
       "      <th>50%</th>\n",
       "      <td>140000.000000</td>\n",
       "      <td>34.000000</td>\n",
       "      <td>0.000000</td>\n",
       "      <td>0.000000</td>\n",
       "      <td>0.000000</td>\n",
       "      <td>0.000000</td>\n",
       "      <td>0.000000</td>\n",
       "      <td>0.000000</td>\n",
       "      <td>22381.500000</td>\n",
       "      <td>21200.000000</td>\n",
       "      <td>2.008850e+04</td>\n",
       "      <td>19052.000000</td>\n",
       "      <td>18104.500000</td>\n",
       "      <td>17071.000000</td>\n",
       "      <td>2100.000000</td>\n",
       "      <td>2.009000e+03</td>\n",
       "      <td>1800.00000</td>\n",
       "      <td>1500.000000</td>\n",
       "      <td>1500.000000</td>\n",
       "      <td>1500.000000</td>\n",
       "      <td>0.000000</td>\n",
       "    </tr>\n",
       "    <tr>\n",
       "      <th>75%</th>\n",
       "      <td>240000.000000</td>\n",
       "      <td>41.000000</td>\n",
       "      <td>0.000000</td>\n",
       "      <td>0.000000</td>\n",
       "      <td>0.000000</td>\n",
       "      <td>0.000000</td>\n",
       "      <td>0.000000</td>\n",
       "      <td>0.000000</td>\n",
       "      <td>67091.000000</td>\n",
       "      <td>64006.250000</td>\n",
       "      <td>6.016475e+04</td>\n",
       "      <td>54506.000000</td>\n",
       "      <td>50190.500000</td>\n",
       "      <td>49198.250000</td>\n",
       "      <td>5006.000000</td>\n",
       "      <td>5.000000e+03</td>\n",
       "      <td>4505.00000</td>\n",
       "      <td>4013.250000</td>\n",
       "      <td>4031.500000</td>\n",
       "      <td>4000.000000</td>\n",
       "      <td>0.000000</td>\n",
       "    </tr>\n",
       "    <tr>\n",
       "      <th>max</th>\n",
       "      <td>1000000.000000</td>\n",
       "      <td>267.000000</td>\n",
       "      <td>8.000000</td>\n",
       "      <td>8.000000</td>\n",
       "      <td>8.000000</td>\n",
       "      <td>8.000000</td>\n",
       "      <td>8.000000</td>\n",
       "      <td>8.000000</td>\n",
       "      <td>964511.000000</td>\n",
       "      <td>983931.000000</td>\n",
       "      <td>1.664089e+06</td>\n",
       "      <td>891586.000000</td>\n",
       "      <td>927171.000000</td>\n",
       "      <td>961664.000000</td>\n",
       "      <td>873552.000000</td>\n",
       "      <td>1.684259e+06</td>\n",
       "      <td>896040.00000</td>\n",
       "      <td>621000.000000</td>\n",
       "      <td>426529.000000</td>\n",
       "      <td>528666.000000</td>\n",
       "      <td>1.000000</td>\n",
       "    </tr>\n",
       "  </tbody>\n",
       "</table>\n",
       "</div>"
      ],
      "text/plain": [
       "                   X1            X5            X6            X7            X8  \\\n",
       "ID          LIMIT_BAL           AGE         PAY_0         PAY_2         PAY_3   \n",
       "count    30000.000000  30000.000000  30000.000000  30000.000000  30000.000000   \n",
       "mean    167484.322667     35.518833     -0.016700     -0.133767     -0.166200   \n",
       "std     129747.661567      9.528019      1.123802      1.197186      1.196868   \n",
       "min      10000.000000     21.000000     -2.000000     -2.000000     -2.000000   \n",
       "25%      50000.000000     28.000000     -1.000000     -1.000000     -1.000000   \n",
       "50%     140000.000000     34.000000      0.000000      0.000000      0.000000   \n",
       "75%     240000.000000     41.000000      0.000000      0.000000      0.000000   \n",
       "max    1000000.000000    267.000000      8.000000      8.000000      8.000000   \n",
       "\n",
       "                 X9           X10           X11            X12            X13  \\\n",
       "ID            PAY_4         PAY_5         PAY_6      BILL_AMT1      BILL_AMT2   \n",
       "count  30000.000000  30000.000000  30000.000000   30000.000000   30000.000000   \n",
       "mean      -0.220667     -0.266200     -0.291100   51223.330900   49179.075167   \n",
       "std        1.169139      1.133187      1.149988   73635.860576   71173.768783   \n",
       "min       -2.000000     -2.000000     -2.000000 -165580.000000  -69777.000000   \n",
       "25%       -1.000000     -1.000000     -1.000000    3558.750000    2984.750000   \n",
       "50%        0.000000      0.000000      0.000000   22381.500000   21200.000000   \n",
       "75%        0.000000      0.000000      0.000000   67091.000000   64006.250000   \n",
       "max        8.000000      8.000000      8.000000  964511.000000  983931.000000   \n",
       "\n",
       "                X14            X15            X16            X17  \\\n",
       "ID        BILL_AMT3      BILL_AMT4      BILL_AMT5      BILL_AMT6   \n",
       "count  3.000000e+04   30000.000000   30000.000000   30000.000000   \n",
       "mean   4.701315e+04   43262.948967   40311.400967   38871.760400   \n",
       "std    6.934939e+04   64332.856134   60797.155770   59554.107537   \n",
       "min   -1.572640e+05 -170000.000000  -81334.000000 -339603.000000   \n",
       "25%    2.666250e+03    2326.750000    1763.000000    1256.000000   \n",
       "50%    2.008850e+04   19052.000000   18104.500000   17071.000000   \n",
       "75%    6.016475e+04   54506.000000   50190.500000   49198.250000   \n",
       "max    1.664089e+06  891586.000000  927171.000000  961664.000000   \n",
       "\n",
       "                 X18           X19           X20            X21  \\\n",
       "ID          PAY_AMT1      PAY_AMT2      PAY_AMT3       PAY_AMT4   \n",
       "count   30000.000000  3.000000e+04   30000.00000   30000.000000   \n",
       "mean     5663.580500  5.921163e+03    5225.68150    4826.076867   \n",
       "std     16563.280354  2.304087e+04   17606.96147   15666.159744   \n",
       "min         0.000000  0.000000e+00       0.00000       0.000000   \n",
       "25%      1000.000000  8.330000e+02     390.00000     296.000000   \n",
       "50%      2100.000000  2.009000e+03    1800.00000    1500.000000   \n",
       "75%      5006.000000  5.000000e+03    4505.00000    4013.250000   \n",
       "max    873552.000000  1.684259e+06  896040.00000  621000.000000   \n",
       "\n",
       "                 X22            X23                          Y  \n",
       "ID          PAY_AMT5       PAY_AMT6 default payment next month  \n",
       "count   30000.000000   30000.000000               30000.000000  \n",
       "mean     4799.387633    5215.502567                   0.221200  \n",
       "std     15278.305679   17777.465775                   0.415062  \n",
       "min         0.000000       0.000000                   0.000000  \n",
       "25%       252.500000     117.750000                   0.000000  \n",
       "50%      1500.000000    1500.000000                   0.000000  \n",
       "75%      4031.500000    4000.000000                   0.000000  \n",
       "max    426529.000000  528666.000000                   1.000000  "
      ]
     },
     "execution_count": 6,
     "metadata": {
      "tags": []
     },
     "output_type": "execute_result"
    }
   ],
   "source": [
    "# print basic statistics for numerical columns\n",
    "df.describe()"
   ]
  },
  {
   "cell_type": "markdown",
   "metadata": {
    "id": "4aaEH05OBNjt"
   },
   "source": [
    "Let's visualize the dataset to have overall overview"
   ]
  },
  {
   "cell_type": "code",
   "execution_count": 7,
   "metadata": {
    "colab": {
     "base_uri": "https://localhost:8080/",
     "height": 1000
    },
    "id": "479Le-ZiCDMn",
    "outputId": "dab2c43f-ff5b-4aab-ec30-7ce31297fb69",
    "scrolled": true
   },
   "outputs": [
    {
     "data": {
      "image/png": "[encoded data removed]",
      "text/plain": [
       "<Figure size 1440x1440 with 25 Axes>"
      ]
     },
     "metadata": {
      "needs_background": "light",
      "tags": []
     },
     "output_type": "display_data"
    }
   ],
   "source": [
    "df.hist(figsize=(20,20), bins=20);"
   ]
  },
  {
   "cell_type": "code",
   "execution_count": 8,
   "metadata": {
    "colab": {
     "base_uri": "https://localhost:8080/"
    },
    "id": "l_lxN99_BNjw",
    "outputId": "9bd02efc-7e4c-43d3-a3d6-ed1d6a4f9c7f"
   },
   "outputs": [
    {
     "data": {
      "text/plain": [
       "AGE\n",
       "267       1\n",
       "228       1\n",
       "140       1\n",
       "152       1\n",
       "74        1\n",
       "       ... \n",
       "26     1255\n",
       "30     1395\n",
       "28     1408\n",
       "27     1477\n",
       "29     1605\n",
       "Length: 63, dtype: int64"
      ]
     },
     "execution_count": 8,
     "metadata": {
      "tags": []
     },
     "output_type": "execute_result"
    }
   ],
   "source": [
    "df['X5'].value_counts().sort_values()"
   ]
  },
  {
   "cell_type": "markdown",
   "metadata": {
    "id": "Q-Naxl3WBNjy"
   },
   "source": [
    "It's obvious that we have outliers in age column at 267, 228, 235, 140, 149, 152 and 126, Let's modify these values, here I removed the two hundreds and one hundred value cause I think it has been added by mistak   "
   ]
  },
  {
   "cell_type": "code",
   "execution_count": 9,
   "metadata": {
    "id": "ZIMmJdvVBNj0"
   },
   "outputs": [],
   "source": [
    "df['X5'] = df['X5'].replace([267,228,235,140,149,152,126],[67,28,35,40,49,52,26])"
   ]
  },
  {
   "cell_type": "code",
   "execution_count": 10,
   "metadata": {
    "colab": {
     "base_uri": "https://localhost:8080/"
    },
    "id": "n04pX-hDBNj1",
    "outputId": "539c27ee-5393-43b9-d416-baf7619cbf20"
   },
   "outputs": [
    {
     "data": {
      "text/plain": [
       "AGE\n",
       "79        1\n",
       "74        1\n",
       "75        3\n",
       "72        3\n",
       "71        3\n",
       "73        4\n",
       "68        5\n",
       "70       10\n",
       "69       15\n",
       "67       16\n",
       "65       24\n",
       "66       25\n",
       "64       31\n",
       "63       31\n",
       "62       44\n",
       "61       56\n",
       "60       67\n",
       "21       67\n",
       "59       83\n",
       "57      122\n",
       "58      122\n",
       "56      178\n",
       "55      209\n",
       "54      247\n",
       "52      304\n",
       "53      325\n",
       "51      340\n",
       "50      411\n",
       "49      452\n",
       "48      466\n",
       "47      501\n",
       "22      560\n",
       "46      570\n",
       "45      617\n",
       "43      670\n",
       "44      700\n",
       "42      794\n",
       "41      824\n",
       "40      870\n",
       "23      931\n",
       "38      944\n",
       "39      954\n",
       "37     1041\n",
       "36     1108\n",
       "35     1113\n",
       "24     1127\n",
       "33     1146\n",
       "32     1158\n",
       "34     1162\n",
       "25     1186\n",
       "31     1217\n",
       "26     1256\n",
       "30     1395\n",
       "28     1409\n",
       "27     1477\n",
       "29     1605\n",
       "dtype: int64"
      ]
     },
     "execution_count": 10,
     "metadata": {
      "tags": []
     },
     "output_type": "execute_result"
    }
   ],
   "source": [
    "df['X5'].value_counts().sort_values()"
   ]
  },
  {
   "cell_type": "code",
   "execution_count": 11,
   "metadata": {
    "colab": {
     "base_uri": "https://localhost:8080/"
    },
    "id": "MPiaKT6-C08b",
    "outputId": "33f41a6a-5395-4730-cc87-6c5dc134fe79"
   },
   "outputs": [
    {
     "data": {
      "text/plain": [
       "     ID                        \n",
       "X1   LIMIT_BAL                       0\n",
       "X2   SEX                             0\n",
       "X3   EDUCATION                     331\n",
       "X4   MARRIAGE                      323\n",
       "X5   AGE                             0\n",
       "X6   PAY_0                           0\n",
       "X7   PAY_2                           0\n",
       "X8   PAY_3                           0\n",
       "X9   PAY_4                           0\n",
       "X10  PAY_5                           0\n",
       "X11  PAY_6                           0\n",
       "X12  BILL_AMT1                       0\n",
       "X13  BILL_AMT2                       0\n",
       "X14  BILL_AMT3                       0\n",
       "X15  BILL_AMT4                       0\n",
       "X16  BILL_AMT5                       0\n",
       "X17  BILL_AMT6                       0\n",
       "X18  PAY_AMT1                        0\n",
       "X19  PAY_AMT2                        0\n",
       "X20  PAY_AMT3                        0\n",
       "X21  PAY_AMT4                        0\n",
       "X22  PAY_AMT5                        0\n",
       "X23  PAY_AMT6                        0\n",
       "Y    default payment next month      0\n",
       "dtype: int64"
      ]
     },
     "execution_count": 11,
     "metadata": {
      "tags": []
     },
     "output_type": "execute_result"
    }
   ],
   "source": [
    "df.isna().sum()"
   ]
  },
  {
   "cell_type": "code",
   "execution_count": 12,
   "metadata": {
    "colab": {
     "base_uri": "https://localhost:8080/"
    },
    "id": "SdLhuqsXBNj6",
    "outputId": "7bc118f5-56ff-4522-eb2f-d7816ce36ee7"
   },
   "outputs": [
    {
     "data": {
      "text/plain": [
       "EDUCATION      \n",
       "university         14030\n",
       "graduate school    10585\n",
       "high school         4916\n",
       "others               124\n",
       "0                     14\n",
       "dtype: int64"
      ]
     },
     "execution_count": 12,
     "metadata": {
      "tags": []
     },
     "output_type": "execute_result"
    }
   ],
   "source": [
    "df['X3'].value_counts()"
   ]
  },
  {
   "cell_type": "code",
   "execution_count": 13,
   "metadata": {
    "colab": {
     "base_uri": "https://localhost:8080/"
    },
    "id": "fbkAaL4_BNj8",
    "outputId": "006e52f7-e389-4e12-ad45-98c241b95c98",
    "scrolled": true
   },
   "outputs": [
    {
     "data": {
      "text/plain": [
       "MARRIAGE\n",
       "single      15964\n",
       "married     13659\n",
       "0              54\n",
       "dtype: int64"
      ]
     },
     "execution_count": 13,
     "metadata": {
      "tags": []
     },
     "output_type": "execute_result"
    }
   ],
   "source": [
    "df['X4'].value_counts()"
   ]
  },
  {
   "cell_type": "markdown",
   "metadata": {
    "id": "KwSXRVAiBNj-"
   },
   "source": [
    "Let's fill the missing values with the most frequent in EDUCATION and MARRIAGE"
   ]
  },
  {
   "cell_type": "code",
   "execution_count": 14,
   "metadata": {
    "id": "fcltldsmBNj_"
   },
   "outputs": [],
   "source": [
    "df['X3'] = df['X3'].fillna(df['X3'].mode().iloc[0])"
   ]
  },
  {
   "cell_type": "code",
   "execution_count": 15,
   "metadata": {
    "id": "Es7PxvArBNkA"
   },
   "outputs": [],
   "source": [
    "df['X4'] = df['X4'].fillna(df['X4'].mode().iloc[0])"
   ]
  },
  {
   "cell_type": "code",
   "execution_count": 16,
   "metadata": {
    "colab": {
     "base_uri": "https://localhost:8080/"
    },
    "id": "DxTblBeCBNkB",
    "outputId": "16f91193-26ef-47f5-83c7-7d96e6c761f3"
   },
   "outputs": [
    {
     "data": {
      "text/plain": [
       "     ID                        \n",
       "X1   LIMIT_BAL                     0\n",
       "X2   SEX                           0\n",
       "X3   EDUCATION                     0\n",
       "X4   MARRIAGE                      0\n",
       "X5   AGE                           0\n",
       "X6   PAY_0                         0\n",
       "X7   PAY_2                         0\n",
       "X8   PAY_3                         0\n",
       "X9   PAY_4                         0\n",
       "X10  PAY_5                         0\n",
       "X11  PAY_6                         0\n",
       "X12  BILL_AMT1                     0\n",
       "X13  BILL_AMT2                     0\n",
       "X14  BILL_AMT3                     0\n",
       "X15  BILL_AMT4                     0\n",
       "X16  BILL_AMT5                     0\n",
       "X17  BILL_AMT6                     0\n",
       "X18  PAY_AMT1                      0\n",
       "X19  PAY_AMT2                      0\n",
       "X20  PAY_AMT3                      0\n",
       "X21  PAY_AMT4                      0\n",
       "X22  PAY_AMT5                      0\n",
       "X23  PAY_AMT6                      0\n",
       "Y    default payment next month    0\n",
       "dtype: int64"
      ]
     },
     "execution_count": 16,
     "metadata": {
      "tags": []
     },
     "output_type": "execute_result"
    }
   ],
   "source": [
    "df.isna().sum()"
   ]
  },
  {
   "cell_type": "markdown",
   "metadata": {
    "id": "F-snWZrTBNkE"
   },
   "source": [
    "I have noticed that EDUCATION and MARRIAGE have a labels 0 that is undocumented, let's replace it with others."
   ]
  },
  {
   "cell_type": "code",
   "execution_count": 17,
   "metadata": {
    "id": "P_gBxJ_GBNkF"
   },
   "outputs": [],
   "source": [
    "df['X3'] = df['X3'].replace(0,'others')"
   ]
  },
  {
   "cell_type": "code",
   "execution_count": 18,
   "metadata": {
    "colab": {
     "base_uri": "https://localhost:8080/"
    },
    "id": "UDkeSSxjBNkG",
    "outputId": "a9940aa0-1644-40a9-e8c6-071ffb206ff6"
   },
   "outputs": [
    {
     "data": {
      "text/plain": [
       "EDUCATION      \n",
       "university         14361\n",
       "graduate school    10585\n",
       "high school         4916\n",
       "others               138\n",
       "dtype: int64"
      ]
     },
     "execution_count": 18,
     "metadata": {
      "tags": []
     },
     "output_type": "execute_result"
    }
   ],
   "source": [
    "df['X3'].value_counts()"
   ]
  },
  {
   "cell_type": "code",
   "execution_count": 19,
   "metadata": {
    "id": "o8Iho9jYBNkI"
   },
   "outputs": [],
   "source": [
    "df['X4'] = df['X4'].replace(0,'others')"
   ]
  },
  {
   "cell_type": "code",
   "execution_count": 20,
   "metadata": {
    "colab": {
     "base_uri": "https://localhost:8080/"
    },
    "id": "CF6SAn5nBNkJ",
    "outputId": "d223cab5-4ef4-4f40-f3d3-e50bb4c111d1"
   },
   "outputs": [
    {
     "data": {
      "text/plain": [
       "MARRIAGE\n",
       "single      16287\n",
       "married     13659\n",
       "others         54\n",
       "dtype: int64"
      ]
     },
     "execution_count": 20,
     "metadata": {
      "tags": []
     },
     "output_type": "execute_result"
    }
   ],
   "source": [
    "df['X4'].value_counts()"
   ]
  },
  {
   "cell_type": "code",
   "execution_count": 21,
   "metadata": {
    "colab": {
     "base_uri": "https://localhost:8080/"
    },
    "id": "yyUtbLCvCDMw",
    "outputId": "1dedea8f-dca7-4ee8-ccfd-f41c0e5a28cc"
   },
   "outputs": [
    {
     "data": {
      "text/plain": [
       "     ID                        \n",
       "X1   LIMIT_BAL                        81\n",
       "X2   SEX                               2\n",
       "X3   EDUCATION                         4\n",
       "X4   MARRIAGE                          3\n",
       "X5   AGE                              56\n",
       "X6   PAY_0                            11\n",
       "X7   PAY_2                            11\n",
       "X8   PAY_3                            11\n",
       "X9   PAY_4                            11\n",
       "X10  PAY_5                            10\n",
       "X11  PAY_6                            10\n",
       "X12  BILL_AMT1                     22723\n",
       "X13  BILL_AMT2                     22346\n",
       "X14  BILL_AMT3                     22026\n",
       "X15  BILL_AMT4                     21548\n",
       "X16  BILL_AMT5                     21010\n",
       "X17  BILL_AMT6                     20604\n",
       "X18  PAY_AMT1                       7943\n",
       "X19  PAY_AMT2                       7899\n",
       "X20  PAY_AMT3                       7518\n",
       "X21  PAY_AMT4                       6937\n",
       "X22  PAY_AMT5                       6897\n",
       "X23  PAY_AMT6                       6939\n",
       "Y    default payment next month        2\n",
       "dtype: int64"
      ]
     },
     "execution_count": 21,
     "metadata": {
      "tags": []
     },
     "output_type": "execute_result"
    }
   ],
   "source": [
    "# Number of unique elements in dataset\n",
    "df.nunique()"
   ]
  },
  {
   "cell_type": "code",
   "execution_count": 22,
   "metadata": {
    "colab": {
     "base_uri": "https://localhost:8080/"
    },
    "id": "JRaEoIuJCDNz",
    "outputId": "59a4c560-fb33-4794-9cce-84c8797c69e6",
    "scrolled": true
   },
   "outputs": [
    {
     "data": {
      "text/plain": [
       "36"
      ]
     },
     "execution_count": 22,
     "metadata": {
      "tags": []
     },
     "output_type": "execute_result"
    }
   ],
   "source": [
    "df.duplicated().sum()"
   ]
  },
  {
   "cell_type": "code",
   "execution_count": 23,
   "metadata": {
    "id": "iRXAZK1mDrWD"
   },
   "outputs": [],
   "source": [
    "df.drop_duplicates(inplace=True)"
   ]
  },
  {
   "cell_type": "code",
   "execution_count": 24,
   "metadata": {
    "colab": {
     "base_uri": "https://localhost:8080/"
    },
    "id": "gdaUoTG0Dvhe",
    "outputId": "289d0326-fc9c-4bde-a252-ac937595ce14"
   },
   "outputs": [
    {
     "data": {
      "text/plain": [
       "0"
      ]
     },
     "execution_count": 24,
     "metadata": {
      "tags": []
     },
     "output_type": "execute_result"
    }
   ],
   "source": [
    "df.duplicated().sum()"
   ]
  },
  {
   "cell_type": "code",
   "execution_count": 25,
   "metadata": {
    "colab": {
     "base_uri": "https://localhost:8080/"
    },
    "id": "6QPmNNchCDOJ",
    "outputId": "cc65dcac-b8c4-4bf7-800d-326198c27a84"
   },
   "outputs": [
    {
     "name": "stdout",
     "output_type": "stream",
     "text": [
      "<class 'pandas.core.frame.DataFrame'>\n",
      "Int64Index: 29964 entries, 1 to 30000\n",
      "Data columns (total 24 columns):\n",
      " #   Column                           Non-Null Count  Dtype  \n",
      "---  ------                           --------------  -----  \n",
      " 0   (X1, LIMIT_BAL)                  29964 non-null  float64\n",
      " 1   (X2, SEX)                        29964 non-null  object \n",
      " 2   (X3, EDUCATION)                  29964 non-null  object \n",
      " 3   (X4, MARRIAGE)                   29964 non-null  object \n",
      " 4   (X5, AGE)                        29964 non-null  int64  \n",
      " 5   (X6, PAY_0)                      29964 non-null  int64  \n",
      " 6   (X7, PAY_2)                      29964 non-null  int64  \n",
      " 7   (X8, PAY_3)                      29964 non-null  int64  \n",
      " 8   (X9, PAY_4)                      29964 non-null  int64  \n",
      " 9   (X10, PAY_5)                     29964 non-null  int64  \n",
      " 10  (X11, PAY_6)                     29964 non-null  int64  \n",
      " 11  (X12, BILL_AMT1)                 29964 non-null  float64\n",
      " 12  (X13, BILL_AMT2)                 29964 non-null  float64\n",
      " 13  (X14, BILL_AMT3)                 29964 non-null  float64\n",
      " 14  (X15, BILL_AMT4)                 29964 non-null  float64\n",
      " 15  (X16, BILL_AMT5)                 29964 non-null  float64\n",
      " 16  (X17, BILL_AMT6)                 29964 non-null  float64\n",
      " 17  (X18, PAY_AMT1)                  29964 non-null  float64\n",
      " 18  (X19, PAY_AMT2)                  29964 non-null  float64\n",
      " 19  (X20, PAY_AMT3)                  29964 non-null  float64\n",
      " 20  (X21, PAY_AMT4)                  29964 non-null  float64\n",
      " 21  (X22, PAY_AMT5)                  29964 non-null  float64\n",
      " 22  (X23, PAY_AMT6)                  29964 non-null  float64\n",
      " 23  (Y, default payment next month)  29964 non-null  int64  \n",
      "dtypes: float64(13), int64(8), object(3)\n",
      "memory usage: 5.7+ MB\n"
     ]
    }
   ],
   "source": [
    "df.info()"
   ]
  },
  {
   "cell_type": "markdown",
   "metadata": {
    "id": "_PcxSXdXCDOX"
   },
   "source": [
    "## 3. <a name=\"3\">Select features to build the model</a>\n",
    "(<a href=\"#0\">Go to top</a>)\n"
   ]
  },
  {
   "cell_type": "code",
   "execution_count": 26,
   "metadata": {
    "colab": {
     "base_uri": "https://localhost:8080/",
     "height": 1000
    },
    "id": "sjPuHy6HBNkU",
    "outputId": "852a1fc9-3397-422f-cb5a-0c766266fec7",
    "scrolled": true
   },
   "outputs": [
    {
     "data": {
      "text/plain": [
       "Text(0.5, 1.0, 'dataset correlation')"
      ]
     },
     "execution_count": 26,
     "metadata": {
      "tags": []
     },
     "output_type": "execute_result"
    },
    {
     "data": {
      "image/png": "[encoded data removed]",
      "text/plain": [
       "<Figure size 2304x1872 with 2 Axes>"
      ]
     },
     "metadata": {
      "needs_background": "light",
      "tags": []
     },
     "output_type": "display_data"
    }
   ],
   "source": [
    "# Display correlation \n",
    "f, ax = plt.subplots(figsize=(32, 26))\n",
    "corr = df.corr()\n",
    "mp = sns.heatmap(corr, mask=np.zeros_like(corr, dtype=np.bool), cmap=sns.diverging_palette(220, 10, as_cmap=True),\n",
    "            square=True, ax=ax, annot = True)\n",
    "mp.set_title(label='dataset correlation', fontsize=20)"
   ]
  },
  {
   "cell_type": "markdown",
   "metadata": {
    "id": "LA679krjBNkW"
   },
   "source": [
    "- BILL_AMT1, BILL_AMT2, BILL_AMT3, BILL_AMT4, BILL_AMT5, & BILL_AMT6 are highly correlated, I let them for now  "
   ]
  },
  {
   "cell_type": "markdown",
   "metadata": {
    "id": "Q9w2TPjsBNkY"
   },
   "source": [
    "Let's select our target value "
   ]
  },
  {
   "cell_type": "code",
   "execution_count": 27,
   "metadata": {
    "colab": {
     "base_uri": "https://localhost:8080/",
     "height": 407
    },
    "id": "7gJ23I6PCDOf",
    "outputId": "b5ab26e7-c831-48ce-e15e-aee1d524d663"
   },
   "outputs": [
    {
     "data": {
      "text/html": [
       "<div>\n",
       "<style scoped>\n",
       "    .dataframe tbody tr th:only-of-type {\n",
       "        vertical-align: middle;\n",
       "    }\n",
       "\n",
       "    .dataframe tbody tr th {\n",
       "        vertical-align: top;\n",
       "    }\n",
       "\n",
       "    .dataframe thead th {\n",
       "        text-align: right;\n",
       "    }\n",
       "</style>\n",
       "<table border=\"1\" class=\"dataframe\">\n",
       "  <thead>\n",
       "    <tr style=\"text-align: right;\">\n",
       "      <th>ID</th>\n",
       "      <th>default payment next month</th>\n",
       "    </tr>\n",
       "  </thead>\n",
       "  <tbody>\n",
       "    <tr>\n",
       "      <th>1</th>\n",
       "      <td>1</td>\n",
       "    </tr>\n",
       "    <tr>\n",
       "      <th>2</th>\n",
       "      <td>1</td>\n",
       "    </tr>\n",
       "    <tr>\n",
       "      <th>3</th>\n",
       "      <td>0</td>\n",
       "    </tr>\n",
       "    <tr>\n",
       "      <th>4</th>\n",
       "      <td>0</td>\n",
       "    </tr>\n",
       "    <tr>\n",
       "      <th>5</th>\n",
       "      <td>0</td>\n",
       "    </tr>\n",
       "    <tr>\n",
       "      <th>...</th>\n",
       "      <td>...</td>\n",
       "    </tr>\n",
       "    <tr>\n",
       "      <th>29996</th>\n",
       "      <td>0</td>\n",
       "    </tr>\n",
       "    <tr>\n",
       "      <th>29997</th>\n",
       "      <td>0</td>\n",
       "    </tr>\n",
       "    <tr>\n",
       "      <th>29998</th>\n",
       "      <td>1</td>\n",
       "    </tr>\n",
       "    <tr>\n",
       "      <th>29999</th>\n",
       "      <td>1</td>\n",
       "    </tr>\n",
       "    <tr>\n",
       "      <th>30000</th>\n",
       "      <td>1</td>\n",
       "    </tr>\n",
       "  </tbody>\n",
       "</table>\n",
       "<p>29964 rows × 1 columns</p>\n",
       "</div>"
      ],
      "text/plain": [
       "ID     default payment next month\n",
       "1                               1\n",
       "2                               1\n",
       "3                               0\n",
       "4                               0\n",
       "5                               0\n",
       "...                           ...\n",
       "29996                           0\n",
       "29997                           0\n",
       "29998                           1\n",
       "29999                           1\n",
       "30000                           1\n",
       "\n",
       "[29964 rows x 1 columns]"
      ]
     },
     "execution_count": 27,
     "metadata": {
      "tags": []
     },
     "output_type": "execute_result"
    }
   ],
   "source": [
    "y = df['Y']\n",
    "y"
   ]
  },
  {
   "cell_type": "code",
   "execution_count": 28,
   "metadata": {
    "colab": {
     "base_uri": "https://localhost:8080/"
    },
    "id": "2fBrQ8ZBCDOj",
    "outputId": "4b5b3060-069d-417e-ccb1-2862ceac703b"
   },
   "outputs": [
    {
     "name": "stderr",
     "output_type": "stream",
     "text": [
      "/usr/local/lib/python3.7/dist-packages/pandas/core/generic.py:3889: PerformanceWarning: dropping on a non-lexsorted multi-index without a level parameter may impact performance.\n",
      "  obj = obj._drop_axis(labels, axis, level=level, errors=errors)\n"
     ]
    }
   ],
   "source": [
    "X = df.drop('Y', axis =1)"
   ]
  },
  {
   "cell_type": "code",
   "execution_count": 29,
   "metadata": {
    "colab": {
     "base_uri": "https://localhost:8080/",
     "height": 289
    },
    "id": "hseY8U8xCDOm",
    "outputId": "c3107e7e-9edb-4cd6-f806-81c3e5570740",
    "scrolled": false
   },
   "outputs": [
    {
     "name": "stderr",
     "output_type": "stream",
     "text": [
      "/usr/local/lib/python3.7/dist-packages/pandas/core/generic.py:3889: PerformanceWarning: dropping on a non-lexsorted multi-index without a level parameter may impact performance.\n",
      "  obj = obj._drop_axis(labels, axis, level=level, errors=errors)\n"
     ]
    },
    {
     "data": {
      "text/html": [
       "<div>\n",
       "<style scoped>\n",
       "    .dataframe tbody tr th:only-of-type {\n",
       "        vertical-align: middle;\n",
       "    }\n",
       "\n",
       "    .dataframe tbody tr th {\n",
       "        vertical-align: top;\n",
       "    }\n",
       "\n",
       "    .dataframe thead th {\n",
       "        text-align: right;\n",
       "    }\n",
       "</style>\n",
       "<table border=\"1\" class=\"dataframe\">\n",
       "  <thead>\n",
       "    <tr style=\"text-align: right;\">\n",
       "      <th></th>\n",
       "      <th>(X1, LIMIT_BAL)</th>\n",
       "      <th>(X5, AGE)</th>\n",
       "      <th>(X6, PAY_0)</th>\n",
       "      <th>(X7, PAY_2)</th>\n",
       "      <th>(X8, PAY_3)</th>\n",
       "      <th>(X9, PAY_4)</th>\n",
       "      <th>(X10, PAY_5)</th>\n",
       "      <th>(X11, PAY_6)</th>\n",
       "      <th>(X12, BILL_AMT1)</th>\n",
       "      <th>(X13, BILL_AMT2)</th>\n",
       "      <th>(X14, BILL_AMT3)</th>\n",
       "      <th>(X15, BILL_AMT4)</th>\n",
       "      <th>(X16, BILL_AMT5)</th>\n",
       "      <th>(X17, BILL_AMT6)</th>\n",
       "      <th>(X18, PAY_AMT1)</th>\n",
       "      <th>(X19, PAY_AMT2)</th>\n",
       "      <th>(X20, PAY_AMT3)</th>\n",
       "      <th>(X21, PAY_AMT4)</th>\n",
       "      <th>(X22, PAY_AMT5)</th>\n",
       "      <th>(X23, PAY_AMT6)</th>\n",
       "      <th>('X2', 'SEX')_female</th>\n",
       "      <th>('X2', 'SEX')_male</th>\n",
       "      <th>('X3', 'EDUCATION')_graduate school</th>\n",
       "      <th>('X3', 'EDUCATION')_high school</th>\n",
       "      <th>('X3', 'EDUCATION')_others</th>\n",
       "      <th>('X3', 'EDUCATION')_university</th>\n",
       "      <th>('X4', 'MARRIAGE')_married</th>\n",
       "      <th>('X4', 'MARRIAGE')_others</th>\n",
       "      <th>('X4', 'MARRIAGE')_single</th>\n",
       "    </tr>\n",
       "  </thead>\n",
       "  <tbody>\n",
       "    <tr>\n",
       "      <th>1</th>\n",
       "      <td>20000.0</td>\n",
       "      <td>24</td>\n",
       "      <td>2</td>\n",
       "      <td>2</td>\n",
       "      <td>-1</td>\n",
       "      <td>-1</td>\n",
       "      <td>-2</td>\n",
       "      <td>-2</td>\n",
       "      <td>3913.0</td>\n",
       "      <td>3102.0</td>\n",
       "      <td>689.0</td>\n",
       "      <td>0.0</td>\n",
       "      <td>0.0</td>\n",
       "      <td>0.0</td>\n",
       "      <td>0.0</td>\n",
       "      <td>689.0</td>\n",
       "      <td>0.0</td>\n",
       "      <td>0.0</td>\n",
       "      <td>0.0</td>\n",
       "      <td>0.0</td>\n",
       "      <td>1</td>\n",
       "      <td>0</td>\n",
       "      <td>0</td>\n",
       "      <td>0</td>\n",
       "      <td>0</td>\n",
       "      <td>1</td>\n",
       "      <td>1</td>\n",
       "      <td>0</td>\n",
       "      <td>0</td>\n",
       "    </tr>\n",
       "    <tr>\n",
       "      <th>2</th>\n",
       "      <td>120000.0</td>\n",
       "      <td>26</td>\n",
       "      <td>-1</td>\n",
       "      <td>2</td>\n",
       "      <td>0</td>\n",
       "      <td>0</td>\n",
       "      <td>0</td>\n",
       "      <td>2</td>\n",
       "      <td>2682.0</td>\n",
       "      <td>1725.0</td>\n",
       "      <td>2682.0</td>\n",
       "      <td>3272.0</td>\n",
       "      <td>3455.0</td>\n",
       "      <td>3261.0</td>\n",
       "      <td>0.0</td>\n",
       "      <td>1000.0</td>\n",
       "      <td>1000.0</td>\n",
       "      <td>1000.0</td>\n",
       "      <td>0.0</td>\n",
       "      <td>2000.0</td>\n",
       "      <td>1</td>\n",
       "      <td>0</td>\n",
       "      <td>0</td>\n",
       "      <td>0</td>\n",
       "      <td>0</td>\n",
       "      <td>1</td>\n",
       "      <td>0</td>\n",
       "      <td>0</td>\n",
       "      <td>1</td>\n",
       "    </tr>\n",
       "    <tr>\n",
       "      <th>3</th>\n",
       "      <td>90000.0</td>\n",
       "      <td>34</td>\n",
       "      <td>0</td>\n",
       "      <td>0</td>\n",
       "      <td>0</td>\n",
       "      <td>0</td>\n",
       "      <td>0</td>\n",
       "      <td>0</td>\n",
       "      <td>29239.0</td>\n",
       "      <td>14027.0</td>\n",
       "      <td>13559.0</td>\n",
       "      <td>14331.0</td>\n",
       "      <td>14948.0</td>\n",
       "      <td>15549.0</td>\n",
       "      <td>1518.0</td>\n",
       "      <td>1500.0</td>\n",
       "      <td>1000.0</td>\n",
       "      <td>1000.0</td>\n",
       "      <td>1000.0</td>\n",
       "      <td>5000.0</td>\n",
       "      <td>1</td>\n",
       "      <td>0</td>\n",
       "      <td>0</td>\n",
       "      <td>0</td>\n",
       "      <td>0</td>\n",
       "      <td>1</td>\n",
       "      <td>0</td>\n",
       "      <td>0</td>\n",
       "      <td>1</td>\n",
       "    </tr>\n",
       "    <tr>\n",
       "      <th>4</th>\n",
       "      <td>50000.0</td>\n",
       "      <td>37</td>\n",
       "      <td>0</td>\n",
       "      <td>0</td>\n",
       "      <td>0</td>\n",
       "      <td>0</td>\n",
       "      <td>0</td>\n",
       "      <td>0</td>\n",
       "      <td>46990.0</td>\n",
       "      <td>48233.0</td>\n",
       "      <td>49291.0</td>\n",
       "      <td>28314.0</td>\n",
       "      <td>28959.0</td>\n",
       "      <td>29547.0</td>\n",
       "      <td>2000.0</td>\n",
       "      <td>2019.0</td>\n",
       "      <td>1200.0</td>\n",
       "      <td>1100.0</td>\n",
       "      <td>1069.0</td>\n",
       "      <td>1000.0</td>\n",
       "      <td>1</td>\n",
       "      <td>0</td>\n",
       "      <td>0</td>\n",
       "      <td>0</td>\n",
       "      <td>0</td>\n",
       "      <td>1</td>\n",
       "      <td>1</td>\n",
       "      <td>0</td>\n",
       "      <td>0</td>\n",
       "    </tr>\n",
       "    <tr>\n",
       "      <th>5</th>\n",
       "      <td>50000.0</td>\n",
       "      <td>57</td>\n",
       "      <td>-1</td>\n",
       "      <td>0</td>\n",
       "      <td>-1</td>\n",
       "      <td>0</td>\n",
       "      <td>0</td>\n",
       "      <td>0</td>\n",
       "      <td>8617.0</td>\n",
       "      <td>5670.0</td>\n",
       "      <td>35835.0</td>\n",
       "      <td>20940.0</td>\n",
       "      <td>19146.0</td>\n",
       "      <td>19131.0</td>\n",
       "      <td>2000.0</td>\n",
       "      <td>36681.0</td>\n",
       "      <td>10000.0</td>\n",
       "      <td>9000.0</td>\n",
       "      <td>689.0</td>\n",
       "      <td>679.0</td>\n",
       "      <td>0</td>\n",
       "      <td>1</td>\n",
       "      <td>0</td>\n",
       "      <td>0</td>\n",
       "      <td>0</td>\n",
       "      <td>1</td>\n",
       "      <td>1</td>\n",
       "      <td>0</td>\n",
       "      <td>0</td>\n",
       "    </tr>\n",
       "  </tbody>\n",
       "</table>\n",
       "</div>"
      ],
      "text/plain": [
       "   (X1, LIMIT_BAL)  (X5, AGE)  (X6, PAY_0)  (X7, PAY_2)  (X8, PAY_3)  \\\n",
       "1          20000.0         24            2            2           -1   \n",
       "2         120000.0         26           -1            2            0   \n",
       "3          90000.0         34            0            0            0   \n",
       "4          50000.0         37            0            0            0   \n",
       "5          50000.0         57           -1            0           -1   \n",
       "\n",
       "   (X9, PAY_4)  (X10, PAY_5)  (X11, PAY_6)  (X12, BILL_AMT1)  \\\n",
       "1           -1            -2            -2            3913.0   \n",
       "2            0             0             2            2682.0   \n",
       "3            0             0             0           29239.0   \n",
       "4            0             0             0           46990.0   \n",
       "5            0             0             0            8617.0   \n",
       "\n",
       "   (X13, BILL_AMT2)  (X14, BILL_AMT3)  (X15, BILL_AMT4)  (X16, BILL_AMT5)  \\\n",
       "1            3102.0             689.0               0.0               0.0   \n",
       "2            1725.0            2682.0            3272.0            3455.0   \n",
       "3           14027.0           13559.0           14331.0           14948.0   \n",
       "4           48233.0           49291.0           28314.0           28959.0   \n",
       "5            5670.0           35835.0           20940.0           19146.0   \n",
       "\n",
       "   (X17, BILL_AMT6)  (X18, PAY_AMT1)  (X19, PAY_AMT2)  (X20, PAY_AMT3)  \\\n",
       "1               0.0              0.0            689.0              0.0   \n",
       "2            3261.0              0.0           1000.0           1000.0   \n",
       "3           15549.0           1518.0           1500.0           1000.0   \n",
       "4           29547.0           2000.0           2019.0           1200.0   \n",
       "5           19131.0           2000.0          36681.0          10000.0   \n",
       "\n",
       "   (X21, PAY_AMT4)  (X22, PAY_AMT5)  (X23, PAY_AMT6)  ('X2', 'SEX')_female  \\\n",
       "1              0.0              0.0              0.0                     1   \n",
       "2           1000.0              0.0           2000.0                     1   \n",
       "3           1000.0           1000.0           5000.0                     1   \n",
       "4           1100.0           1069.0           1000.0                     1   \n",
       "5           9000.0            689.0            679.0                     0   \n",
       "\n",
       "   ('X2', 'SEX')_male  ('X3', 'EDUCATION')_graduate school  \\\n",
       "1                   0                                    0   \n",
       "2                   0                                    0   \n",
       "3                   0                                    0   \n",
       "4                   0                                    0   \n",
       "5                   1                                    0   \n",
       "\n",
       "   ('X3', 'EDUCATION')_high school  ('X3', 'EDUCATION')_others  \\\n",
       "1                                0                           0   \n",
       "2                                0                           0   \n",
       "3                                0                           0   \n",
       "4                                0                           0   \n",
       "5                                0                           0   \n",
       "\n",
       "   ('X3', 'EDUCATION')_university  ('X4', 'MARRIAGE')_married  \\\n",
       "1                               1                           1   \n",
       "2                               1                           0   \n",
       "3                               1                           0   \n",
       "4                               1                           1   \n",
       "5                               1                           1   \n",
       "\n",
       "   ('X4', 'MARRIAGE')_others  ('X4', 'MARRIAGE')_single  \n",
       "1                          0                          0  \n",
       "2                          0                          1  \n",
       "3                          0                          1  \n",
       "4                          0                          0  \n",
       "5                          0                          0  "
      ]
     },
     "execution_count": 29,
     "metadata": {
      "tags": []
     },
     "output_type": "execute_result"
    }
   ],
   "source": [
    "X = pd.get_dummies(data=X, columns=['X2', 'X3', 'X4'])\n",
    "X.head()"
   ]
  },
  {
   "cell_type": "code",
   "execution_count": 30,
   "metadata": {
    "colab": {
     "base_uri": "https://localhost:8080/"
    },
    "id": "SmxAZX-oBNkg",
    "outputId": "a40cf90f-1839-47f7-85df-fb5e4f230942"
   },
   "outputs": [
    {
     "name": "stdout",
     "output_type": "stream",
     "text": [
      "<class 'pandas.core.frame.DataFrame'>\n",
      "Int64Index: 29964 entries, 1 to 30000\n",
      "Data columns (total 29 columns):\n",
      " #   Column                               Non-Null Count  Dtype  \n",
      "---  ------                               --------------  -----  \n",
      " 0   (X1, LIMIT_BAL)                      29964 non-null  float64\n",
      " 1   (X5, AGE)                            29964 non-null  int64  \n",
      " 2   (X6, PAY_0)                          29964 non-null  int64  \n",
      " 3   (X7, PAY_2)                          29964 non-null  int64  \n",
      " 4   (X8, PAY_3)                          29964 non-null  int64  \n",
      " 5   (X9, PAY_4)                          29964 non-null  int64  \n",
      " 6   (X10, PAY_5)                         29964 non-null  int64  \n",
      " 7   (X11, PAY_6)                         29964 non-null  int64  \n",
      " 8   (X12, BILL_AMT1)                     29964 non-null  float64\n",
      " 9   (X13, BILL_AMT2)                     29964 non-null  float64\n",
      " 10  (X14, BILL_AMT3)                     29964 non-null  float64\n",
      " 11  (X15, BILL_AMT4)                     29964 non-null  float64\n",
      " 12  (X16, BILL_AMT5)                     29964 non-null  float64\n",
      " 13  (X17, BILL_AMT6)                     29964 non-null  float64\n",
      " 14  (X18, PAY_AMT1)                      29964 non-null  float64\n",
      " 15  (X19, PAY_AMT2)                      29964 non-null  float64\n",
      " 16  (X20, PAY_AMT3)                      29964 non-null  float64\n",
      " 17  (X21, PAY_AMT4)                      29964 non-null  float64\n",
      " 18  (X22, PAY_AMT5)                      29964 non-null  float64\n",
      " 19  (X23, PAY_AMT6)                      29964 non-null  float64\n",
      " 20  ('X2', 'SEX')_female                 29964 non-null  uint8  \n",
      " 21  ('X2', 'SEX')_male                   29964 non-null  uint8  \n",
      " 22  ('X3', 'EDUCATION')_graduate school  29964 non-null  uint8  \n",
      " 23  ('X3', 'EDUCATION')_high school      29964 non-null  uint8  \n",
      " 24  ('X3', 'EDUCATION')_others           29964 non-null  uint8  \n",
      " 25  ('X3', 'EDUCATION')_university       29964 non-null  uint8  \n",
      " 26  ('X4', 'MARRIAGE')_married           29964 non-null  uint8  \n",
      " 27  ('X4', 'MARRIAGE')_others            29964 non-null  uint8  \n",
      " 28  ('X4', 'MARRIAGE')_single            29964 non-null  uint8  \n",
      "dtypes: float64(13), int64(7), uint8(9)\n",
      "memory usage: 5.1 MB\n"
     ]
    }
   ],
   "source": [
    "X.info()"
   ]
  },
  {
   "cell_type": "code",
   "execution_count": 31,
   "metadata": {
    "colab": {
     "base_uri": "https://localhost:8080/"
    },
    "id": "CfHy9KWlCDOp",
    "outputId": "d70491b0-5211-4fcc-88ea-902a0172e5f1",
    "scrolled": true
   },
   "outputs": [
    {
     "name": "stdout",
     "output_type": "stream",
     "text": [
      "Length of X_train is: (23971, 29)\n",
      "Length of y_train is: (23971, 1)\n",
      "Length of X_test is: (5993, 29)\n",
      "Length of y_test is: (5993, 1)\n"
     ]
    }
   ],
   "source": [
    "from sklearn.model_selection import train_test_split\n",
    "# Get 80% of the data for training; the remaining 20% will be for validation and test\n",
    "X_train, X_test, y_train, y_test = train_test_split(X, y, test_size = 0.2)\n",
    "print(f\"Length of X_train is: {X_train.shape}\")\n",
    "print(f\"Length of y_train is: {y_train.shape}\")\n",
    "print(f\"Length of X_test is: {X_test.shape}\")\n",
    "print(f\"Length of y_test is: {y_test.shape}\")"
   ]
  },
  {
   "cell_type": "code",
   "execution_count": 32,
   "metadata": {
    "id": "-mj5xC2eCDOz"
   },
   "outputs": [],
   "source": [
    "# Feature scaling \n",
    "from sklearn.preprocessing import StandardScaler\n",
    "sc = StandardScaler()\n",
    "X_train = sc.fit_transform(X_train)\n",
    "X_test = sc.transform(X_test)"
   ]
  },
  {
   "cell_type": "markdown",
   "metadata": {
    "id": "bobCMOl0BNkl"
   },
   "source": [
    "## 6. <a name=\"6\">Train the classifier</a>\n",
    "(<a href=\"#0\">Go to top</a>)\n",
    "\n",
    "Let's first train and test the classifier on the train and the test sets using different alogrithms.  "
   ]
  },
  {
   "cell_type": "markdown",
   "metadata": {
    "id": "9M-lu5DkCDO2"
   },
   "source": [
    "### Training the K-NN model on the Training set"
   ]
  },
  {
   "cell_type": "code",
   "execution_count": 33,
   "metadata": {
    "id": "AGaXequXCDO3"
   },
   "outputs": [],
   "source": [
    "from sklearn.neighbors import KNeighborsClassifier\n",
    "classifier_KNN = KNeighborsClassifier(n_neighbors = 5, metric = 'minkowski', p = 2)"
   ]
  },
  {
   "cell_type": "code",
   "execution_count": 34,
   "metadata": {
    "colab": {
     "base_uri": "https://localhost:8080/"
    },
    "id": "rh8ufywVBNkp",
    "outputId": "dbb47e47-6810-4837-885e-6eda5325ccbb"
   },
   "outputs": [
    {
     "name": "stderr",
     "output_type": "stream",
     "text": [
      "/usr/local/lib/python3.7/dist-packages/sklearn/model_selection/_validation.py:515: DataConversionWarning: A column-vector y was passed when a 1d array was expected. Please change the shape of y to (n_samples, ), for example using ravel().\n",
      "  estimator.fit(X_train, y_train, **fit_params)\n",
      "/usr/local/lib/python3.7/dist-packages/sklearn/model_selection/_validation.py:515: DataConversionWarning: A column-vector y was passed when a 1d array was expected. Please change the shape of y to (n_samples, ), for example using ravel().\n",
      "  estimator.fit(X_train, y_train, **fit_params)\n",
      "/usr/local/lib/python3.7/dist-packages/sklearn/model_selection/_validation.py:515: DataConversionWarning: A column-vector y was passed when a 1d array was expected. Please change the shape of y to (n_samples, ), for example using ravel().\n",
      "  estimator.fit(X_train, y_train, **fit_params)\n",
      "/usr/local/lib/python3.7/dist-packages/sklearn/model_selection/_validation.py:515: DataConversionWarning: A column-vector y was passed when a 1d array was expected. Please change the shape of y to (n_samples, ), for example using ravel().\n",
      "  estimator.fit(X_train, y_train, **fit_params)\n",
      "/usr/local/lib/python3.7/dist-packages/sklearn/model_selection/_validation.py:515: DataConversionWarning: A column-vector y was passed when a 1d array was expected. Please change the shape of y to (n_samples, ), for example using ravel().\n",
      "  estimator.fit(X_train, y_train, **fit_params)\n",
      "/usr/local/lib/python3.7/dist-packages/sklearn/model_selection/_validation.py:515: DataConversionWarning: A column-vector y was passed when a 1d array was expected. Please change the shape of y to (n_samples, ), for example using ravel().\n",
      "  estimator.fit(X_train, y_train, **fit_params)\n",
      "/usr/local/lib/python3.7/dist-packages/sklearn/model_selection/_validation.py:515: DataConversionWarning: A column-vector y was passed when a 1d array was expected. Please change the shape of y to (n_samples, ), for example using ravel().\n",
      "  estimator.fit(X_train, y_train, **fit_params)\n",
      "/usr/local/lib/python3.7/dist-packages/sklearn/model_selection/_validation.py:515: DataConversionWarning: A column-vector y was passed when a 1d array was expected. Please change the shape of y to (n_samples, ), for example using ravel().\n",
      "  estimator.fit(X_train, y_train, **fit_params)\n",
      "/usr/local/lib/python3.7/dist-packages/sklearn/model_selection/_validation.py:515: DataConversionWarning: A column-vector y was passed when a 1d array was expected. Please change the shape of y to (n_samples, ), for example using ravel().\n",
      "  estimator.fit(X_train, y_train, **fit_params)\n",
      "/usr/local/lib/python3.7/dist-packages/sklearn/model_selection/_validation.py:515: DataConversionWarning: A column-vector y was passed when a 1d array was expected. Please change the shape of y to (n_samples, ), for example using ravel().\n",
      "  estimator.fit(X_train, y_train, **fit_params)\n"
     ]
    },
    {
     "name": "stdout",
     "output_type": "stream",
     "text": [
      "Accuracy: 78.76 %\n"
     ]
    }
   ],
   "source": [
    "# Using cross validation\n",
    "from sklearn.model_selection import cross_val_score\n",
    "accuracies = cross_val_score(estimator = classifier_KNN, X = X_train, y = y_train, cv = 10)\n",
    "print(\"Accuracy: {:.2f} %\".format(accuracies.mean()*100))"
   ]
  },
  {
   "cell_type": "code",
   "execution_count": 35,
   "metadata": {
    "colab": {
     "base_uri": "https://localhost:8080/"
    },
    "id": "79DcxhIuCDPC",
    "outputId": "27ce5765-c42f-46aa-af84-f5e7cec0deec"
   },
   "outputs": [
    {
     "name": "stderr",
     "output_type": "stream",
     "text": [
      "/usr/local/lib/python3.7/dist-packages/ipykernel_launcher.py:1: DataConversionWarning: A column-vector y was passed when a 1d array was expected. Please change the shape of y to (n_samples, ), for example using ravel().\n",
      "  \"\"\"Entry point for launching an IPython kernel.\n"
     ]
    }
   ],
   "source": [
    "classifier_KNN.fit(X_train, y_train)\n",
    "y_pred_KNN = classifier_KNN.predict(X_test)"
   ]
  },
  {
   "cell_type": "code",
   "execution_count": 36,
   "metadata": {
    "colab": {
     "base_uri": "https://localhost:8080/"
    },
    "id": "WQdALa5mCDPG",
    "outputId": "31981ae7-43f9-4d8d-ccaf-9885417cd466"
   },
   "outputs": [
    {
     "name": "stdout",
     "output_type": "stream",
     "text": [
      "[[4329  390]\n",
      " [ 828  446]]\n",
      "Accuracy 79.68 %\n",
      "              precision    recall  f1-score   support\n",
      "\n",
      "           0       0.84      0.92      0.88      4719\n",
      "           1       0.53      0.35      0.42      1274\n",
      "\n",
      "    accuracy                           0.80      5993\n",
      "   macro avg       0.69      0.63      0.65      5993\n",
      "weighted avg       0.77      0.80      0.78      5993\n",
      "\n"
     ]
    }
   ],
   "source": [
    "from sklearn.metrics import accuracy_score, confusion_matrix, classification_report\n",
    "cm = confusion_matrix(y_test, y_pred_KNN)\n",
    "print(cm)\n",
    "print(\"Accuracy {:.2f} %\".format( 100 * accuracy_score(y_test, y_pred_KNN)))\n",
    "print(classification_report(y_test, y_pred_KNN))"
   ]
  },
  {
   "cell_type": "markdown",
   "metadata": {
    "id": "Y5C-2BbnHhT4"
   },
   "source": [
    "### Training the Kernel SVM model on the Training set"
   ]
  },
  {
   "cell_type": "code",
   "execution_count": 37,
   "metadata": {
    "colab": {
     "base_uri": "https://localhost:8080/"
    },
    "id": "YHLCVxNRHb4j",
    "outputId": "3f2536ab-fc8d-497d-f88d-b3ae483d86bb"
   },
   "outputs": [
    {
     "name": "stderr",
     "output_type": "stream",
     "text": [
      "/usr/local/lib/python3.7/dist-packages/sklearn/utils/validation.py:760: DataConversionWarning: A column-vector y was passed when a 1d array was expected. Please change the shape of y to (n_samples, ), for example using ravel().\n",
      "  y = column_or_1d(y, warn=True)\n"
     ]
    },
    {
     "data": {
      "text/plain": [
       "SVC(C=1.0, break_ties=False, cache_size=200, class_weight=None, coef0=0.0,\n",
       "    decision_function_shape='ovr', degree=3, gamma='scale', kernel='rbf',\n",
       "    max_iter=-1, probability=False, random_state=0, shrinking=True, tol=0.001,\n",
       "    verbose=False)"
      ]
     },
     "execution_count": 37,
     "metadata": {
      "tags": []
     },
     "output_type": "execute_result"
    }
   ],
   "source": [
    "from sklearn.svm import SVC\n",
    "classifier_SVM = SVC(kernel = 'rbf', random_state = 0)\n",
    "classifier_SVM.fit(X_train, y_train)"
   ]
  },
  {
   "cell_type": "code",
   "execution_count": 38,
   "metadata": {
    "id": "T1f9s-XuHcR6"
   },
   "outputs": [],
   "source": [
    "y_pred_SVM = classifier_SVM.predict(X_test)"
   ]
  },
  {
   "cell_type": "code",
   "execution_count": 39,
   "metadata": {
    "colab": {
     "base_uri": "https://localhost:8080/"
    },
    "id": "1Pzu7sggHy7U",
    "outputId": "8187e90a-073c-476b-ff5d-265c16940c26"
   },
   "outputs": [
    {
     "name": "stdout",
     "output_type": "stream",
     "text": [
      "[[4521  198]\n",
      " [ 853  421]]\n",
      "Accuracy 82.46 %\n",
      "              precision    recall  f1-score   support\n",
      "\n",
      "           0       0.84      0.96      0.90      4719\n",
      "           1       0.68      0.33      0.44      1274\n",
      "\n",
      "    accuracy                           0.82      5993\n",
      "   macro avg       0.76      0.64      0.67      5993\n",
      "weighted avg       0.81      0.82      0.80      5993\n",
      "\n"
     ]
    }
   ],
   "source": [
    "from sklearn.metrics import accuracy_score, confusion_matrix, classification_report\n",
    "cm = confusion_matrix(y_test, y_pred_SVM)\n",
    "print(cm)\n",
    "print(\"Accuracy {:.2f} %\".format( 100 * accuracy_score(y_test, y_pred_SVM)))\n",
    "print(classification_report(y_test, y_pred_SVM))"
   ]
  },
  {
   "cell_type": "markdown",
   "metadata": {
    "id": "LDQK8j-1ITwM"
   },
   "source": [
    "### Training the Random Forest Classification model on the Training set"
   ]
  },
  {
   "cell_type": "code",
   "execution_count": 40,
   "metadata": {
    "colab": {
     "base_uri": "https://localhost:8080/"
    },
    "id": "wSdhLroCIuAs",
    "outputId": "c3cf5d30-71e5-460a-bee8-6092e797a5ba"
   },
   "outputs": [
    {
     "name": "stderr",
     "output_type": "stream",
     "text": [
      "/usr/local/lib/python3.7/dist-packages/ipykernel_launcher.py:3: DataConversionWarning: A column-vector y was passed when a 1d array was expected. Please change the shape of y to (n_samples,), for example using ravel().\n",
      "  This is separate from the ipykernel package so we can avoid doing imports until\n"
     ]
    },
    {
     "data": {
      "text/plain": [
       "RandomForestClassifier(bootstrap=True, ccp_alpha=0.0, class_weight=None,\n",
       "                       criterion='entropy', max_depth=None, max_features='auto',\n",
       "                       max_leaf_nodes=None, max_samples=None,\n",
       "                       min_impurity_decrease=0.0, min_impurity_split=None,\n",
       "                       min_samples_leaf=1, min_samples_split=2,\n",
       "                       min_weight_fraction_leaf=0.0, n_estimators=10,\n",
       "                       n_jobs=None, oob_score=False, random_state=42, verbose=0,\n",
       "                       warm_start=False)"
      ]
     },
     "execution_count": 40,
     "metadata": {
      "tags": []
     },
     "output_type": "execute_result"
    }
   ],
   "source": [
    "from sklearn.ensemble import RandomForestClassifier\n",
    "classifier_RF = RandomForestClassifier(n_estimators = 10, criterion = 'entropy', random_state = 42)\n",
    "classifier_RF.fit(X_train, y_train)"
   ]
  },
  {
   "cell_type": "code",
   "execution_count": 41,
   "metadata": {
    "colab": {
     "base_uri": "https://localhost:8080/"
    },
    "id": "Dmm_QN9KI1TJ",
    "outputId": "2ea94ce7-7185-4655-fd82-f14890977695",
    "scrolled": true
   },
   "outputs": [
    {
     "name": "stdout",
     "output_type": "stream",
     "text": [
      "[[4448  271]\n",
      " [ 867  407]]\n",
      "Accuracy 81.01 %\n",
      "              precision    recall  f1-score   support\n",
      "\n",
      "           0       0.84      0.94      0.89      4719\n",
      "           1       0.60      0.32      0.42      1274\n",
      "\n",
      "    accuracy                           0.81      5993\n",
      "   macro avg       0.72      0.63      0.65      5993\n",
      "weighted avg       0.79      0.81      0.79      5993\n",
      "\n"
     ]
    }
   ],
   "source": [
    "from sklearn.metrics import accuracy_score, confusion_matrix, classification_report\n",
    "\n",
    "\n",
    "y_pred_RF = classifier_RF.predict(X_test)\n",
    "cm = confusion_matrix(y_test, y_pred_RF)\n",
    "print(cm)\n",
    "print(\"Accuracy {:.2f} %\".format( 100 * accuracy_score(y_test, y_pred_RF)))\n",
    "print(classification_report(y_test, y_pred_RF))"
   ]
  }
 ],
 "metadata": {
  "colab": {
   "name": "Default_of_credit_card_clients_1.ipynb",
   "provenance": []
  },
  "kernelspec": {
   "display_name": "Python 3",
   "language": "python",
   "name": "python3"
  },
  "language_info": {
   "codemirror_mode": {
    "name": "ipython",
    "version": 3
   },
   "file_extension": ".py",
   "mimetype": "text/x-python",
   "name": "python",
   "nbconvert_exporter": "python",
   "pygments_lexer": "ipython3",
   "version": "3.8.5"
  }
 },
 "nbformat": 4,
 "nbformat_minor": 1
}
