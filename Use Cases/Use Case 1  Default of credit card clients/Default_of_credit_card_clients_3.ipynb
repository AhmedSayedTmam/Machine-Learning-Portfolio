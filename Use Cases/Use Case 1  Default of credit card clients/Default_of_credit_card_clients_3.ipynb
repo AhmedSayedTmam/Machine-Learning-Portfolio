{
  "nbformat": 4,
  "nbformat_minor": 0,
  "metadata": {
    "colab": {
      "name": "Default_of_credit_card_clients_3.ipynb",
      "provenance": []
    },
    "kernelspec": {
      "display_name": "Python 3",
      "language": "python",
      "name": "python3"
    },
    "language_info": {
      "codemirror_mode": {
        "name": "ipython",
        "version": 3
      },
      "file_extension": ".py",
      "mimetype": "text/x-python",
      "name": "python",
      "nbconvert_exporter": "python",
      "pygments_lexer": "ipython3",
      "version": "3.8.5"
    }
  },
  "cells": [
    {
      "cell_type": "markdown",
      "metadata": {
        "id": "bq6nDHBTFZl1"
      },
      "source": [
        "# Amazon Web Services - Use Case 1 : Default of credit card clients"
      ]
    },
    {
      "cell_type": "markdown",
      "metadata": {
        "id": "SaQ-s_zDFZmf"
      },
      "source": [
        "## NN Model \n",
        "\n",
        "In this notebook, we build, train to predict the target label Y Did the person pay default payment next month (Yes=1 or No=0 ). \n",
        "1. <a href=\"#1\">Read the dataset</a>\n",
        "2. <a href=\"#2\">Exploratory Data Analysis</a>\n",
        "3. <a href=\"#3\">Select features to build the model</a>\n",
        "4. <a href=\"#6\">Train the classifier</a>\n"
      ]
    },
    {
      "cell_type": "markdown",
      "metadata": {
        "id": "GbO_wRwUFZmk"
      },
      "source": [
        "## 1. <a name=\"1\">Read the dataset</a>\n",
        "(<a href=\"#0\">Go to top</a>)\n",
        "\n",
        "Let's read the dataset into a dataframe, using Pandas."
      ]
    },
    {
      "cell_type": "code",
      "metadata": {
        "id": "ct4_i_nqFZml"
      },
      "source": [
        "import pandas as pd\n",
        "import numpy as np                                \n",
        "import matplotlib.pyplot as plt \n",
        "import seaborn as sns\n",
        "import warnings\n",
        "warnings.filterwarnings(\"ignore\")\n",
        "# to prevent truncating the columns of the pandas dataframe\n",
        "pd.set_option('display.max_columns', None)"
      ],
      "execution_count": 1,
      "outputs": []
    },
    {
      "cell_type": "code",
      "metadata": {
        "id": "XO28-HiDCDKb"
      },
      "source": [
        "df = pd.read_excel('default of credit card clients.xls', index_col=0, header=[0, 1])"
      ],
      "execution_count": 2,
      "outputs": []
    },
    {
      "cell_type": "code",
      "metadata": {
        "colab": {
          "base_uri": "https://localhost:8080/",
          "height": 300
        },
        "id": "gSuK4OieCDLa",
        "scrolled": true,
        "outputId": "6f61e174-815b-4607-c110-a09d46e9e465"
      },
      "source": [
        "df.head()"
      ],
      "execution_count": 3,
      "outputs": [
        {
          "output_type": "execute_result",
          "data": {
            "text/html": [
              "<div>\n",
              "<style scoped>\n",
              "    .dataframe tbody tr th:only-of-type {\n",
              "        vertical-align: middle;\n",
              "    }\n",
              "\n",
              "    .dataframe tbody tr th {\n",
              "        vertical-align: top;\n",
              "    }\n",
              "\n",
              "    .dataframe thead tr th {\n",
              "        text-align: left;\n",
              "    }\n",
              "</style>\n",
              "<table border=\"1\" class=\"dataframe\">\n",
              "  <thead>\n",
              "    <tr>\n",
              "      <th></th>\n",
              "      <th>X1</th>\n",
              "      <th>X2</th>\n",
              "      <th>X3</th>\n",
              "      <th>X4</th>\n",
              "      <th>X5</th>\n",
              "      <th>X6</th>\n",
              "      <th>X7</th>\n",
              "      <th>X8</th>\n",
              "      <th>X9</th>\n",
              "      <th>X10</th>\n",
              "      <th>X11</th>\n",
              "      <th>X12</th>\n",
              "      <th>X13</th>\n",
              "      <th>X14</th>\n",
              "      <th>X15</th>\n",
              "      <th>X16</th>\n",
              "      <th>X17</th>\n",
              "      <th>X18</th>\n",
              "      <th>X19</th>\n",
              "      <th>X20</th>\n",
              "      <th>X21</th>\n",
              "      <th>X22</th>\n",
              "      <th>X23</th>\n",
              "      <th>Y</th>\n",
              "    </tr>\n",
              "    <tr>\n",
              "      <th>ID</th>\n",
              "      <th>LIMIT_BAL</th>\n",
              "      <th>SEX</th>\n",
              "      <th>EDUCATION</th>\n",
              "      <th>MARRIAGE</th>\n",
              "      <th>AGE</th>\n",
              "      <th>PAY_0</th>\n",
              "      <th>PAY_2</th>\n",
              "      <th>PAY_3</th>\n",
              "      <th>PAY_4</th>\n",
              "      <th>PAY_5</th>\n",
              "      <th>PAY_6</th>\n",
              "      <th>BILL_AMT1</th>\n",
              "      <th>BILL_AMT2</th>\n",
              "      <th>BILL_AMT3</th>\n",
              "      <th>BILL_AMT4</th>\n",
              "      <th>BILL_AMT5</th>\n",
              "      <th>BILL_AMT6</th>\n",
              "      <th>PAY_AMT1</th>\n",
              "      <th>PAY_AMT2</th>\n",
              "      <th>PAY_AMT3</th>\n",
              "      <th>PAY_AMT4</th>\n",
              "      <th>PAY_AMT5</th>\n",
              "      <th>PAY_AMT6</th>\n",
              "      <th>default payment next month</th>\n",
              "    </tr>\n",
              "  </thead>\n",
              "  <tbody>\n",
              "    <tr>\n",
              "      <th>1</th>\n",
              "      <td>20000</td>\n",
              "      <td>female</td>\n",
              "      <td>university</td>\n",
              "      <td>married</td>\n",
              "      <td>24</td>\n",
              "      <td>2</td>\n",
              "      <td>2</td>\n",
              "      <td>-1</td>\n",
              "      <td>-1</td>\n",
              "      <td>-2</td>\n",
              "      <td>-2</td>\n",
              "      <td>3913</td>\n",
              "      <td>3102</td>\n",
              "      <td>689</td>\n",
              "      <td>0</td>\n",
              "      <td>0</td>\n",
              "      <td>0</td>\n",
              "      <td>0</td>\n",
              "      <td>689</td>\n",
              "      <td>0</td>\n",
              "      <td>0</td>\n",
              "      <td>0</td>\n",
              "      <td>0</td>\n",
              "      <td>1</td>\n",
              "    </tr>\n",
              "    <tr>\n",
              "      <th>2</th>\n",
              "      <td>120000</td>\n",
              "      <td>female</td>\n",
              "      <td>university</td>\n",
              "      <td>single</td>\n",
              "      <td>26</td>\n",
              "      <td>-1</td>\n",
              "      <td>2</td>\n",
              "      <td>0</td>\n",
              "      <td>0</td>\n",
              "      <td>0</td>\n",
              "      <td>2</td>\n",
              "      <td>2682</td>\n",
              "      <td>1725</td>\n",
              "      <td>2682</td>\n",
              "      <td>3272</td>\n",
              "      <td>3455</td>\n",
              "      <td>3261</td>\n",
              "      <td>0</td>\n",
              "      <td>1000</td>\n",
              "      <td>1000</td>\n",
              "      <td>1000</td>\n",
              "      <td>0</td>\n",
              "      <td>2000</td>\n",
              "      <td>1</td>\n",
              "    </tr>\n",
              "    <tr>\n",
              "      <th>3</th>\n",
              "      <td>90000</td>\n",
              "      <td>female</td>\n",
              "      <td>university</td>\n",
              "      <td>single</td>\n",
              "      <td>34</td>\n",
              "      <td>0</td>\n",
              "      <td>0</td>\n",
              "      <td>0</td>\n",
              "      <td>0</td>\n",
              "      <td>0</td>\n",
              "      <td>0</td>\n",
              "      <td>29239</td>\n",
              "      <td>14027</td>\n",
              "      <td>13559</td>\n",
              "      <td>14331</td>\n",
              "      <td>14948</td>\n",
              "      <td>15549</td>\n",
              "      <td>1518</td>\n",
              "      <td>1500</td>\n",
              "      <td>1000</td>\n",
              "      <td>1000</td>\n",
              "      <td>1000</td>\n",
              "      <td>5000</td>\n",
              "      <td>0</td>\n",
              "    </tr>\n",
              "    <tr>\n",
              "      <th>4</th>\n",
              "      <td>50000</td>\n",
              "      <td>female</td>\n",
              "      <td>university</td>\n",
              "      <td>married</td>\n",
              "      <td>37</td>\n",
              "      <td>0</td>\n",
              "      <td>0</td>\n",
              "      <td>0</td>\n",
              "      <td>0</td>\n",
              "      <td>0</td>\n",
              "      <td>0</td>\n",
              "      <td>46990</td>\n",
              "      <td>48233</td>\n",
              "      <td>49291</td>\n",
              "      <td>28314</td>\n",
              "      <td>28959</td>\n",
              "      <td>29547</td>\n",
              "      <td>2000</td>\n",
              "      <td>2019</td>\n",
              "      <td>1200</td>\n",
              "      <td>1100</td>\n",
              "      <td>1069</td>\n",
              "      <td>1000</td>\n",
              "      <td>0</td>\n",
              "    </tr>\n",
              "    <tr>\n",
              "      <th>5</th>\n",
              "      <td>50000</td>\n",
              "      <td>male</td>\n",
              "      <td>university</td>\n",
              "      <td>married</td>\n",
              "      <td>57</td>\n",
              "      <td>-1</td>\n",
              "      <td>0</td>\n",
              "      <td>-1</td>\n",
              "      <td>0</td>\n",
              "      <td>0</td>\n",
              "      <td>0</td>\n",
              "      <td>8617</td>\n",
              "      <td>5670</td>\n",
              "      <td>35835</td>\n",
              "      <td>20940</td>\n",
              "      <td>19146</td>\n",
              "      <td>19131</td>\n",
              "      <td>2000</td>\n",
              "      <td>36681</td>\n",
              "      <td>10000</td>\n",
              "      <td>9000</td>\n",
              "      <td>689</td>\n",
              "      <td>679</td>\n",
              "      <td>0</td>\n",
              "    </tr>\n",
              "  </tbody>\n",
              "</table>\n",
              "</div>"
            ],
            "text/plain": [
              "          X1      X2          X3       X4  X5    X6    X7    X8    X9   X10  \\\n",
              "ID LIMIT_BAL     SEX   EDUCATION MARRIAGE AGE PAY_0 PAY_2 PAY_3 PAY_4 PAY_5   \n",
              "1      20000  female  university  married  24     2     2    -1    -1    -2   \n",
              "2     120000  female  university   single  26    -1     2     0     0     0   \n",
              "3      90000  female  university   single  34     0     0     0     0     0   \n",
              "4      50000  female  university  married  37     0     0     0     0     0   \n",
              "5      50000    male  university  married  57    -1     0    -1     0     0   \n",
              "\n",
              "     X11       X12       X13       X14       X15       X16       X17      X18  \\\n",
              "ID PAY_6 BILL_AMT1 BILL_AMT2 BILL_AMT3 BILL_AMT4 BILL_AMT5 BILL_AMT6 PAY_AMT1   \n",
              "1     -2      3913      3102       689         0         0         0        0   \n",
              "2      2      2682      1725      2682      3272      3455      3261        0   \n",
              "3      0     29239     14027     13559     14331     14948     15549     1518   \n",
              "4      0     46990     48233     49291     28314     28959     29547     2000   \n",
              "5      0      8617      5670     35835     20940     19146     19131     2000   \n",
              "\n",
              "        X19      X20      X21      X22      X23                          Y  \n",
              "ID PAY_AMT2 PAY_AMT3 PAY_AMT4 PAY_AMT5 PAY_AMT6 default payment next month  \n",
              "1       689        0        0        0        0                          1  \n",
              "2      1000     1000     1000        0     2000                          1  \n",
              "3      1500     1000     1000     1000     5000                          0  \n",
              "4      2019     1200     1100     1069     1000                          0  \n",
              "5     36681    10000     9000      689      679                          0  "
            ]
          },
          "metadata": {
            "tags": []
          },
          "execution_count": 3
        }
      ]
    },
    {
      "cell_type": "markdown",
      "metadata": {
        "id": "oUuC1hqrFZm0"
      },
      "source": [
        "## 2. <a name=\"2\">Exploratory Data Analysis</a>\n",
        "(<a href=\"#0\">Go to top</a>)"
      ]
    },
    {
      "cell_type": "code",
      "metadata": {
        "colab": {
          "base_uri": "https://localhost:8080/"
        },
        "id": "A19bG0O-CDLz",
        "outputId": "79bcb3f2-f475-4297-f681-a6b36ac9e39d"
      },
      "source": [
        "df.info()"
      ],
      "execution_count": 4,
      "outputs": [
        {
          "output_type": "stream",
          "text": [
            "<class 'pandas.core.frame.DataFrame'>\n",
            "Int64Index: 30000 entries, 1 to 30000\n",
            "Data columns (total 24 columns):\n",
            " #   Column                           Non-Null Count  Dtype \n",
            "---  ------                           --------------  ----- \n",
            " 0   (X1, LIMIT_BAL)                  30000 non-null  int64 \n",
            " 1   (X2, SEX)                        30000 non-null  object\n",
            " 2   (X3, EDUCATION)                  29669 non-null  object\n",
            " 3   (X4, MARRIAGE)                   29677 non-null  object\n",
            " 4   (X5, AGE)                        30000 non-null  int64 \n",
            " 5   (X6, PAY_0)                      30000 non-null  int64 \n",
            " 6   (X7, PAY_2)                      30000 non-null  int64 \n",
            " 7   (X8, PAY_3)                      30000 non-null  int64 \n",
            " 8   (X9, PAY_4)                      30000 non-null  int64 \n",
            " 9   (X10, PAY_5)                     30000 non-null  int64 \n",
            " 10  (X11, PAY_6)                     30000 non-null  int64 \n",
            " 11  (X12, BILL_AMT1)                 30000 non-null  int64 \n",
            " 12  (X13, BILL_AMT2)                 30000 non-null  int64 \n",
            " 13  (X14, BILL_AMT3)                 30000 non-null  int64 \n",
            " 14  (X15, BILL_AMT4)                 30000 non-null  int64 \n",
            " 15  (X16, BILL_AMT5)                 30000 non-null  int64 \n",
            " 16  (X17, BILL_AMT6)                 30000 non-null  int64 \n",
            " 17  (X18, PAY_AMT1)                  30000 non-null  int64 \n",
            " 18  (X19, PAY_AMT2)                  30000 non-null  int64 \n",
            " 19  (X20, PAY_AMT3)                  30000 non-null  int64 \n",
            " 20  (X21, PAY_AMT4)                  30000 non-null  int64 \n",
            " 21  (X22, PAY_AMT5)                  30000 non-null  int64 \n",
            " 22  (X23, PAY_AMT6)                  30000 non-null  int64 \n",
            " 23  (Y, default payment next month)  30000 non-null  int64 \n",
            "dtypes: int64(21), object(3)\n",
            "memory usage: 5.7+ MB\n"
          ],
          "name": "stdout"
        }
      ]
    },
    {
      "cell_type": "markdown",
      "metadata": {
        "id": "0XIYT2yRFZm3"
      },
      "source": [
        "Let's modify some of the data type"
      ]
    },
    {
      "cell_type": "code",
      "metadata": {
        "id": "y57hGpuwFZm4"
      },
      "source": [
        "for col in ['X1','X12','X13','X14','X15','X16','X17','X18','X19','X20','X21','X22','X23']:\n",
        "    df[col] = df[col].astype('float64')"
      ],
      "execution_count": 5,
      "outputs": []
    },
    {
      "cell_type": "code",
      "metadata": {
        "colab": {
          "base_uri": "https://localhost:8080/"
        },
        "id": "Kbs-M_WUFZm7",
        "outputId": "e3327379-8c1b-4c19-e405-6c4e05c52a0c"
      },
      "source": [
        "df.info()"
      ],
      "execution_count": 6,
      "outputs": [
        {
          "output_type": "stream",
          "text": [
            "<class 'pandas.core.frame.DataFrame'>\n",
            "Int64Index: 30000 entries, 1 to 30000\n",
            "Data columns (total 24 columns):\n",
            " #   Column                           Non-Null Count  Dtype  \n",
            "---  ------                           --------------  -----  \n",
            " 0   (X1, LIMIT_BAL)                  30000 non-null  float64\n",
            " 1   (X2, SEX)                        30000 non-null  object \n",
            " 2   (X3, EDUCATION)                  29669 non-null  object \n",
            " 3   (X4, MARRIAGE)                   29677 non-null  object \n",
            " 4   (X5, AGE)                        30000 non-null  int64  \n",
            " 5   (X6, PAY_0)                      30000 non-null  int64  \n",
            " 6   (X7, PAY_2)                      30000 non-null  int64  \n",
            " 7   (X8, PAY_3)                      30000 non-null  int64  \n",
            " 8   (X9, PAY_4)                      30000 non-null  int64  \n",
            " 9   (X10, PAY_5)                     30000 non-null  int64  \n",
            " 10  (X11, PAY_6)                     30000 non-null  int64  \n",
            " 11  (X12, BILL_AMT1)                 30000 non-null  float64\n",
            " 12  (X13, BILL_AMT2)                 30000 non-null  float64\n",
            " 13  (X14, BILL_AMT3)                 30000 non-null  float64\n",
            " 14  (X15, BILL_AMT4)                 30000 non-null  float64\n",
            " 15  (X16, BILL_AMT5)                 30000 non-null  float64\n",
            " 16  (X17, BILL_AMT6)                 30000 non-null  float64\n",
            " 17  (X18, PAY_AMT1)                  30000 non-null  float64\n",
            " 18  (X19, PAY_AMT2)                  30000 non-null  float64\n",
            " 19  (X20, PAY_AMT3)                  30000 non-null  float64\n",
            " 20  (X21, PAY_AMT4)                  30000 non-null  float64\n",
            " 21  (X22, PAY_AMT5)                  30000 non-null  float64\n",
            " 22  (X23, PAY_AMT6)                  30000 non-null  float64\n",
            " 23  (Y, default payment next month)  30000 non-null  int64  \n",
            "dtypes: float64(13), int64(8), object(3)\n",
            "memory usage: 5.7+ MB\n"
          ],
          "name": "stdout"
        }
      ]
    },
    {
      "cell_type": "code",
      "metadata": {
        "colab": {
          "base_uri": "https://localhost:8080/",
          "height": 373
        },
        "id": "xnMkBpFBCDL5",
        "scrolled": true,
        "outputId": "599c88ce-c948-4949-a693-3836afe008db"
      },
      "source": [
        "# print basic statistics for numerical columns\n",
        "df.describe()"
      ],
      "execution_count": 7,
      "outputs": [
        {
          "output_type": "execute_result",
          "data": {
            "text/html": [
              "<div>\n",
              "<style scoped>\n",
              "    .dataframe tbody tr th:only-of-type {\n",
              "        vertical-align: middle;\n",
              "    }\n",
              "\n",
              "    .dataframe tbody tr th {\n",
              "        vertical-align: top;\n",
              "    }\n",
              "\n",
              "    .dataframe thead tr th {\n",
              "        text-align: left;\n",
              "    }\n",
              "</style>\n",
              "<table border=\"1\" class=\"dataframe\">\n",
              "  <thead>\n",
              "    <tr>\n",
              "      <th></th>\n",
              "      <th>X1</th>\n",
              "      <th>X5</th>\n",
              "      <th>X6</th>\n",
              "      <th>X7</th>\n",
              "      <th>X8</th>\n",
              "      <th>X9</th>\n",
              "      <th>X10</th>\n",
              "      <th>X11</th>\n",
              "      <th>X12</th>\n",
              "      <th>X13</th>\n",
              "      <th>X14</th>\n",
              "      <th>X15</th>\n",
              "      <th>X16</th>\n",
              "      <th>X17</th>\n",
              "      <th>X18</th>\n",
              "      <th>X19</th>\n",
              "      <th>X20</th>\n",
              "      <th>X21</th>\n",
              "      <th>X22</th>\n",
              "      <th>X23</th>\n",
              "      <th>Y</th>\n",
              "    </tr>\n",
              "    <tr>\n",
              "      <th>ID</th>\n",
              "      <th>LIMIT_BAL</th>\n",
              "      <th>AGE</th>\n",
              "      <th>PAY_0</th>\n",
              "      <th>PAY_2</th>\n",
              "      <th>PAY_3</th>\n",
              "      <th>PAY_4</th>\n",
              "      <th>PAY_5</th>\n",
              "      <th>PAY_6</th>\n",
              "      <th>BILL_AMT1</th>\n",
              "      <th>BILL_AMT2</th>\n",
              "      <th>BILL_AMT3</th>\n",
              "      <th>BILL_AMT4</th>\n",
              "      <th>BILL_AMT5</th>\n",
              "      <th>BILL_AMT6</th>\n",
              "      <th>PAY_AMT1</th>\n",
              "      <th>PAY_AMT2</th>\n",
              "      <th>PAY_AMT3</th>\n",
              "      <th>PAY_AMT4</th>\n",
              "      <th>PAY_AMT5</th>\n",
              "      <th>PAY_AMT6</th>\n",
              "      <th>default payment next month</th>\n",
              "    </tr>\n",
              "  </thead>\n",
              "  <tbody>\n",
              "    <tr>\n",
              "      <th>count</th>\n",
              "      <td>30000.000000</td>\n",
              "      <td>30000.000000</td>\n",
              "      <td>30000.000000</td>\n",
              "      <td>30000.000000</td>\n",
              "      <td>30000.000000</td>\n",
              "      <td>30000.000000</td>\n",
              "      <td>30000.000000</td>\n",
              "      <td>30000.000000</td>\n",
              "      <td>30000.000000</td>\n",
              "      <td>30000.000000</td>\n",
              "      <td>3.000000e+04</td>\n",
              "      <td>30000.000000</td>\n",
              "      <td>30000.000000</td>\n",
              "      <td>30000.000000</td>\n",
              "      <td>30000.000000</td>\n",
              "      <td>3.000000e+04</td>\n",
              "      <td>30000.00000</td>\n",
              "      <td>30000.000000</td>\n",
              "      <td>30000.000000</td>\n",
              "      <td>30000.000000</td>\n",
              "      <td>30000.000000</td>\n",
              "    </tr>\n",
              "    <tr>\n",
              "      <th>mean</th>\n",
              "      <td>167484.322667</td>\n",
              "      <td>35.518833</td>\n",
              "      <td>-0.016700</td>\n",
              "      <td>-0.133767</td>\n",
              "      <td>-0.166200</td>\n",
              "      <td>-0.220667</td>\n",
              "      <td>-0.266200</td>\n",
              "      <td>-0.291100</td>\n",
              "      <td>51223.330900</td>\n",
              "      <td>49179.075167</td>\n",
              "      <td>4.701315e+04</td>\n",
              "      <td>43262.948967</td>\n",
              "      <td>40311.400967</td>\n",
              "      <td>38871.760400</td>\n",
              "      <td>5663.580500</td>\n",
              "      <td>5.921163e+03</td>\n",
              "      <td>5225.68150</td>\n",
              "      <td>4826.076867</td>\n",
              "      <td>4799.387633</td>\n",
              "      <td>5215.502567</td>\n",
              "      <td>0.221200</td>\n",
              "    </tr>\n",
              "    <tr>\n",
              "      <th>std</th>\n",
              "      <td>129747.661567</td>\n",
              "      <td>9.528019</td>\n",
              "      <td>1.123802</td>\n",
              "      <td>1.197186</td>\n",
              "      <td>1.196868</td>\n",
              "      <td>1.169139</td>\n",
              "      <td>1.133187</td>\n",
              "      <td>1.149988</td>\n",
              "      <td>73635.860576</td>\n",
              "      <td>71173.768783</td>\n",
              "      <td>6.934939e+04</td>\n",
              "      <td>64332.856134</td>\n",
              "      <td>60797.155770</td>\n",
              "      <td>59554.107537</td>\n",
              "      <td>16563.280354</td>\n",
              "      <td>2.304087e+04</td>\n",
              "      <td>17606.96147</td>\n",
              "      <td>15666.159744</td>\n",
              "      <td>15278.305679</td>\n",
              "      <td>17777.465775</td>\n",
              "      <td>0.415062</td>\n",
              "    </tr>\n",
              "    <tr>\n",
              "      <th>min</th>\n",
              "      <td>10000.000000</td>\n",
              "      <td>21.000000</td>\n",
              "      <td>-2.000000</td>\n",
              "      <td>-2.000000</td>\n",
              "      <td>-2.000000</td>\n",
              "      <td>-2.000000</td>\n",
              "      <td>-2.000000</td>\n",
              "      <td>-2.000000</td>\n",
              "      <td>-165580.000000</td>\n",
              "      <td>-69777.000000</td>\n",
              "      <td>-1.572640e+05</td>\n",
              "      <td>-170000.000000</td>\n",
              "      <td>-81334.000000</td>\n",
              "      <td>-339603.000000</td>\n",
              "      <td>0.000000</td>\n",
              "      <td>0.000000e+00</td>\n",
              "      <td>0.00000</td>\n",
              "      <td>0.000000</td>\n",
              "      <td>0.000000</td>\n",
              "      <td>0.000000</td>\n",
              "      <td>0.000000</td>\n",
              "    </tr>\n",
              "    <tr>\n",
              "      <th>25%</th>\n",
              "      <td>50000.000000</td>\n",
              "      <td>28.000000</td>\n",
              "      <td>-1.000000</td>\n",
              "      <td>-1.000000</td>\n",
              "      <td>-1.000000</td>\n",
              "      <td>-1.000000</td>\n",
              "      <td>-1.000000</td>\n",
              "      <td>-1.000000</td>\n",
              "      <td>3558.750000</td>\n",
              "      <td>2984.750000</td>\n",
              "      <td>2.666250e+03</td>\n",
              "      <td>2326.750000</td>\n",
              "      <td>1763.000000</td>\n",
              "      <td>1256.000000</td>\n",
              "      <td>1000.000000</td>\n",
              "      <td>8.330000e+02</td>\n",
              "      <td>390.00000</td>\n",
              "      <td>296.000000</td>\n",
              "      <td>252.500000</td>\n",
              "      <td>117.750000</td>\n",
              "      <td>0.000000</td>\n",
              "    </tr>\n",
              "    <tr>\n",
              "      <th>50%</th>\n",
              "      <td>140000.000000</td>\n",
              "      <td>34.000000</td>\n",
              "      <td>0.000000</td>\n",
              "      <td>0.000000</td>\n",
              "      <td>0.000000</td>\n",
              "      <td>0.000000</td>\n",
              "      <td>0.000000</td>\n",
              "      <td>0.000000</td>\n",
              "      <td>22381.500000</td>\n",
              "      <td>21200.000000</td>\n",
              "      <td>2.008850e+04</td>\n",
              "      <td>19052.000000</td>\n",
              "      <td>18104.500000</td>\n",
              "      <td>17071.000000</td>\n",
              "      <td>2100.000000</td>\n",
              "      <td>2.009000e+03</td>\n",
              "      <td>1800.00000</td>\n",
              "      <td>1500.000000</td>\n",
              "      <td>1500.000000</td>\n",
              "      <td>1500.000000</td>\n",
              "      <td>0.000000</td>\n",
              "    </tr>\n",
              "    <tr>\n",
              "      <th>75%</th>\n",
              "      <td>240000.000000</td>\n",
              "      <td>41.000000</td>\n",
              "      <td>0.000000</td>\n",
              "      <td>0.000000</td>\n",
              "      <td>0.000000</td>\n",
              "      <td>0.000000</td>\n",
              "      <td>0.000000</td>\n",
              "      <td>0.000000</td>\n",
              "      <td>67091.000000</td>\n",
              "      <td>64006.250000</td>\n",
              "      <td>6.016475e+04</td>\n",
              "      <td>54506.000000</td>\n",
              "      <td>50190.500000</td>\n",
              "      <td>49198.250000</td>\n",
              "      <td>5006.000000</td>\n",
              "      <td>5.000000e+03</td>\n",
              "      <td>4505.00000</td>\n",
              "      <td>4013.250000</td>\n",
              "      <td>4031.500000</td>\n",
              "      <td>4000.000000</td>\n",
              "      <td>0.000000</td>\n",
              "    </tr>\n",
              "    <tr>\n",
              "      <th>max</th>\n",
              "      <td>1000000.000000</td>\n",
              "      <td>267.000000</td>\n",
              "      <td>8.000000</td>\n",
              "      <td>8.000000</td>\n",
              "      <td>8.000000</td>\n",
              "      <td>8.000000</td>\n",
              "      <td>8.000000</td>\n",
              "      <td>8.000000</td>\n",
              "      <td>964511.000000</td>\n",
              "      <td>983931.000000</td>\n",
              "      <td>1.664089e+06</td>\n",
              "      <td>891586.000000</td>\n",
              "      <td>927171.000000</td>\n",
              "      <td>961664.000000</td>\n",
              "      <td>873552.000000</td>\n",
              "      <td>1.684259e+06</td>\n",
              "      <td>896040.00000</td>\n",
              "      <td>621000.000000</td>\n",
              "      <td>426529.000000</td>\n",
              "      <td>528666.000000</td>\n",
              "      <td>1.000000</td>\n",
              "    </tr>\n",
              "  </tbody>\n",
              "</table>\n",
              "</div>"
            ],
            "text/plain": [
              "                   X1            X5            X6            X7            X8  \\\n",
              "ID          LIMIT_BAL           AGE         PAY_0         PAY_2         PAY_3   \n",
              "count    30000.000000  30000.000000  30000.000000  30000.000000  30000.000000   \n",
              "mean    167484.322667     35.518833     -0.016700     -0.133767     -0.166200   \n",
              "std     129747.661567      9.528019      1.123802      1.197186      1.196868   \n",
              "min      10000.000000     21.000000     -2.000000     -2.000000     -2.000000   \n",
              "25%      50000.000000     28.000000     -1.000000     -1.000000     -1.000000   \n",
              "50%     140000.000000     34.000000      0.000000      0.000000      0.000000   \n",
              "75%     240000.000000     41.000000      0.000000      0.000000      0.000000   \n",
              "max    1000000.000000    267.000000      8.000000      8.000000      8.000000   \n",
              "\n",
              "                 X9           X10           X11            X12            X13  \\\n",
              "ID            PAY_4         PAY_5         PAY_6      BILL_AMT1      BILL_AMT2   \n",
              "count  30000.000000  30000.000000  30000.000000   30000.000000   30000.000000   \n",
              "mean      -0.220667     -0.266200     -0.291100   51223.330900   49179.075167   \n",
              "std        1.169139      1.133187      1.149988   73635.860576   71173.768783   \n",
              "min       -2.000000     -2.000000     -2.000000 -165580.000000  -69777.000000   \n",
              "25%       -1.000000     -1.000000     -1.000000    3558.750000    2984.750000   \n",
              "50%        0.000000      0.000000      0.000000   22381.500000   21200.000000   \n",
              "75%        0.000000      0.000000      0.000000   67091.000000   64006.250000   \n",
              "max        8.000000      8.000000      8.000000  964511.000000  983931.000000   \n",
              "\n",
              "                X14            X15            X16            X17  \\\n",
              "ID        BILL_AMT3      BILL_AMT4      BILL_AMT5      BILL_AMT6   \n",
              "count  3.000000e+04   30000.000000   30000.000000   30000.000000   \n",
              "mean   4.701315e+04   43262.948967   40311.400967   38871.760400   \n",
              "std    6.934939e+04   64332.856134   60797.155770   59554.107537   \n",
              "min   -1.572640e+05 -170000.000000  -81334.000000 -339603.000000   \n",
              "25%    2.666250e+03    2326.750000    1763.000000    1256.000000   \n",
              "50%    2.008850e+04   19052.000000   18104.500000   17071.000000   \n",
              "75%    6.016475e+04   54506.000000   50190.500000   49198.250000   \n",
              "max    1.664089e+06  891586.000000  927171.000000  961664.000000   \n",
              "\n",
              "                 X18           X19           X20            X21  \\\n",
              "ID          PAY_AMT1      PAY_AMT2      PAY_AMT3       PAY_AMT4   \n",
              "count   30000.000000  3.000000e+04   30000.00000   30000.000000   \n",
              "mean     5663.580500  5.921163e+03    5225.68150    4826.076867   \n",
              "std     16563.280354  2.304087e+04   17606.96147   15666.159744   \n",
              "min         0.000000  0.000000e+00       0.00000       0.000000   \n",
              "25%      1000.000000  8.330000e+02     390.00000     296.000000   \n",
              "50%      2100.000000  2.009000e+03    1800.00000    1500.000000   \n",
              "75%      5006.000000  5.000000e+03    4505.00000    4013.250000   \n",
              "max    873552.000000  1.684259e+06  896040.00000  621000.000000   \n",
              "\n",
              "                 X22            X23                          Y  \n",
              "ID          PAY_AMT5       PAY_AMT6 default payment next month  \n",
              "count   30000.000000   30000.000000               30000.000000  \n",
              "mean     4799.387633    5215.502567                   0.221200  \n",
              "std     15278.305679   17777.465775                   0.415062  \n",
              "min         0.000000       0.000000                   0.000000  \n",
              "25%       252.500000     117.750000                   0.000000  \n",
              "50%      1500.000000    1500.000000                   0.000000  \n",
              "75%      4031.500000    4000.000000                   0.000000  \n",
              "max    426529.000000  528666.000000                   1.000000  "
            ]
          },
          "metadata": {
            "tags": []
          },
          "execution_count": 7
        }
      ]
    },
    {
      "cell_type": "markdown",
      "metadata": {
        "id": "mBRVM5Z4FZnD"
      },
      "source": [
        "Let's visualize the dataset to have overall overview"
      ]
    },
    {
      "cell_type": "code",
      "metadata": {
        "colab": {
          "base_uri": "https://localhost:8080/",
          "height": 1000
        },
        "id": "479Le-ZiCDMn",
        "scrolled": true,
        "outputId": "e94da344-8003-49ea-a732-925086325564"
      },
      "source": [
        "df.hist(figsize=(20,20), bins=20);"
      ],
      "execution_count": 8,
      "outputs": [
        {
          "output_type": "display_data",
          "data": {
            "image/png": "[encoded data removed]",
            "text/plain": [
              "<Figure size 1440x1440 with 25 Axes>"
            ]
          },
          "metadata": {
            "tags": [],
            "needs_background": "light"
          }
        }
      ]
    },
    {
      "cell_type": "code",
      "metadata": {
        "colab": {
          "base_uri": "https://localhost:8080/"
        },
        "id": "DF5WKns-FZnG",
        "outputId": "60574903-ff6f-4bcf-fd0e-01176e1db299"
      },
      "source": [
        "df['X5'].value_counts().sort_values()"
      ],
      "execution_count": 9,
      "outputs": [
        {
          "output_type": "execute_result",
          "data": {
            "text/plain": [
              "AGE\n",
              "267       1\n",
              "228       1\n",
              "140       1\n",
              "152       1\n",
              "74        1\n",
              "       ... \n",
              "26     1255\n",
              "30     1395\n",
              "28     1408\n",
              "27     1477\n",
              "29     1605\n",
              "Length: 63, dtype: int64"
            ]
          },
          "metadata": {
            "tags": []
          },
          "execution_count": 9
        }
      ]
    },
    {
      "cell_type": "markdown",
      "metadata": {
        "id": "-_UBK6ZNFZnH"
      },
      "source": [
        "It's obvious that we have outliers in age column at 267, 228, 235, 140, 149, 152 and 126, Let's modify these values, here I removed the two hundreds and one hundred value cause I think it has been added by mistak   "
      ]
    },
    {
      "cell_type": "code",
      "metadata": {
        "id": "WQewuoRhFZnJ"
      },
      "source": [
        "df['X5'] = df['X5'].replace([267,228,235,140,149,152,126],[67,28,35,40,49,52,26])"
      ],
      "execution_count": 10,
      "outputs": []
    },
    {
      "cell_type": "code",
      "metadata": {
        "colab": {
          "base_uri": "https://localhost:8080/"
        },
        "id": "0rKXsASKFZnK",
        "outputId": "293f65e9-0c51-4c39-a986-d38a10990001"
      },
      "source": [
        "df['X5'].value_counts().sort_values()"
      ],
      "execution_count": 11,
      "outputs": [
        {
          "output_type": "execute_result",
          "data": {
            "text/plain": [
              "AGE\n",
              "79        1\n",
              "74        1\n",
              "75        3\n",
              "72        3\n",
              "71        3\n",
              "73        4\n",
              "68        5\n",
              "70       10\n",
              "69       15\n",
              "67       16\n",
              "65       24\n",
              "66       25\n",
              "64       31\n",
              "63       31\n",
              "62       44\n",
              "61       56\n",
              "60       67\n",
              "21       67\n",
              "59       83\n",
              "57      122\n",
              "58      122\n",
              "56      178\n",
              "55      209\n",
              "54      247\n",
              "52      304\n",
              "53      325\n",
              "51      340\n",
              "50      411\n",
              "49      452\n",
              "48      466\n",
              "47      501\n",
              "22      560\n",
              "46      570\n",
              "45      617\n",
              "43      670\n",
              "44      700\n",
              "42      794\n",
              "41      824\n",
              "40      870\n",
              "23      931\n",
              "38      944\n",
              "39      954\n",
              "37     1041\n",
              "36     1108\n",
              "35     1113\n",
              "24     1127\n",
              "33     1146\n",
              "32     1158\n",
              "34     1162\n",
              "25     1186\n",
              "31     1217\n",
              "26     1256\n",
              "30     1395\n",
              "28     1409\n",
              "27     1477\n",
              "29     1605\n",
              "dtype: int64"
            ]
          },
          "metadata": {
            "tags": []
          },
          "execution_count": 11
        }
      ]
    },
    {
      "cell_type": "code",
      "metadata": {
        "scrolled": true,
        "colab": {
          "base_uri": "https://localhost:8080/"
        },
        "id": "2rhQDGhmFZnN",
        "outputId": "4c9494c4-938e-49cb-caf5-19e8cdda9b37"
      },
      "source": [
        "df.isna().sum()"
      ],
      "execution_count": 12,
      "outputs": [
        {
          "output_type": "execute_result",
          "data": {
            "text/plain": [
              "     ID                        \n",
              "X1   LIMIT_BAL                       0\n",
              "X2   SEX                             0\n",
              "X3   EDUCATION                     331\n",
              "X4   MARRIAGE                      323\n",
              "X5   AGE                             0\n",
              "X6   PAY_0                           0\n",
              "X7   PAY_2                           0\n",
              "X8   PAY_3                           0\n",
              "X9   PAY_4                           0\n",
              "X10  PAY_5                           0\n",
              "X11  PAY_6                           0\n",
              "X12  BILL_AMT1                       0\n",
              "X13  BILL_AMT2                       0\n",
              "X14  BILL_AMT3                       0\n",
              "X15  BILL_AMT4                       0\n",
              "X16  BILL_AMT5                       0\n",
              "X17  BILL_AMT6                       0\n",
              "X18  PAY_AMT1                        0\n",
              "X19  PAY_AMT2                        0\n",
              "X20  PAY_AMT3                        0\n",
              "X21  PAY_AMT4                        0\n",
              "X22  PAY_AMT5                        0\n",
              "X23  PAY_AMT6                        0\n",
              "Y    default payment next month      0\n",
              "dtype: int64"
            ]
          },
          "metadata": {
            "tags": []
          },
          "execution_count": 12
        }
      ]
    },
    {
      "cell_type": "code",
      "metadata": {
        "colab": {
          "base_uri": "https://localhost:8080/"
        },
        "id": "Xgbb95S0FZnU",
        "outputId": "c9c98660-2951-485d-eb96-99979d853845"
      },
      "source": [
        "df['X3'].value_counts()"
      ],
      "execution_count": 13,
      "outputs": [
        {
          "output_type": "execute_result",
          "data": {
            "text/plain": [
              "EDUCATION      \n",
              "university         14030\n",
              "graduate school    10585\n",
              "high school         4916\n",
              "others               124\n",
              "0                     14\n",
              "dtype: int64"
            ]
          },
          "metadata": {
            "tags": []
          },
          "execution_count": 13
        }
      ]
    },
    {
      "cell_type": "code",
      "metadata": {
        "scrolled": true,
        "colab": {
          "base_uri": "https://localhost:8080/"
        },
        "id": "E-_N0vhdFZnV",
        "outputId": "750be0aa-be99-4009-ba72-650712999549"
      },
      "source": [
        "df['X4'].value_counts()"
      ],
      "execution_count": 14,
      "outputs": [
        {
          "output_type": "execute_result",
          "data": {
            "text/plain": [
              "MARRIAGE\n",
              "single      15964\n",
              "married     13659\n",
              "0              54\n",
              "dtype: int64"
            ]
          },
          "metadata": {
            "tags": []
          },
          "execution_count": 14
        }
      ]
    },
    {
      "cell_type": "markdown",
      "metadata": {
        "id": "NIrkLDAGFZnX"
      },
      "source": [
        "Let's fill the missing values with the most frequent in EDUCATION and MARRIAGE"
      ]
    },
    {
      "cell_type": "code",
      "metadata": {
        "id": "nn1e71EvFZnY"
      },
      "source": [
        "df['X3'] = df['X3'].fillna(df['X3'].mode().iloc[0])"
      ],
      "execution_count": 15,
      "outputs": []
    },
    {
      "cell_type": "code",
      "metadata": {
        "id": "1xshXOK4FZnZ"
      },
      "source": [
        "df['X4'] = df['X4'].fillna(df['X4'].mode().iloc[0])"
      ],
      "execution_count": 16,
      "outputs": []
    },
    {
      "cell_type": "code",
      "metadata": {
        "colab": {
          "base_uri": "https://localhost:8080/"
        },
        "id": "ZlRIzruEFZnZ",
        "outputId": "b78d7b0d-f380-4f42-daf9-52d48145b8f0"
      },
      "source": [
        "df.isna().sum()"
      ],
      "execution_count": 17,
      "outputs": [
        {
          "output_type": "execute_result",
          "data": {
            "text/plain": [
              "     ID                        \n",
              "X1   LIMIT_BAL                     0\n",
              "X2   SEX                           0\n",
              "X3   EDUCATION                     0\n",
              "X4   MARRIAGE                      0\n",
              "X5   AGE                           0\n",
              "X6   PAY_0                         0\n",
              "X7   PAY_2                         0\n",
              "X8   PAY_3                         0\n",
              "X9   PAY_4                         0\n",
              "X10  PAY_5                         0\n",
              "X11  PAY_6                         0\n",
              "X12  BILL_AMT1                     0\n",
              "X13  BILL_AMT2                     0\n",
              "X14  BILL_AMT3                     0\n",
              "X15  BILL_AMT4                     0\n",
              "X16  BILL_AMT5                     0\n",
              "X17  BILL_AMT6                     0\n",
              "X18  PAY_AMT1                      0\n",
              "X19  PAY_AMT2                      0\n",
              "X20  PAY_AMT3                      0\n",
              "X21  PAY_AMT4                      0\n",
              "X22  PAY_AMT5                      0\n",
              "X23  PAY_AMT6                      0\n",
              "Y    default payment next month    0\n",
              "dtype: int64"
            ]
          },
          "metadata": {
            "tags": []
          },
          "execution_count": 17
        }
      ]
    },
    {
      "cell_type": "markdown",
      "metadata": {
        "id": "18IIZjE0FZnb"
      },
      "source": [
        "I have noticed that EDUCATION and MARRIAGE have a labels 0 that is undocumented, let's replace it with others."
      ]
    },
    {
      "cell_type": "code",
      "metadata": {
        "id": "gklh18KIFZnc"
      },
      "source": [
        "df['X3'] = df['X3'].replace(0,'others')"
      ],
      "execution_count": 18,
      "outputs": []
    },
    {
      "cell_type": "code",
      "metadata": {
        "colab": {
          "base_uri": "https://localhost:8080/"
        },
        "id": "Yw95o2i7FZnd",
        "outputId": "8e8f9404-1b5d-4e65-f2c3-87031d63dc21"
      },
      "source": [
        "df['X3'].value_counts()"
      ],
      "execution_count": 19,
      "outputs": [
        {
          "output_type": "execute_result",
          "data": {
            "text/plain": [
              "EDUCATION      \n",
              "university         14361\n",
              "graduate school    10585\n",
              "high school         4916\n",
              "others               138\n",
              "dtype: int64"
            ]
          },
          "metadata": {
            "tags": []
          },
          "execution_count": 19
        }
      ]
    },
    {
      "cell_type": "code",
      "metadata": {
        "id": "e0BKpgPzFZne"
      },
      "source": [
        "df['X4'] = df['X4'].replace(0,'others')"
      ],
      "execution_count": 20,
      "outputs": []
    },
    {
      "cell_type": "code",
      "metadata": {
        "colab": {
          "base_uri": "https://localhost:8080/"
        },
        "id": "9mQrTOURFZni",
        "outputId": "209be8f8-fb1f-4b76-a3e4-5eb848240289"
      },
      "source": [
        "df['X4'].value_counts()"
      ],
      "execution_count": 21,
      "outputs": [
        {
          "output_type": "execute_result",
          "data": {
            "text/plain": [
              "MARRIAGE\n",
              "single      16287\n",
              "married     13659\n",
              "others         54\n",
              "dtype: int64"
            ]
          },
          "metadata": {
            "tags": []
          },
          "execution_count": 21
        }
      ]
    },
    {
      "cell_type": "code",
      "metadata": {
        "colab": {
          "base_uri": "https://localhost:8080/"
        },
        "id": "yyUtbLCvCDMw",
        "outputId": "831bc60a-43c3-4e5b-e619-d8e45fe83042"
      },
      "source": [
        "# Number of unique elements in dataset\n",
        "df.nunique()"
      ],
      "execution_count": 22,
      "outputs": [
        {
          "output_type": "execute_result",
          "data": {
            "text/plain": [
              "     ID                        \n",
              "X1   LIMIT_BAL                        81\n",
              "X2   SEX                               2\n",
              "X3   EDUCATION                         4\n",
              "X4   MARRIAGE                          3\n",
              "X5   AGE                              56\n",
              "X6   PAY_0                            11\n",
              "X7   PAY_2                            11\n",
              "X8   PAY_3                            11\n",
              "X9   PAY_4                            11\n",
              "X10  PAY_5                            10\n",
              "X11  PAY_6                            10\n",
              "X12  BILL_AMT1                     22723\n",
              "X13  BILL_AMT2                     22346\n",
              "X14  BILL_AMT3                     22026\n",
              "X15  BILL_AMT4                     21548\n",
              "X16  BILL_AMT5                     21010\n",
              "X17  BILL_AMT6                     20604\n",
              "X18  PAY_AMT1                       7943\n",
              "X19  PAY_AMT2                       7899\n",
              "X20  PAY_AMT3                       7518\n",
              "X21  PAY_AMT4                       6937\n",
              "X22  PAY_AMT5                       6897\n",
              "X23  PAY_AMT6                       6939\n",
              "Y    default payment next month        2\n",
              "dtype: int64"
            ]
          },
          "metadata": {
            "tags": []
          },
          "execution_count": 22
        }
      ]
    },
    {
      "cell_type": "code",
      "metadata": {
        "colab": {
          "base_uri": "https://localhost:8080/"
        },
        "id": "6QPmNNchCDOJ",
        "outputId": "cf3e6d79-8f0b-45bc-9975-a698d130e3e5"
      },
      "source": [
        "df.info()"
      ],
      "execution_count": 23,
      "outputs": [
        {
          "output_type": "stream",
          "text": [
            "<class 'pandas.core.frame.DataFrame'>\n",
            "Int64Index: 30000 entries, 1 to 30000\n",
            "Data columns (total 24 columns):\n",
            " #   Column                           Non-Null Count  Dtype  \n",
            "---  ------                           --------------  -----  \n",
            " 0   (X1, LIMIT_BAL)                  30000 non-null  float64\n",
            " 1   (X2, SEX)                        30000 non-null  object \n",
            " 2   (X3, EDUCATION)                  30000 non-null  object \n",
            " 3   (X4, MARRIAGE)                   30000 non-null  object \n",
            " 4   (X5, AGE)                        30000 non-null  int64  \n",
            " 5   (X6, PAY_0)                      30000 non-null  int64  \n",
            " 6   (X7, PAY_2)                      30000 non-null  int64  \n",
            " 7   (X8, PAY_3)                      30000 non-null  int64  \n",
            " 8   (X9, PAY_4)                      30000 non-null  int64  \n",
            " 9   (X10, PAY_5)                     30000 non-null  int64  \n",
            " 10  (X11, PAY_6)                     30000 non-null  int64  \n",
            " 11  (X12, BILL_AMT1)                 30000 non-null  float64\n",
            " 12  (X13, BILL_AMT2)                 30000 non-null  float64\n",
            " 13  (X14, BILL_AMT3)                 30000 non-null  float64\n",
            " 14  (X15, BILL_AMT4)                 30000 non-null  float64\n",
            " 15  (X16, BILL_AMT5)                 30000 non-null  float64\n",
            " 16  (X17, BILL_AMT6)                 30000 non-null  float64\n",
            " 17  (X18, PAY_AMT1)                  30000 non-null  float64\n",
            " 18  (X19, PAY_AMT2)                  30000 non-null  float64\n",
            " 19  (X20, PAY_AMT3)                  30000 non-null  float64\n",
            " 20  (X21, PAY_AMT4)                  30000 non-null  float64\n",
            " 21  (X22, PAY_AMT5)                  30000 non-null  float64\n",
            " 22  (X23, PAY_AMT6)                  30000 non-null  float64\n",
            " 23  (Y, default payment next month)  30000 non-null  int64  \n",
            "dtypes: float64(13), int64(8), object(3)\n",
            "memory usage: 5.7+ MB\n"
          ],
          "name": "stdout"
        }
      ]
    },
    {
      "cell_type": "markdown",
      "metadata": {
        "id": "_PcxSXdXCDOX"
      },
      "source": [
        "## 3. <a name=\"3\">Select features to build the model</a>\n",
        "(<a href=\"#0\">Go to top</a>)\n"
      ]
    },
    {
      "cell_type": "code",
      "metadata": {
        "scrolled": true,
        "colab": {
          "base_uri": "https://localhost:8080/",
          "height": 1000
        },
        "id": "t6Ky7MzRFZno",
        "outputId": "a8b2c118-066d-4c18-b05a-10e46f930c17"
      },
      "source": [
        "# Display correlation \n",
        "f, ax = plt.subplots(figsize=(32, 26))\n",
        "corr = df.corr()\n",
        "mp = sns.heatmap(corr, mask=np.zeros_like(corr, dtype=np.bool), cmap=sns.diverging_palette(220, 10, as_cmap=True),\n",
        "            square=True, ax=ax, annot = True)\n",
        "mp.set_title(label='dataset correlation', fontsize=20)"
      ],
      "execution_count": 24,
      "outputs": [
        {
          "output_type": "execute_result",
          "data": {
            "text/plain": [
              "Text(0.5, 1.0, 'dataset correlation')"
            ]
          },
          "metadata": {
            "tags": []
          },
          "execution_count": 24
        },
        {
          "output_type": "display_data",
          "data": {
            "image/png": "[encoded data removed]",
            "text/plain": [
              "<Figure size 2304x1872 with 2 Axes>"
            ]
          },
          "metadata": {
            "tags": [],
            "needs_background": "light"
          }
        }
      ]
    },
    {
      "cell_type": "markdown",
      "metadata": {
        "id": "ksrA03kvFZnp"
      },
      "source": [
        "- BILL_AMT1, BILL_AMT2, BILL_AMT3, BILL_AMT4, BILL_AMT5, & BILL_AMT6 are highly correlated let them for now"
      ]
    },
    {
      "cell_type": "markdown",
      "metadata": {
        "id": "axFdFDv-FZnq"
      },
      "source": [
        "Let's select our target value "
      ]
    },
    {
      "cell_type": "code",
      "metadata": {
        "colab": {
          "base_uri": "https://localhost:8080/",
          "height": 407
        },
        "id": "7gJ23I6PCDOf",
        "outputId": "641551ec-4a3e-4bee-eeba-e2df932836ef"
      },
      "source": [
        "y = df['Y']\n",
        "y"
      ],
      "execution_count": 25,
      "outputs": [
        {
          "output_type": "execute_result",
          "data": {
            "text/html": [
              "<div>\n",
              "<style scoped>\n",
              "    .dataframe tbody tr th:only-of-type {\n",
              "        vertical-align: middle;\n",
              "    }\n",
              "\n",
              "    .dataframe tbody tr th {\n",
              "        vertical-align: top;\n",
              "    }\n",
              "\n",
              "    .dataframe thead th {\n",
              "        text-align: right;\n",
              "    }\n",
              "</style>\n",
              "<table border=\"1\" class=\"dataframe\">\n",
              "  <thead>\n",
              "    <tr style=\"text-align: right;\">\n",
              "      <th>ID</th>\n",
              "      <th>default payment next month</th>\n",
              "    </tr>\n",
              "  </thead>\n",
              "  <tbody>\n",
              "    <tr>\n",
              "      <th>1</th>\n",
              "      <td>1</td>\n",
              "    </tr>\n",
              "    <tr>\n",
              "      <th>2</th>\n",
              "      <td>1</td>\n",
              "    </tr>\n",
              "    <tr>\n",
              "      <th>3</th>\n",
              "      <td>0</td>\n",
              "    </tr>\n",
              "    <tr>\n",
              "      <th>4</th>\n",
              "      <td>0</td>\n",
              "    </tr>\n",
              "    <tr>\n",
              "      <th>5</th>\n",
              "      <td>0</td>\n",
              "    </tr>\n",
              "    <tr>\n",
              "      <th>...</th>\n",
              "      <td>...</td>\n",
              "    </tr>\n",
              "    <tr>\n",
              "      <th>29996</th>\n",
              "      <td>0</td>\n",
              "    </tr>\n",
              "    <tr>\n",
              "      <th>29997</th>\n",
              "      <td>0</td>\n",
              "    </tr>\n",
              "    <tr>\n",
              "      <th>29998</th>\n",
              "      <td>1</td>\n",
              "    </tr>\n",
              "    <tr>\n",
              "      <th>29999</th>\n",
              "      <td>1</td>\n",
              "    </tr>\n",
              "    <tr>\n",
              "      <th>30000</th>\n",
              "      <td>1</td>\n",
              "    </tr>\n",
              "  </tbody>\n",
              "</table>\n",
              "<p>30000 rows × 1 columns</p>\n",
              "</div>"
            ],
            "text/plain": [
              "ID     default payment next month\n",
              "1                               1\n",
              "2                               1\n",
              "3                               0\n",
              "4                               0\n",
              "5                               0\n",
              "...                           ...\n",
              "29996                           0\n",
              "29997                           0\n",
              "29998                           1\n",
              "29999                           1\n",
              "30000                           1\n",
              "\n",
              "[30000 rows x 1 columns]"
            ]
          },
          "metadata": {
            "tags": []
          },
          "execution_count": 25
        }
      ]
    },
    {
      "cell_type": "code",
      "metadata": {
        "id": "2fBrQ8ZBCDOj"
      },
      "source": [
        "X = df.drop('Y', axis =1)"
      ],
      "execution_count": 26,
      "outputs": []
    },
    {
      "cell_type": "code",
      "metadata": {
        "colab": {
          "base_uri": "https://localhost:8080/",
          "height": 253
        },
        "id": "hseY8U8xCDOm",
        "scrolled": false,
        "outputId": "2e48f846-0617-475a-9b80-03462a4e6017"
      },
      "source": [
        "X = pd.get_dummies(data=X, columns=['X2', 'X3', 'X4'])\n",
        "X.head()"
      ],
      "execution_count": 27,
      "outputs": [
        {
          "output_type": "execute_result",
          "data": {
            "text/html": [
              "<div>\n",
              "<style scoped>\n",
              "    .dataframe tbody tr th:only-of-type {\n",
              "        vertical-align: middle;\n",
              "    }\n",
              "\n",
              "    .dataframe tbody tr th {\n",
              "        vertical-align: top;\n",
              "    }\n",
              "\n",
              "    .dataframe thead th {\n",
              "        text-align: right;\n",
              "    }\n",
              "</style>\n",
              "<table border=\"1\" class=\"dataframe\">\n",
              "  <thead>\n",
              "    <tr style=\"text-align: right;\">\n",
              "      <th></th>\n",
              "      <th>(X1, LIMIT_BAL)</th>\n",
              "      <th>(X5, AGE)</th>\n",
              "      <th>(X6, PAY_0)</th>\n",
              "      <th>(X7, PAY_2)</th>\n",
              "      <th>(X8, PAY_3)</th>\n",
              "      <th>(X9, PAY_4)</th>\n",
              "      <th>(X10, PAY_5)</th>\n",
              "      <th>(X11, PAY_6)</th>\n",
              "      <th>(X12, BILL_AMT1)</th>\n",
              "      <th>(X13, BILL_AMT2)</th>\n",
              "      <th>(X14, BILL_AMT3)</th>\n",
              "      <th>(X15, BILL_AMT4)</th>\n",
              "      <th>(X16, BILL_AMT5)</th>\n",
              "      <th>(X17, BILL_AMT6)</th>\n",
              "      <th>(X18, PAY_AMT1)</th>\n",
              "      <th>(X19, PAY_AMT2)</th>\n",
              "      <th>(X20, PAY_AMT3)</th>\n",
              "      <th>(X21, PAY_AMT4)</th>\n",
              "      <th>(X22, PAY_AMT5)</th>\n",
              "      <th>(X23, PAY_AMT6)</th>\n",
              "      <th>('X2', 'SEX')_female</th>\n",
              "      <th>('X2', 'SEX')_male</th>\n",
              "      <th>('X3', 'EDUCATION')_graduate school</th>\n",
              "      <th>('X3', 'EDUCATION')_high school</th>\n",
              "      <th>('X3', 'EDUCATION')_others</th>\n",
              "      <th>('X3', 'EDUCATION')_university</th>\n",
              "      <th>('X4', 'MARRIAGE')_married</th>\n",
              "      <th>('X4', 'MARRIAGE')_others</th>\n",
              "      <th>('X4', 'MARRIAGE')_single</th>\n",
              "    </tr>\n",
              "  </thead>\n",
              "  <tbody>\n",
              "    <tr>\n",
              "      <th>1</th>\n",
              "      <td>20000.0</td>\n",
              "      <td>24</td>\n",
              "      <td>2</td>\n",
              "      <td>2</td>\n",
              "      <td>-1</td>\n",
              "      <td>-1</td>\n",
              "      <td>-2</td>\n",
              "      <td>-2</td>\n",
              "      <td>3913.0</td>\n",
              "      <td>3102.0</td>\n",
              "      <td>689.0</td>\n",
              "      <td>0.0</td>\n",
              "      <td>0.0</td>\n",
              "      <td>0.0</td>\n",
              "      <td>0.0</td>\n",
              "      <td>689.0</td>\n",
              "      <td>0.0</td>\n",
              "      <td>0.0</td>\n",
              "      <td>0.0</td>\n",
              "      <td>0.0</td>\n",
              "      <td>1</td>\n",
              "      <td>0</td>\n",
              "      <td>0</td>\n",
              "      <td>0</td>\n",
              "      <td>0</td>\n",
              "      <td>1</td>\n",
              "      <td>1</td>\n",
              "      <td>0</td>\n",
              "      <td>0</td>\n",
              "    </tr>\n",
              "    <tr>\n",
              "      <th>2</th>\n",
              "      <td>120000.0</td>\n",
              "      <td>26</td>\n",
              "      <td>-1</td>\n",
              "      <td>2</td>\n",
              "      <td>0</td>\n",
              "      <td>0</td>\n",
              "      <td>0</td>\n",
              "      <td>2</td>\n",
              "      <td>2682.0</td>\n",
              "      <td>1725.0</td>\n",
              "      <td>2682.0</td>\n",
              "      <td>3272.0</td>\n",
              "      <td>3455.0</td>\n",
              "      <td>3261.0</td>\n",
              "      <td>0.0</td>\n",
              "      <td>1000.0</td>\n",
              "      <td>1000.0</td>\n",
              "      <td>1000.0</td>\n",
              "      <td>0.0</td>\n",
              "      <td>2000.0</td>\n",
              "      <td>1</td>\n",
              "      <td>0</td>\n",
              "      <td>0</td>\n",
              "      <td>0</td>\n",
              "      <td>0</td>\n",
              "      <td>1</td>\n",
              "      <td>0</td>\n",
              "      <td>0</td>\n",
              "      <td>1</td>\n",
              "    </tr>\n",
              "    <tr>\n",
              "      <th>3</th>\n",
              "      <td>90000.0</td>\n",
              "      <td>34</td>\n",
              "      <td>0</td>\n",
              "      <td>0</td>\n",
              "      <td>0</td>\n",
              "      <td>0</td>\n",
              "      <td>0</td>\n",
              "      <td>0</td>\n",
              "      <td>29239.0</td>\n",
              "      <td>14027.0</td>\n",
              "      <td>13559.0</td>\n",
              "      <td>14331.0</td>\n",
              "      <td>14948.0</td>\n",
              "      <td>15549.0</td>\n",
              "      <td>1518.0</td>\n",
              "      <td>1500.0</td>\n",
              "      <td>1000.0</td>\n",
              "      <td>1000.0</td>\n",
              "      <td>1000.0</td>\n",
              "      <td>5000.0</td>\n",
              "      <td>1</td>\n",
              "      <td>0</td>\n",
              "      <td>0</td>\n",
              "      <td>0</td>\n",
              "      <td>0</td>\n",
              "      <td>1</td>\n",
              "      <td>0</td>\n",
              "      <td>0</td>\n",
              "      <td>1</td>\n",
              "    </tr>\n",
              "    <tr>\n",
              "      <th>4</th>\n",
              "      <td>50000.0</td>\n",
              "      <td>37</td>\n",
              "      <td>0</td>\n",
              "      <td>0</td>\n",
              "      <td>0</td>\n",
              "      <td>0</td>\n",
              "      <td>0</td>\n",
              "      <td>0</td>\n",
              "      <td>46990.0</td>\n",
              "      <td>48233.0</td>\n",
              "      <td>49291.0</td>\n",
              "      <td>28314.0</td>\n",
              "      <td>28959.0</td>\n",
              "      <td>29547.0</td>\n",
              "      <td>2000.0</td>\n",
              "      <td>2019.0</td>\n",
              "      <td>1200.0</td>\n",
              "      <td>1100.0</td>\n",
              "      <td>1069.0</td>\n",
              "      <td>1000.0</td>\n",
              "      <td>1</td>\n",
              "      <td>0</td>\n",
              "      <td>0</td>\n",
              "      <td>0</td>\n",
              "      <td>0</td>\n",
              "      <td>1</td>\n",
              "      <td>1</td>\n",
              "      <td>0</td>\n",
              "      <td>0</td>\n",
              "    </tr>\n",
              "    <tr>\n",
              "      <th>5</th>\n",
              "      <td>50000.0</td>\n",
              "      <td>57</td>\n",
              "      <td>-1</td>\n",
              "      <td>0</td>\n",
              "      <td>-1</td>\n",
              "      <td>0</td>\n",
              "      <td>0</td>\n",
              "      <td>0</td>\n",
              "      <td>8617.0</td>\n",
              "      <td>5670.0</td>\n",
              "      <td>35835.0</td>\n",
              "      <td>20940.0</td>\n",
              "      <td>19146.0</td>\n",
              "      <td>19131.0</td>\n",
              "      <td>2000.0</td>\n",
              "      <td>36681.0</td>\n",
              "      <td>10000.0</td>\n",
              "      <td>9000.0</td>\n",
              "      <td>689.0</td>\n",
              "      <td>679.0</td>\n",
              "      <td>0</td>\n",
              "      <td>1</td>\n",
              "      <td>0</td>\n",
              "      <td>0</td>\n",
              "      <td>0</td>\n",
              "      <td>1</td>\n",
              "      <td>1</td>\n",
              "      <td>0</td>\n",
              "      <td>0</td>\n",
              "    </tr>\n",
              "  </tbody>\n",
              "</table>\n",
              "</div>"
            ],
            "text/plain": [
              "   (X1, LIMIT_BAL)  (X5, AGE)  (X6, PAY_0)  (X7, PAY_2)  (X8, PAY_3)  \\\n",
              "1          20000.0         24            2            2           -1   \n",
              "2         120000.0         26           -1            2            0   \n",
              "3          90000.0         34            0            0            0   \n",
              "4          50000.0         37            0            0            0   \n",
              "5          50000.0         57           -1            0           -1   \n",
              "\n",
              "   (X9, PAY_4)  (X10, PAY_5)  (X11, PAY_6)  (X12, BILL_AMT1)  \\\n",
              "1           -1            -2            -2            3913.0   \n",
              "2            0             0             2            2682.0   \n",
              "3            0             0             0           29239.0   \n",
              "4            0             0             0           46990.0   \n",
              "5            0             0             0            8617.0   \n",
              "\n",
              "   (X13, BILL_AMT2)  (X14, BILL_AMT3)  (X15, BILL_AMT4)  (X16, BILL_AMT5)  \\\n",
              "1            3102.0             689.0               0.0               0.0   \n",
              "2            1725.0            2682.0            3272.0            3455.0   \n",
              "3           14027.0           13559.0           14331.0           14948.0   \n",
              "4           48233.0           49291.0           28314.0           28959.0   \n",
              "5            5670.0           35835.0           20940.0           19146.0   \n",
              "\n",
              "   (X17, BILL_AMT6)  (X18, PAY_AMT1)  (X19, PAY_AMT2)  (X20, PAY_AMT3)  \\\n",
              "1               0.0              0.0            689.0              0.0   \n",
              "2            3261.0              0.0           1000.0           1000.0   \n",
              "3           15549.0           1518.0           1500.0           1000.0   \n",
              "4           29547.0           2000.0           2019.0           1200.0   \n",
              "5           19131.0           2000.0          36681.0          10000.0   \n",
              "\n",
              "   (X21, PAY_AMT4)  (X22, PAY_AMT5)  (X23, PAY_AMT6)  ('X2', 'SEX')_female  \\\n",
              "1              0.0              0.0              0.0                     1   \n",
              "2           1000.0              0.0           2000.0                     1   \n",
              "3           1000.0           1000.0           5000.0                     1   \n",
              "4           1100.0           1069.0           1000.0                     1   \n",
              "5           9000.0            689.0            679.0                     0   \n",
              "\n",
              "   ('X2', 'SEX')_male  ('X3', 'EDUCATION')_graduate school  \\\n",
              "1                   0                                    0   \n",
              "2                   0                                    0   \n",
              "3                   0                                    0   \n",
              "4                   0                                    0   \n",
              "5                   1                                    0   \n",
              "\n",
              "   ('X3', 'EDUCATION')_high school  ('X3', 'EDUCATION')_others  \\\n",
              "1                                0                           0   \n",
              "2                                0                           0   \n",
              "3                                0                           0   \n",
              "4                                0                           0   \n",
              "5                                0                           0   \n",
              "\n",
              "   ('X3', 'EDUCATION')_university  ('X4', 'MARRIAGE')_married  \\\n",
              "1                               1                           1   \n",
              "2                               1                           0   \n",
              "3                               1                           0   \n",
              "4                               1                           1   \n",
              "5                               1                           1   \n",
              "\n",
              "   ('X4', 'MARRIAGE')_others  ('X4', 'MARRIAGE')_single  \n",
              "1                          0                          0  \n",
              "2                          0                          1  \n",
              "3                          0                          1  \n",
              "4                          0                          0  \n",
              "5                          0                          0  "
            ]
          },
          "metadata": {
            "tags": []
          },
          "execution_count": 27
        }
      ]
    },
    {
      "cell_type": "code",
      "metadata": {
        "colab": {
          "base_uri": "https://localhost:8080/"
        },
        "id": "nqmNOaoiFZnw",
        "outputId": "0dd29701-e2ce-48bd-f2ad-1b3bb09b591c"
      },
      "source": [
        "X.info()"
      ],
      "execution_count": 28,
      "outputs": [
        {
          "output_type": "stream",
          "text": [
            "<class 'pandas.core.frame.DataFrame'>\n",
            "Int64Index: 30000 entries, 1 to 30000\n",
            "Data columns (total 29 columns):\n",
            " #   Column                               Non-Null Count  Dtype  \n",
            "---  ------                               --------------  -----  \n",
            " 0   (X1, LIMIT_BAL)                      30000 non-null  float64\n",
            " 1   (X5, AGE)                            30000 non-null  int64  \n",
            " 2   (X6, PAY_0)                          30000 non-null  int64  \n",
            " 3   (X7, PAY_2)                          30000 non-null  int64  \n",
            " 4   (X8, PAY_3)                          30000 non-null  int64  \n",
            " 5   (X9, PAY_4)                          30000 non-null  int64  \n",
            " 6   (X10, PAY_5)                         30000 non-null  int64  \n",
            " 7   (X11, PAY_6)                         30000 non-null  int64  \n",
            " 8   (X12, BILL_AMT1)                     30000 non-null  float64\n",
            " 9   (X13, BILL_AMT2)                     30000 non-null  float64\n",
            " 10  (X14, BILL_AMT3)                     30000 non-null  float64\n",
            " 11  (X15, BILL_AMT4)                     30000 non-null  float64\n",
            " 12  (X16, BILL_AMT5)                     30000 non-null  float64\n",
            " 13  (X17, BILL_AMT6)                     30000 non-null  float64\n",
            " 14  (X18, PAY_AMT1)                      30000 non-null  float64\n",
            " 15  (X19, PAY_AMT2)                      30000 non-null  float64\n",
            " 16  (X20, PAY_AMT3)                      30000 non-null  float64\n",
            " 17  (X21, PAY_AMT4)                      30000 non-null  float64\n",
            " 18  (X22, PAY_AMT5)                      30000 non-null  float64\n",
            " 19  (X23, PAY_AMT6)                      30000 non-null  float64\n",
            " 20  ('X2', 'SEX')_female                 30000 non-null  uint8  \n",
            " 21  ('X2', 'SEX')_male                   30000 non-null  uint8  \n",
            " 22  ('X3', 'EDUCATION')_graduate school  30000 non-null  uint8  \n",
            " 23  ('X3', 'EDUCATION')_high school      30000 non-null  uint8  \n",
            " 24  ('X3', 'EDUCATION')_others           30000 non-null  uint8  \n",
            " 25  ('X3', 'EDUCATION')_university       30000 non-null  uint8  \n",
            " 26  ('X4', 'MARRIAGE')_married           30000 non-null  uint8  \n",
            " 27  ('X4', 'MARRIAGE')_others            30000 non-null  uint8  \n",
            " 28  ('X4', 'MARRIAGE')_single            30000 non-null  uint8  \n",
            "dtypes: float64(13), int64(7), uint8(9)\n",
            "memory usage: 5.1 MB\n"
          ],
          "name": "stdout"
        }
      ]
    },
    {
      "cell_type": "code",
      "metadata": {
        "colab": {
          "base_uri": "https://localhost:8080/"
        },
        "id": "CfHy9KWlCDOp",
        "outputId": "2a23eeed-b010-43e5-9a3c-577c850facdf"
      },
      "source": [
        "from sklearn.model_selection import train_test_split\n",
        "# Get 80% of the data for training; the remaining 20% will be for validation and test\n",
        "X_train, X_test, y_train, y_test = train_test_split(X, y, test_size = 0.2)\n",
        "print(f\"Length of X_train is: {X_train.shape}\")\n",
        "print(f\"Length of y_train is: {y_train.shape}\")\n",
        "print(f\"Length of X_test is: {X_test.shape}\")\n",
        "print(f\"Length of y_test is: {y_test.shape}\")"
      ],
      "execution_count": 29,
      "outputs": [
        {
          "output_type": "stream",
          "text": [
            "Length of X_train is: (24000, 29)\n",
            "Length of y_train is: (24000, 1)\n",
            "Length of X_test is: (6000, 29)\n",
            "Length of y_test is: (6000, 1)\n"
          ],
          "name": "stdout"
        }
      ]
    },
    {
      "cell_type": "code",
      "metadata": {
        "id": "-mj5xC2eCDOz"
      },
      "source": [
        "# Feature scaling \n",
        "from sklearn.preprocessing import StandardScaler\n",
        "sc = StandardScaler()\n",
        "X_train = sc.fit_transform(X_train)\n",
        "X_test = sc.transform(X_test)"
      ],
      "execution_count": 30,
      "outputs": []
    },
    {
      "cell_type": "markdown",
      "metadata": {
        "id": "piRdGda7FZn3"
      },
      "source": [
        "## 6. <a name=\"6\">Train the classifier</a>\n",
        "(<a href=\"#0\">Go to top</a>)\n",
        "\n",
        "### Building the ANN"
      ]
    },
    {
      "cell_type": "markdown",
      "metadata": {
        "id": "Dj6e0u1_FZn3"
      },
      "source": [
        "#### Initializing the ANN "
      ]
    },
    {
      "cell_type": "code",
      "metadata": {
        "id": "FskKZ3i_FZn4"
      },
      "source": [
        "import tensorflow as tf\n",
        "ann = tf.keras.models.Sequential()"
      ],
      "execution_count": 31,
      "outputs": []
    },
    {
      "cell_type": "markdown",
      "metadata": {
        "id": "np5gVvAKFZn5"
      },
      "source": [
        "#### Adding the input layer and the first hidden layer"
      ]
    },
    {
      "cell_type": "code",
      "metadata": {
        "id": "Xtkb5KuWFZn6"
      },
      "source": [
        "ann.add(tf.keras.layers.Dense(units=6, activation='relu'))"
      ],
      "execution_count": 32,
      "outputs": []
    },
    {
      "cell_type": "markdown",
      "metadata": {
        "id": "rYVXhSvqFZn6"
      },
      "source": [
        "#### Adding the second hidden layer"
      ]
    },
    {
      "cell_type": "code",
      "metadata": {
        "id": "G8CEUeDmFZn7"
      },
      "source": [
        "ann.add(tf.keras.layers.Dense(units=6, activation='relu'))"
      ],
      "execution_count": 33,
      "outputs": []
    },
    {
      "cell_type": "markdown",
      "metadata": {
        "id": "VDDULqP9FZn8"
      },
      "source": [
        "#### Adding the output layer"
      ]
    },
    {
      "cell_type": "code",
      "metadata": {
        "id": "HZw9ElSlFZn9"
      },
      "source": [
        "ann.add(tf.keras.layers.Dense(units=1, activation='sigmoid'))"
      ],
      "execution_count": 34,
      "outputs": []
    },
    {
      "cell_type": "markdown",
      "metadata": {
        "id": "sCgqa2viFZn-"
      },
      "source": [
        "#### Compiling the ANN"
      ]
    },
    {
      "cell_type": "code",
      "metadata": {
        "id": "l4i1oeotFZn-"
      },
      "source": [
        "ann.compile(optimizer = 'adam', loss = 'binary_crossentropy', metrics = ['accuracy'])"
      ],
      "execution_count": 35,
      "outputs": []
    },
    {
      "cell_type": "markdown",
      "metadata": {
        "id": "RSaN6Gm-FZoA"
      },
      "source": [
        "#### Training the ANN on the Training set "
      ]
    },
    {
      "cell_type": "code",
      "metadata": {
        "colab": {
          "base_uri": "https://localhost:8080/"
        },
        "id": "i-gy_imHFZoC",
        "outputId": "de5c509c-8ef0-4666-a1aa-d52c129da313"
      },
      "source": [
        "ann.fit(X_train, y_train, batch_size = 32, epochs = 100)"
      ],
      "execution_count": 36,
      "outputs": [
        {
          "output_type": "stream",
          "text": [
            "Epoch 1/100\n",
            "750/750 [==============================] - 1s 1ms/step - loss: 0.6069 - accuracy: 0.7088\n",
            "Epoch 2/100\n",
            "750/750 [==============================] - 1s 1ms/step - loss: 0.4647 - accuracy: 0.8050\n",
            "Epoch 3/100\n",
            "750/750 [==============================] - 1s 1ms/step - loss: 0.4522 - accuracy: 0.8142\n",
            "Epoch 4/100\n",
            "750/750 [==============================] - 1s 1ms/step - loss: 0.4507 - accuracy: 0.8139\n",
            "Epoch 5/100\n",
            "750/750 [==============================] - 1s 1ms/step - loss: 0.4428 - accuracy: 0.8187\n",
            "Epoch 6/100\n",
            "750/750 [==============================] - 1s 1ms/step - loss: 0.4441 - accuracy: 0.8167\n",
            "Epoch 7/100\n",
            "750/750 [==============================] - 1s 1ms/step - loss: 0.4421 - accuracy: 0.8191\n",
            "Epoch 8/100\n",
            "750/750 [==============================] - 1s 1ms/step - loss: 0.4411 - accuracy: 0.8173\n",
            "Epoch 9/100\n",
            "750/750 [==============================] - 1s 1ms/step - loss: 0.4287 - accuracy: 0.8239\n",
            "Epoch 10/100\n",
            "750/750 [==============================] - 1s 1ms/step - loss: 0.4410 - accuracy: 0.8211\n",
            "Epoch 11/100\n",
            "750/750 [==============================] - 1s 1ms/step - loss: 0.4358 - accuracy: 0.8184\n",
            "Epoch 12/100\n",
            "750/750 [==============================] - 1s 1ms/step - loss: 0.4292 - accuracy: 0.8240\n",
            "Epoch 13/100\n",
            "750/750 [==============================] - 1s 1ms/step - loss: 0.4373 - accuracy: 0.8212\n",
            "Epoch 14/100\n",
            "750/750 [==============================] - 1s 1ms/step - loss: 0.4343 - accuracy: 0.8198\n",
            "Epoch 15/100\n",
            "750/750 [==============================] - 1s 1ms/step - loss: 0.4290 - accuracy: 0.8252\n",
            "Epoch 16/100\n",
            "750/750 [==============================] - 1s 1ms/step - loss: 0.4353 - accuracy: 0.8198\n",
            "Epoch 17/100\n",
            "750/750 [==============================] - 1s 1ms/step - loss: 0.4285 - accuracy: 0.8228\n",
            "Epoch 18/100\n",
            "750/750 [==============================] - 1s 1ms/step - loss: 0.4301 - accuracy: 0.8231\n",
            "Epoch 19/100\n",
            "750/750 [==============================] - 1s 1ms/step - loss: 0.4355 - accuracy: 0.8174\n",
            "Epoch 20/100\n",
            "750/750 [==============================] - 1s 1ms/step - loss: 0.4246 - accuracy: 0.8266\n",
            "Epoch 21/100\n",
            "750/750 [==============================] - 1s 1ms/step - loss: 0.4313 - accuracy: 0.8221\n",
            "Epoch 22/100\n",
            "750/750 [==============================] - 1s 1ms/step - loss: 0.4267 - accuracy: 0.8238\n",
            "Epoch 23/100\n",
            "750/750 [==============================] - 1s 1ms/step - loss: 0.4260 - accuracy: 0.8222\n",
            "Epoch 24/100\n",
            "750/750 [==============================] - 1s 1ms/step - loss: 0.4329 - accuracy: 0.8208\n",
            "Epoch 25/100\n",
            "750/750 [==============================] - 1s 1ms/step - loss: 0.4278 - accuracy: 0.8255\n",
            "Epoch 26/100\n",
            "750/750 [==============================] - 1s 1ms/step - loss: 0.4320 - accuracy: 0.8188\n",
            "Epoch 27/100\n",
            "750/750 [==============================] - 1s 1ms/step - loss: 0.4231 - accuracy: 0.8252\n",
            "Epoch 28/100\n",
            "750/750 [==============================] - 1s 1ms/step - loss: 0.4226 - accuracy: 0.8255\n",
            "Epoch 29/100\n",
            "750/750 [==============================] - 1s 1ms/step - loss: 0.4333 - accuracy: 0.8196\n",
            "Epoch 30/100\n",
            "750/750 [==============================] - 1s 1ms/step - loss: 0.4299 - accuracy: 0.8228\n",
            "Epoch 31/100\n",
            "750/750 [==============================] - 1s 1ms/step - loss: 0.4305 - accuracy: 0.8213\n",
            "Epoch 32/100\n",
            "750/750 [==============================] - 1s 1ms/step - loss: 0.4308 - accuracy: 0.8196\n",
            "Epoch 33/100\n",
            "750/750 [==============================] - 1s 1ms/step - loss: 0.4323 - accuracy: 0.8189\n",
            "Epoch 34/100\n",
            "750/750 [==============================] - 1s 1ms/step - loss: 0.4256 - accuracy: 0.8216\n",
            "Epoch 35/100\n",
            "750/750 [==============================] - 1s 1ms/step - loss: 0.4282 - accuracy: 0.8221\n",
            "Epoch 36/100\n",
            "750/750 [==============================] - 1s 1ms/step - loss: 0.4221 - accuracy: 0.8242\n",
            "Epoch 37/100\n",
            "750/750 [==============================] - 1s 1ms/step - loss: 0.4292 - accuracy: 0.8228\n",
            "Epoch 38/100\n",
            "750/750 [==============================] - 1s 1ms/step - loss: 0.4286 - accuracy: 0.8207\n",
            "Epoch 39/100\n",
            "750/750 [==============================] - 1s 1ms/step - loss: 0.4284 - accuracy: 0.8241\n",
            "Epoch 40/100\n",
            "750/750 [==============================] - 1s 1ms/step - loss: 0.4269 - accuracy: 0.8236\n",
            "Epoch 41/100\n",
            "750/750 [==============================] - 1s 1ms/step - loss: 0.4342 - accuracy: 0.8170\n",
            "Epoch 42/100\n",
            "750/750 [==============================] - 1s 1ms/step - loss: 0.4310 - accuracy: 0.8177\n",
            "Epoch 43/100\n",
            "750/750 [==============================] - 1s 1ms/step - loss: 0.4233 - accuracy: 0.8238\n",
            "Epoch 44/100\n",
            "750/750 [==============================] - 1s 1ms/step - loss: 0.4324 - accuracy: 0.8186\n",
            "Epoch 45/100\n",
            "750/750 [==============================] - 1s 1ms/step - loss: 0.4262 - accuracy: 0.8204\n",
            "Epoch 46/100\n",
            "750/750 [==============================] - 1s 1ms/step - loss: 0.4270 - accuracy: 0.8232\n",
            "Epoch 47/100\n",
            "750/750 [==============================] - 1s 1ms/step - loss: 0.4208 - accuracy: 0.8256\n",
            "Epoch 48/100\n",
            "750/750 [==============================] - 1s 1ms/step - loss: 0.4285 - accuracy: 0.8203\n",
            "Epoch 49/100\n",
            "750/750 [==============================] - 1s 1ms/step - loss: 0.4277 - accuracy: 0.8227\n",
            "Epoch 50/100\n",
            "750/750 [==============================] - 1s 1ms/step - loss: 0.4239 - accuracy: 0.8251\n",
            "Epoch 51/100\n",
            "750/750 [==============================] - 1s 1ms/step - loss: 0.4218 - accuracy: 0.8224\n",
            "Epoch 52/100\n",
            "750/750 [==============================] - 1s 1ms/step - loss: 0.4282 - accuracy: 0.8218\n",
            "Epoch 53/100\n",
            "750/750 [==============================] - 1s 1ms/step - loss: 0.4278 - accuracy: 0.8198\n",
            "Epoch 54/100\n",
            "750/750 [==============================] - 1s 1ms/step - loss: 0.4250 - accuracy: 0.8238\n",
            "Epoch 55/100\n",
            "750/750 [==============================] - 1s 1ms/step - loss: 0.4237 - accuracy: 0.8229\n",
            "Epoch 56/100\n",
            "750/750 [==============================] - 1s 1ms/step - loss: 0.4252 - accuracy: 0.8234\n",
            "Epoch 57/100\n",
            "750/750 [==============================] - 1s 1ms/step - loss: 0.4212 - accuracy: 0.8257\n",
            "Epoch 58/100\n",
            "750/750 [==============================] - 1s 1ms/step - loss: 0.4231 - accuracy: 0.8247\n",
            "Epoch 59/100\n",
            "750/750 [==============================] - 1s 1ms/step - loss: 0.4246 - accuracy: 0.8214\n",
            "Epoch 60/100\n",
            "750/750 [==============================] - 1s 1ms/step - loss: 0.4304 - accuracy: 0.8185\n",
            "Epoch 61/100\n",
            "750/750 [==============================] - 1s 1ms/step - loss: 0.4201 - accuracy: 0.8224\n",
            "Epoch 62/100\n",
            "750/750 [==============================] - 1s 1ms/step - loss: 0.4227 - accuracy: 0.8236\n",
            "Epoch 63/100\n",
            "750/750 [==============================] - 1s 1ms/step - loss: 0.4272 - accuracy: 0.8206\n",
            "Epoch 64/100\n",
            "750/750 [==============================] - 1s 1ms/step - loss: 0.4261 - accuracy: 0.8236\n",
            "Epoch 65/100\n",
            "750/750 [==============================] - 1s 1ms/step - loss: 0.4236 - accuracy: 0.8236\n",
            "Epoch 66/100\n",
            "750/750 [==============================] - 1s 1ms/step - loss: 0.4243 - accuracy: 0.8238\n",
            "Epoch 67/100\n",
            "750/750 [==============================] - 1s 1ms/step - loss: 0.4302 - accuracy: 0.8194\n",
            "Epoch 68/100\n",
            "750/750 [==============================] - 1s 1ms/step - loss: 0.4217 - accuracy: 0.8245\n",
            "Epoch 69/100\n",
            "750/750 [==============================] - 1s 1ms/step - loss: 0.4238 - accuracy: 0.8223\n",
            "Epoch 70/100\n",
            "750/750 [==============================] - 1s 1ms/step - loss: 0.4245 - accuracy: 0.8249\n",
            "Epoch 71/100\n",
            "750/750 [==============================] - 1s 1ms/step - loss: 0.4264 - accuracy: 0.8212\n",
            "Epoch 72/100\n",
            "750/750 [==============================] - 1s 1ms/step - loss: 0.4218 - accuracy: 0.8249\n",
            "Epoch 73/100\n",
            "750/750 [==============================] - 1s 1ms/step - loss: 0.4267 - accuracy: 0.8214\n",
            "Epoch 74/100\n",
            "750/750 [==============================] - 1s 1ms/step - loss: 0.4203 - accuracy: 0.8249\n",
            "Epoch 75/100\n",
            "750/750 [==============================] - 1s 1ms/step - loss: 0.4284 - accuracy: 0.8211\n",
            "Epoch 76/100\n",
            "750/750 [==============================] - 1s 1ms/step - loss: 0.4217 - accuracy: 0.8261\n",
            "Epoch 77/100\n",
            "750/750 [==============================] - 1s 1ms/step - loss: 0.4201 - accuracy: 0.8268\n",
            "Epoch 78/100\n",
            "750/750 [==============================] - 1s 1ms/step - loss: 0.4222 - accuracy: 0.8213\n",
            "Epoch 79/100\n",
            "750/750 [==============================] - 1s 1ms/step - loss: 0.4166 - accuracy: 0.8266\n",
            "Epoch 80/100\n",
            "750/750 [==============================] - 1s 1ms/step - loss: 0.4249 - accuracy: 0.8216\n",
            "Epoch 81/100\n",
            "750/750 [==============================] - 1s 1ms/step - loss: 0.4263 - accuracy: 0.8209\n",
            "Epoch 82/100\n",
            "750/750 [==============================] - 1s 1ms/step - loss: 0.4253 - accuracy: 0.8218\n",
            "Epoch 83/100\n",
            "750/750 [==============================] - 1s 1ms/step - loss: 0.4213 - accuracy: 0.8251\n",
            "Epoch 84/100\n",
            "750/750 [==============================] - 1s 1ms/step - loss: 0.4253 - accuracy: 0.8222\n",
            "Epoch 85/100\n",
            "750/750 [==============================] - 1s 1ms/step - loss: 0.4206 - accuracy: 0.8252\n",
            "Epoch 86/100\n",
            "750/750 [==============================] - 1s 1ms/step - loss: 0.4207 - accuracy: 0.8255\n",
            "Epoch 87/100\n",
            "750/750 [==============================] - 1s 1ms/step - loss: 0.4170 - accuracy: 0.8275\n",
            "Epoch 88/100\n",
            "750/750 [==============================] - 1s 1ms/step - loss: 0.4228 - accuracy: 0.8224\n",
            "Epoch 89/100\n",
            "750/750 [==============================] - 1s 1ms/step - loss: 0.4250 - accuracy: 0.8213\n",
            "Epoch 90/100\n",
            "750/750 [==============================] - 1s 1ms/step - loss: 0.4213 - accuracy: 0.8251\n",
            "Epoch 91/100\n",
            "750/750 [==============================] - 1s 1ms/step - loss: 0.4229 - accuracy: 0.8264\n",
            "Epoch 92/100\n",
            "750/750 [==============================] - 1s 1ms/step - loss: 0.4270 - accuracy: 0.8225\n",
            "Epoch 93/100\n",
            "750/750 [==============================] - 1s 1ms/step - loss: 0.4343 - accuracy: 0.8163\n",
            "Epoch 94/100\n",
            "750/750 [==============================] - 1s 1ms/step - loss: 0.4272 - accuracy: 0.8207\n",
            "Epoch 95/100\n",
            "750/750 [==============================] - 1s 1ms/step - loss: 0.4216 - accuracy: 0.8232\n",
            "Epoch 96/100\n",
            "750/750 [==============================] - 1s 1ms/step - loss: 0.4283 - accuracy: 0.8199\n",
            "Epoch 97/100\n",
            "750/750 [==============================] - 1s 1ms/step - loss: 0.4200 - accuracy: 0.8259\n",
            "Epoch 98/100\n",
            "750/750 [==============================] - 1s 1ms/step - loss: 0.4219 - accuracy: 0.8264\n",
            "Epoch 99/100\n",
            "750/750 [==============================] - 1s 1ms/step - loss: 0.4264 - accuracy: 0.8205\n",
            "Epoch 100/100\n",
            "750/750 [==============================] - 1s 1ms/step - loss: 0.4208 - accuracy: 0.8236\n"
          ],
          "name": "stdout"
        },
        {
          "output_type": "execute_result",
          "data": {
            "text/plain": [
              "<tensorflow.python.keras.callbacks.History at 0x7f78f3ab1450>"
            ]
          },
          "metadata": {
            "tags": []
          },
          "execution_count": 36
        }
      ]
    },
    {
      "cell_type": "markdown",
      "metadata": {
        "id": "nK_cyRn7FZoE"
      },
      "source": [
        "#### Predicting the Test set results"
      ]
    },
    {
      "cell_type": "code",
      "metadata": {
        "id": "5EqZkFVtFZoF"
      },
      "source": [
        "y_pred = ann.predict(X_test)\n",
        "# y_pred here is propability of prediction cause I used the sigmoid as activation fn in the output layer\n",
        "y_pred = (y_pred > 0.5)"
      ],
      "execution_count": 37,
      "outputs": []
    },
    {
      "cell_type": "markdown",
      "metadata": {
        "id": "eWYHVFWQFZoG"
      },
      "source": [
        "#### Making the Confusion Matrix "
      ]
    },
    {
      "cell_type": "code",
      "metadata": {
        "colab": {
          "base_uri": "https://localhost:8080/"
        },
        "id": "gyMv09FzFZoH",
        "outputId": "a3fce3a6-9cd1-4c77-83e6-2fc23ee44a51"
      },
      "source": [
        "from sklearn.metrics import accuracy_score, confusion_matrix\n",
        "cm = confusion_matrix(y_test, y_pred)\n",
        "print(cm)\n",
        "print(\"Accuracy {:.2f} %\".format( 100 * accuracy_score(y_pred, y_test)))"
      ],
      "execution_count": 38,
      "outputs": [
        {
          "output_type": "stream",
          "text": [
            "[[4399  266]\n",
            " [ 846  489]]\n",
            "Accuracy 81.47 %\n"
          ],
          "name": "stdout"
        }
      ]
    },
    {
      "cell_type": "markdown",
      "metadata": {
        "id": "xeLrZFlwM8Xw"
      },
      "source": [
        "Since we have (BILL_AMT1, BILL_AMT2, BILL_AMT3, BILL_AMT4, BILL_AMT5, & BILL_AMT6) are highly correlated, so let's drop these features to see if the model will get improvment"
      ]
    },
    {
      "cell_type": "code",
      "metadata": {
        "id": "YNx9TvFOJR6N"
      },
      "source": [
        "X_2 = df.drop(['Y','X12','X13','X14','X15','X16','X17'], axis =1)"
      ],
      "execution_count": 39,
      "outputs": []
    },
    {
      "cell_type": "code",
      "metadata": {
        "colab": {
          "base_uri": "https://localhost:8080/",
          "height": 248
        },
        "id": "grJVBEuNJSV_",
        "outputId": "c44835a5-fd7b-48eb-a924-6b7f18d8ee9f"
      },
      "source": [
        "X_2.head()"
      ],
      "execution_count": 40,
      "outputs": [
        {
          "output_type": "execute_result",
          "data": {
            "text/html": [
              "<div>\n",
              "<style scoped>\n",
              "    .dataframe tbody tr th:only-of-type {\n",
              "        vertical-align: middle;\n",
              "    }\n",
              "\n",
              "    .dataframe tbody tr th {\n",
              "        vertical-align: top;\n",
              "    }\n",
              "\n",
              "    .dataframe thead tr th {\n",
              "        text-align: left;\n",
              "    }\n",
              "</style>\n",
              "<table border=\"1\" class=\"dataframe\">\n",
              "  <thead>\n",
              "    <tr>\n",
              "      <th></th>\n",
              "      <th>X1</th>\n",
              "      <th>X2</th>\n",
              "      <th>X3</th>\n",
              "      <th>X4</th>\n",
              "      <th>X5</th>\n",
              "      <th>X6</th>\n",
              "      <th>X7</th>\n",
              "      <th>X8</th>\n",
              "      <th>X9</th>\n",
              "      <th>X10</th>\n",
              "      <th>X11</th>\n",
              "      <th>X18</th>\n",
              "      <th>X19</th>\n",
              "      <th>X20</th>\n",
              "      <th>X21</th>\n",
              "      <th>X22</th>\n",
              "      <th>X23</th>\n",
              "    </tr>\n",
              "    <tr>\n",
              "      <th>ID</th>\n",
              "      <th>LIMIT_BAL</th>\n",
              "      <th>SEX</th>\n",
              "      <th>EDUCATION</th>\n",
              "      <th>MARRIAGE</th>\n",
              "      <th>AGE</th>\n",
              "      <th>PAY_0</th>\n",
              "      <th>PAY_2</th>\n",
              "      <th>PAY_3</th>\n",
              "      <th>PAY_4</th>\n",
              "      <th>PAY_5</th>\n",
              "      <th>PAY_6</th>\n",
              "      <th>PAY_AMT1</th>\n",
              "      <th>PAY_AMT2</th>\n",
              "      <th>PAY_AMT3</th>\n",
              "      <th>PAY_AMT4</th>\n",
              "      <th>PAY_AMT5</th>\n",
              "      <th>PAY_AMT6</th>\n",
              "    </tr>\n",
              "  </thead>\n",
              "  <tbody>\n",
              "    <tr>\n",
              "      <th>1</th>\n",
              "      <td>20000.0</td>\n",
              "      <td>female</td>\n",
              "      <td>university</td>\n",
              "      <td>married</td>\n",
              "      <td>24</td>\n",
              "      <td>2</td>\n",
              "      <td>2</td>\n",
              "      <td>-1</td>\n",
              "      <td>-1</td>\n",
              "      <td>-2</td>\n",
              "      <td>-2</td>\n",
              "      <td>0.0</td>\n",
              "      <td>689.0</td>\n",
              "      <td>0.0</td>\n",
              "      <td>0.0</td>\n",
              "      <td>0.0</td>\n",
              "      <td>0.0</td>\n",
              "    </tr>\n",
              "    <tr>\n",
              "      <th>2</th>\n",
              "      <td>120000.0</td>\n",
              "      <td>female</td>\n",
              "      <td>university</td>\n",
              "      <td>single</td>\n",
              "      <td>26</td>\n",
              "      <td>-1</td>\n",
              "      <td>2</td>\n",
              "      <td>0</td>\n",
              "      <td>0</td>\n",
              "      <td>0</td>\n",
              "      <td>2</td>\n",
              "      <td>0.0</td>\n",
              "      <td>1000.0</td>\n",
              "      <td>1000.0</td>\n",
              "      <td>1000.0</td>\n",
              "      <td>0.0</td>\n",
              "      <td>2000.0</td>\n",
              "    </tr>\n",
              "    <tr>\n",
              "      <th>3</th>\n",
              "      <td>90000.0</td>\n",
              "      <td>female</td>\n",
              "      <td>university</td>\n",
              "      <td>single</td>\n",
              "      <td>34</td>\n",
              "      <td>0</td>\n",
              "      <td>0</td>\n",
              "      <td>0</td>\n",
              "      <td>0</td>\n",
              "      <td>0</td>\n",
              "      <td>0</td>\n",
              "      <td>1518.0</td>\n",
              "      <td>1500.0</td>\n",
              "      <td>1000.0</td>\n",
              "      <td>1000.0</td>\n",
              "      <td>1000.0</td>\n",
              "      <td>5000.0</td>\n",
              "    </tr>\n",
              "    <tr>\n",
              "      <th>4</th>\n",
              "      <td>50000.0</td>\n",
              "      <td>female</td>\n",
              "      <td>university</td>\n",
              "      <td>married</td>\n",
              "      <td>37</td>\n",
              "      <td>0</td>\n",
              "      <td>0</td>\n",
              "      <td>0</td>\n",
              "      <td>0</td>\n",
              "      <td>0</td>\n",
              "      <td>0</td>\n",
              "      <td>2000.0</td>\n",
              "      <td>2019.0</td>\n",
              "      <td>1200.0</td>\n",
              "      <td>1100.0</td>\n",
              "      <td>1069.0</td>\n",
              "      <td>1000.0</td>\n",
              "    </tr>\n",
              "    <tr>\n",
              "      <th>5</th>\n",
              "      <td>50000.0</td>\n",
              "      <td>male</td>\n",
              "      <td>university</td>\n",
              "      <td>married</td>\n",
              "      <td>57</td>\n",
              "      <td>-1</td>\n",
              "      <td>0</td>\n",
              "      <td>-1</td>\n",
              "      <td>0</td>\n",
              "      <td>0</td>\n",
              "      <td>0</td>\n",
              "      <td>2000.0</td>\n",
              "      <td>36681.0</td>\n",
              "      <td>10000.0</td>\n",
              "      <td>9000.0</td>\n",
              "      <td>689.0</td>\n",
              "      <td>679.0</td>\n",
              "    </tr>\n",
              "  </tbody>\n",
              "</table>\n",
              "</div>"
            ],
            "text/plain": [
              "          X1      X2          X3       X4  X5    X6    X7    X8    X9   X10  \\\n",
              "ID LIMIT_BAL     SEX   EDUCATION MARRIAGE AGE PAY_0 PAY_2 PAY_3 PAY_4 PAY_5   \n",
              "1    20000.0  female  university  married  24     2     2    -1    -1    -2   \n",
              "2   120000.0  female  university   single  26    -1     2     0     0     0   \n",
              "3    90000.0  female  university   single  34     0     0     0     0     0   \n",
              "4    50000.0  female  university  married  37     0     0     0     0     0   \n",
              "5    50000.0    male  university  married  57    -1     0    -1     0     0   \n",
              "\n",
              "     X11      X18      X19      X20      X21      X22      X23  \n",
              "ID PAY_6 PAY_AMT1 PAY_AMT2 PAY_AMT3 PAY_AMT4 PAY_AMT5 PAY_AMT6  \n",
              "1     -2      0.0    689.0      0.0      0.0      0.0      0.0  \n",
              "2      2      0.0   1000.0   1000.0   1000.0      0.0   2000.0  \n",
              "3      0   1518.0   1500.0   1000.0   1000.0   1000.0   5000.0  \n",
              "4      0   2000.0   2019.0   1200.0   1100.0   1069.0   1000.0  \n",
              "5      0   2000.0  36681.0  10000.0   9000.0    689.0    679.0  "
            ]
          },
          "metadata": {
            "tags": []
          },
          "execution_count": 40
        }
      ]
    },
    {
      "cell_type": "code",
      "metadata": {
        "colab": {
          "base_uri": "https://localhost:8080/",
          "height": 253
        },
        "id": "BIwaeL79KnP5",
        "outputId": "8c9e5acb-9a10-4976-bb83-2159c94e9fbb"
      },
      "source": [
        "X_2 = pd.get_dummies(data=X_2, columns=['X2', 'X3', 'X4'])\n",
        "X_2.head()"
      ],
      "execution_count": 41,
      "outputs": [
        {
          "output_type": "execute_result",
          "data": {
            "text/html": [
              "<div>\n",
              "<style scoped>\n",
              "    .dataframe tbody tr th:only-of-type {\n",
              "        vertical-align: middle;\n",
              "    }\n",
              "\n",
              "    .dataframe tbody tr th {\n",
              "        vertical-align: top;\n",
              "    }\n",
              "\n",
              "    .dataframe thead th {\n",
              "        text-align: right;\n",
              "    }\n",
              "</style>\n",
              "<table border=\"1\" class=\"dataframe\">\n",
              "  <thead>\n",
              "    <tr style=\"text-align: right;\">\n",
              "      <th></th>\n",
              "      <th>(X1, LIMIT_BAL)</th>\n",
              "      <th>(X5, AGE)</th>\n",
              "      <th>(X6, PAY_0)</th>\n",
              "      <th>(X7, PAY_2)</th>\n",
              "      <th>(X8, PAY_3)</th>\n",
              "      <th>(X9, PAY_4)</th>\n",
              "      <th>(X10, PAY_5)</th>\n",
              "      <th>(X11, PAY_6)</th>\n",
              "      <th>(X18, PAY_AMT1)</th>\n",
              "      <th>(X19, PAY_AMT2)</th>\n",
              "      <th>(X20, PAY_AMT3)</th>\n",
              "      <th>(X21, PAY_AMT4)</th>\n",
              "      <th>(X22, PAY_AMT5)</th>\n",
              "      <th>(X23, PAY_AMT6)</th>\n",
              "      <th>('X2', 'SEX')_female</th>\n",
              "      <th>('X2', 'SEX')_male</th>\n",
              "      <th>('X3', 'EDUCATION')_graduate school</th>\n",
              "      <th>('X3', 'EDUCATION')_high school</th>\n",
              "      <th>('X3', 'EDUCATION')_others</th>\n",
              "      <th>('X3', 'EDUCATION')_university</th>\n",
              "      <th>('X4', 'MARRIAGE')_married</th>\n",
              "      <th>('X4', 'MARRIAGE')_others</th>\n",
              "      <th>('X4', 'MARRIAGE')_single</th>\n",
              "    </tr>\n",
              "  </thead>\n",
              "  <tbody>\n",
              "    <tr>\n",
              "      <th>1</th>\n",
              "      <td>20000.0</td>\n",
              "      <td>24</td>\n",
              "      <td>2</td>\n",
              "      <td>2</td>\n",
              "      <td>-1</td>\n",
              "      <td>-1</td>\n",
              "      <td>-2</td>\n",
              "      <td>-2</td>\n",
              "      <td>0.0</td>\n",
              "      <td>689.0</td>\n",
              "      <td>0.0</td>\n",
              "      <td>0.0</td>\n",
              "      <td>0.0</td>\n",
              "      <td>0.0</td>\n",
              "      <td>1</td>\n",
              "      <td>0</td>\n",
              "      <td>0</td>\n",
              "      <td>0</td>\n",
              "      <td>0</td>\n",
              "      <td>1</td>\n",
              "      <td>1</td>\n",
              "      <td>0</td>\n",
              "      <td>0</td>\n",
              "    </tr>\n",
              "    <tr>\n",
              "      <th>2</th>\n",
              "      <td>120000.0</td>\n",
              "      <td>26</td>\n",
              "      <td>-1</td>\n",
              "      <td>2</td>\n",
              "      <td>0</td>\n",
              "      <td>0</td>\n",
              "      <td>0</td>\n",
              "      <td>2</td>\n",
              "      <td>0.0</td>\n",
              "      <td>1000.0</td>\n",
              "      <td>1000.0</td>\n",
              "      <td>1000.0</td>\n",
              "      <td>0.0</td>\n",
              "      <td>2000.0</td>\n",
              "      <td>1</td>\n",
              "      <td>0</td>\n",
              "      <td>0</td>\n",
              "      <td>0</td>\n",
              "      <td>0</td>\n",
              "      <td>1</td>\n",
              "      <td>0</td>\n",
              "      <td>0</td>\n",
              "      <td>1</td>\n",
              "    </tr>\n",
              "    <tr>\n",
              "      <th>3</th>\n",
              "      <td>90000.0</td>\n",
              "      <td>34</td>\n",
              "      <td>0</td>\n",
              "      <td>0</td>\n",
              "      <td>0</td>\n",
              "      <td>0</td>\n",
              "      <td>0</td>\n",
              "      <td>0</td>\n",
              "      <td>1518.0</td>\n",
              "      <td>1500.0</td>\n",
              "      <td>1000.0</td>\n",
              "      <td>1000.0</td>\n",
              "      <td>1000.0</td>\n",
              "      <td>5000.0</td>\n",
              "      <td>1</td>\n",
              "      <td>0</td>\n",
              "      <td>0</td>\n",
              "      <td>0</td>\n",
              "      <td>0</td>\n",
              "      <td>1</td>\n",
              "      <td>0</td>\n",
              "      <td>0</td>\n",
              "      <td>1</td>\n",
              "    </tr>\n",
              "    <tr>\n",
              "      <th>4</th>\n",
              "      <td>50000.0</td>\n",
              "      <td>37</td>\n",
              "      <td>0</td>\n",
              "      <td>0</td>\n",
              "      <td>0</td>\n",
              "      <td>0</td>\n",
              "      <td>0</td>\n",
              "      <td>0</td>\n",
              "      <td>2000.0</td>\n",
              "      <td>2019.0</td>\n",
              "      <td>1200.0</td>\n",
              "      <td>1100.0</td>\n",
              "      <td>1069.0</td>\n",
              "      <td>1000.0</td>\n",
              "      <td>1</td>\n",
              "      <td>0</td>\n",
              "      <td>0</td>\n",
              "      <td>0</td>\n",
              "      <td>0</td>\n",
              "      <td>1</td>\n",
              "      <td>1</td>\n",
              "      <td>0</td>\n",
              "      <td>0</td>\n",
              "    </tr>\n",
              "    <tr>\n",
              "      <th>5</th>\n",
              "      <td>50000.0</td>\n",
              "      <td>57</td>\n",
              "      <td>-1</td>\n",
              "      <td>0</td>\n",
              "      <td>-1</td>\n",
              "      <td>0</td>\n",
              "      <td>0</td>\n",
              "      <td>0</td>\n",
              "      <td>2000.0</td>\n",
              "      <td>36681.0</td>\n",
              "      <td>10000.0</td>\n",
              "      <td>9000.0</td>\n",
              "      <td>689.0</td>\n",
              "      <td>679.0</td>\n",
              "      <td>0</td>\n",
              "      <td>1</td>\n",
              "      <td>0</td>\n",
              "      <td>0</td>\n",
              "      <td>0</td>\n",
              "      <td>1</td>\n",
              "      <td>1</td>\n",
              "      <td>0</td>\n",
              "      <td>0</td>\n",
              "    </tr>\n",
              "  </tbody>\n",
              "</table>\n",
              "</div>"
            ],
            "text/plain": [
              "   (X1, LIMIT_BAL)  (X5, AGE)  (X6, PAY_0)  (X7, PAY_2)  (X8, PAY_3)  \\\n",
              "1          20000.0         24            2            2           -1   \n",
              "2         120000.0         26           -1            2            0   \n",
              "3          90000.0         34            0            0            0   \n",
              "4          50000.0         37            0            0            0   \n",
              "5          50000.0         57           -1            0           -1   \n",
              "\n",
              "   (X9, PAY_4)  (X10, PAY_5)  (X11, PAY_6)  (X18, PAY_AMT1)  (X19, PAY_AMT2)  \\\n",
              "1           -1            -2            -2              0.0            689.0   \n",
              "2            0             0             2              0.0           1000.0   \n",
              "3            0             0             0           1518.0           1500.0   \n",
              "4            0             0             0           2000.0           2019.0   \n",
              "5            0             0             0           2000.0          36681.0   \n",
              "\n",
              "   (X20, PAY_AMT3)  (X21, PAY_AMT4)  (X22, PAY_AMT5)  (X23, PAY_AMT6)  \\\n",
              "1              0.0              0.0              0.0              0.0   \n",
              "2           1000.0           1000.0              0.0           2000.0   \n",
              "3           1000.0           1000.0           1000.0           5000.0   \n",
              "4           1200.0           1100.0           1069.0           1000.0   \n",
              "5          10000.0           9000.0            689.0            679.0   \n",
              "\n",
              "   ('X2', 'SEX')_female  ('X2', 'SEX')_male  \\\n",
              "1                     1                   0   \n",
              "2                     1                   0   \n",
              "3                     1                   0   \n",
              "4                     1                   0   \n",
              "5                     0                   1   \n",
              "\n",
              "   ('X3', 'EDUCATION')_graduate school  ('X3', 'EDUCATION')_high school  \\\n",
              "1                                    0                                0   \n",
              "2                                    0                                0   \n",
              "3                                    0                                0   \n",
              "4                                    0                                0   \n",
              "5                                    0                                0   \n",
              "\n",
              "   ('X3', 'EDUCATION')_others  ('X3', 'EDUCATION')_university  \\\n",
              "1                           0                               1   \n",
              "2                           0                               1   \n",
              "3                           0                               1   \n",
              "4                           0                               1   \n",
              "5                           0                               1   \n",
              "\n",
              "   ('X4', 'MARRIAGE')_married  ('X4', 'MARRIAGE')_others  \\\n",
              "1                           1                          0   \n",
              "2                           0                          0   \n",
              "3                           0                          0   \n",
              "4                           1                          0   \n",
              "5                           1                          0   \n",
              "\n",
              "   ('X4', 'MARRIAGE')_single  \n",
              "1                          0  \n",
              "2                          1  \n",
              "3                          1  \n",
              "4                          0  \n",
              "5                          0  "
            ]
          },
          "metadata": {
            "tags": []
          },
          "execution_count": 41
        }
      ]
    },
    {
      "cell_type": "code",
      "metadata": {
        "colab": {
          "base_uri": "https://localhost:8080/"
        },
        "id": "ipSM6_i7JSib",
        "outputId": "0abda084-270a-4ee1-ac9e-c45a0b8f6f10"
      },
      "source": [
        "from sklearn.model_selection import train_test_split\n",
        "# Get 80% of the data for training; the remaining 20% will be for validation and test\n",
        "X_train, X_test, y_train, y_test = train_test_split(X_2, y, test_size = 0.2)\n",
        "print(f\"Length of X_train is: {X_train.shape}\")\n",
        "print(f\"Length of y_train is: {y_train.shape}\")\n",
        "print(f\"Length of X_test is: {X_test.shape}\")\n",
        "print(f\"Length of y_test is: {y_test.shape}\")"
      ],
      "execution_count": 42,
      "outputs": [
        {
          "output_type": "stream",
          "text": [
            "Length of X_train is: (24000, 23)\n",
            "Length of y_train is: (24000, 1)\n",
            "Length of X_test is: (6000, 23)\n",
            "Length of y_test is: (6000, 1)\n"
          ],
          "name": "stdout"
        }
      ]
    },
    {
      "cell_type": "code",
      "metadata": {
        "id": "X-JcZTECK_xk"
      },
      "source": [
        "# Feature scaling \n",
        "from sklearn.preprocessing import StandardScaler\n",
        "sc = StandardScaler()\n",
        "X_train = sc.fit_transform(X_train)\n",
        "X_test = sc.transform(X_test)"
      ],
      "execution_count": 43,
      "outputs": []
    },
    {
      "cell_type": "markdown",
      "metadata": {
        "id": "uxtyfamlLP9E"
      },
      "source": [
        "###  Building the ANN Again\n",
        "\n",
        "\n",
        "> Eingerückter Textblock\n",
        "\n"
      ]
    },
    {
      "cell_type": "code",
      "metadata": {
        "colab": {
          "base_uri": "https://localhost:8080/"
        },
        "id": "MbQUrL8NK_8h",
        "outputId": "721e0ad7-4118-4c29-d7d4-027603205e43"
      },
      "source": [
        "import tensorflow as tf\n",
        "ann = tf.keras.models.Sequential()\n",
        "ann.add(tf.keras.layers.Dense(units=6, activation='relu'))\n",
        "ann.add(tf.keras.layers.Dense(units=6, activation='relu'))\n",
        "ann.add(tf.keras.layers.Dense(units=1, activation='sigmoid'))\n",
        "ann.compile(optimizer = 'adam', loss = 'binary_crossentropy', metrics = ['accuracy'])\n",
        "ann.fit(X_train, y_train, batch_size = 32, epochs = 100)\n"
      ],
      "execution_count": 44,
      "outputs": [
        {
          "output_type": "stream",
          "text": [
            "Epoch 1/100\n",
            "750/750 [==============================] - 1s 1ms/step - loss: 0.5628 - accuracy: 0.7423\n",
            "Epoch 2/100\n",
            "750/750 [==============================] - 1s 1ms/step - loss: 0.4565 - accuracy: 0.8156\n",
            "Epoch 3/100\n",
            "750/750 [==============================] - 1s 1ms/step - loss: 0.4526 - accuracy: 0.8135\n",
            "Epoch 4/100\n",
            "750/750 [==============================] - 1s 1ms/step - loss: 0.4519 - accuracy: 0.8131\n",
            "Epoch 5/100\n",
            "750/750 [==============================] - 1s 1ms/step - loss: 0.4424 - accuracy: 0.8185\n",
            "Epoch 6/100\n",
            "750/750 [==============================] - 1s 1ms/step - loss: 0.4474 - accuracy: 0.8133\n",
            "Epoch 7/100\n",
            "750/750 [==============================] - 1s 1ms/step - loss: 0.4445 - accuracy: 0.8152\n",
            "Epoch 8/100\n",
            "750/750 [==============================] - 1s 1ms/step - loss: 0.4471 - accuracy: 0.8129\n",
            "Epoch 9/100\n",
            "750/750 [==============================] - 1s 1ms/step - loss: 0.4355 - accuracy: 0.8199\n",
            "Epoch 10/100\n",
            "750/750 [==============================] - 1s 1ms/step - loss: 0.4401 - accuracy: 0.8153\n",
            "Epoch 11/100\n",
            "750/750 [==============================] - 1s 1ms/step - loss: 0.4444 - accuracy: 0.8108\n",
            "Epoch 12/100\n",
            "750/750 [==============================] - 1s 1ms/step - loss: 0.4385 - accuracy: 0.8160\n",
            "Epoch 13/100\n",
            "750/750 [==============================] - 1s 1ms/step - loss: 0.4401 - accuracy: 0.8148\n",
            "Epoch 14/100\n",
            "750/750 [==============================] - 1s 1ms/step - loss: 0.4320 - accuracy: 0.8206\n",
            "Epoch 15/100\n",
            "750/750 [==============================] - 1s 1ms/step - loss: 0.4407 - accuracy: 0.8157\n",
            "Epoch 16/100\n",
            "750/750 [==============================] - 1s 1ms/step - loss: 0.4337 - accuracy: 0.8222\n",
            "Epoch 17/100\n",
            "750/750 [==============================] - 1s 1ms/step - loss: 0.4316 - accuracy: 0.8208\n",
            "Epoch 18/100\n",
            "750/750 [==============================] - 1s 1ms/step - loss: 0.4328 - accuracy: 0.8219\n",
            "Epoch 19/100\n",
            "750/750 [==============================] - 1s 1ms/step - loss: 0.4314 - accuracy: 0.8217\n",
            "Epoch 20/100\n",
            "750/750 [==============================] - 1s 1ms/step - loss: 0.4354 - accuracy: 0.8178\n",
            "Epoch 21/100\n",
            "750/750 [==============================] - 1s 1ms/step - loss: 0.4364 - accuracy: 0.8179\n",
            "Epoch 22/100\n",
            "750/750 [==============================] - 1s 1ms/step - loss: 0.4337 - accuracy: 0.8222\n",
            "Epoch 23/100\n",
            "750/750 [==============================] - 1s 1ms/step - loss: 0.4362 - accuracy: 0.8179\n",
            "Epoch 24/100\n",
            "750/750 [==============================] - 1s 1ms/step - loss: 0.4357 - accuracy: 0.8169\n",
            "Epoch 25/100\n",
            "750/750 [==============================] - 1s 1ms/step - loss: 0.4269 - accuracy: 0.8245\n",
            "Epoch 26/100\n",
            "750/750 [==============================] - 1s 1ms/step - loss: 0.4289 - accuracy: 0.8204\n",
            "Epoch 27/100\n",
            "750/750 [==============================] - 1s 1ms/step - loss: 0.4392 - accuracy: 0.8168\n",
            "Epoch 28/100\n",
            "750/750 [==============================] - 1s 1ms/step - loss: 0.4362 - accuracy: 0.8182\n",
            "Epoch 29/100\n",
            "750/750 [==============================] - 1s 1ms/step - loss: 0.4342 - accuracy: 0.8171\n",
            "Epoch 30/100\n",
            "750/750 [==============================] - 1s 1ms/step - loss: 0.4335 - accuracy: 0.8185\n",
            "Epoch 31/100\n",
            "750/750 [==============================] - 1s 1ms/step - loss: 0.4379 - accuracy: 0.8172\n",
            "Epoch 32/100\n",
            "750/750 [==============================] - 1s 1ms/step - loss: 0.4295 - accuracy: 0.8211\n",
            "Epoch 33/100\n",
            "750/750 [==============================] - 1s 1ms/step - loss: 0.4314 - accuracy: 0.8202\n",
            "Epoch 34/100\n",
            "750/750 [==============================] - 1s 1ms/step - loss: 0.4299 - accuracy: 0.8220\n",
            "Epoch 35/100\n",
            "750/750 [==============================] - 1s 1ms/step - loss: 0.4308 - accuracy: 0.8200\n",
            "Epoch 36/100\n",
            "750/750 [==============================] - 1s 1ms/step - loss: 0.4282 - accuracy: 0.8210\n",
            "Epoch 37/100\n",
            "750/750 [==============================] - 1s 1ms/step - loss: 0.4333 - accuracy: 0.8175\n",
            "Epoch 38/100\n",
            "750/750 [==============================] - 1s 1ms/step - loss: 0.4290 - accuracy: 0.8234\n",
            "Epoch 39/100\n",
            "750/750 [==============================] - 1s 1ms/step - loss: 0.4354 - accuracy: 0.8191\n",
            "Epoch 40/100\n",
            "750/750 [==============================] - 1s 1ms/step - loss: 0.4273 - accuracy: 0.8228\n",
            "Epoch 41/100\n",
            "750/750 [==============================] - 1s 1ms/step - loss: 0.4316 - accuracy: 0.8221\n",
            "Epoch 42/100\n",
            "750/750 [==============================] - 1s 1ms/step - loss: 0.4312 - accuracy: 0.8213\n",
            "Epoch 43/100\n",
            "750/750 [==============================] - 1s 1ms/step - loss: 0.4344 - accuracy: 0.8182\n",
            "Epoch 44/100\n",
            "750/750 [==============================] - 1s 1ms/step - loss: 0.4283 - accuracy: 0.8230\n",
            "Epoch 45/100\n",
            "750/750 [==============================] - 1s 1ms/step - loss: 0.4305 - accuracy: 0.8205\n",
            "Epoch 46/100\n",
            "750/750 [==============================] - 1s 1ms/step - loss: 0.4292 - accuracy: 0.8210\n",
            "Epoch 47/100\n",
            "750/750 [==============================] - 1s 1ms/step - loss: 0.4349 - accuracy: 0.8173\n",
            "Epoch 48/100\n",
            "750/750 [==============================] - 1s 1ms/step - loss: 0.4346 - accuracy: 0.8178\n",
            "Epoch 49/100\n",
            "750/750 [==============================] - 1s 1ms/step - loss: 0.4358 - accuracy: 0.8182\n",
            "Epoch 50/100\n",
            "750/750 [==============================] - 1s 1ms/step - loss: 0.4352 - accuracy: 0.8183\n",
            "Epoch 51/100\n",
            "750/750 [==============================] - 1s 1ms/step - loss: 0.4314 - accuracy: 0.8214\n",
            "Epoch 52/100\n",
            "750/750 [==============================] - 1s 1ms/step - loss: 0.4320 - accuracy: 0.8185\n",
            "Epoch 53/100\n",
            "750/750 [==============================] - 1s 1ms/step - loss: 0.4282 - accuracy: 0.8227\n",
            "Epoch 54/100\n",
            "750/750 [==============================] - 1s 1ms/step - loss: 0.4332 - accuracy: 0.8190\n",
            "Epoch 55/100\n",
            "750/750 [==============================] - 1s 1ms/step - loss: 0.4246 - accuracy: 0.8231\n",
            "Epoch 56/100\n",
            "750/750 [==============================] - 1s 1ms/step - loss: 0.4368 - accuracy: 0.8167\n",
            "Epoch 57/100\n",
            "750/750 [==============================] - 1s 1ms/step - loss: 0.4378 - accuracy: 0.8158\n",
            "Epoch 58/100\n",
            "750/750 [==============================] - 1s 1ms/step - loss: 0.4360 - accuracy: 0.8188\n",
            "Epoch 59/100\n",
            "750/750 [==============================] - 1s 1ms/step - loss: 0.4379 - accuracy: 0.8191\n",
            "Epoch 60/100\n",
            "750/750 [==============================] - 1s 1ms/step - loss: 0.4224 - accuracy: 0.8260\n",
            "Epoch 61/100\n",
            "750/750 [==============================] - 1s 1ms/step - loss: 0.4350 - accuracy: 0.8181\n",
            "Epoch 62/100\n",
            "750/750 [==============================] - 1s 1ms/step - loss: 0.4336 - accuracy: 0.8171\n",
            "Epoch 63/100\n",
            "750/750 [==============================] - 1s 1ms/step - loss: 0.4366 - accuracy: 0.8172\n",
            "Epoch 64/100\n",
            "750/750 [==============================] - 1s 1ms/step - loss: 0.4324 - accuracy: 0.8180\n",
            "Epoch 65/100\n",
            "750/750 [==============================] - 1s 1ms/step - loss: 0.4331 - accuracy: 0.8197\n",
            "Epoch 66/100\n",
            "750/750 [==============================] - 1s 1ms/step - loss: 0.4337 - accuracy: 0.8186\n",
            "Epoch 67/100\n",
            "750/750 [==============================] - 1s 1ms/step - loss: 0.4303 - accuracy: 0.8191\n",
            "Epoch 68/100\n",
            "750/750 [==============================] - 1s 1ms/step - loss: 0.4319 - accuracy: 0.8184\n",
            "Epoch 69/100\n",
            "750/750 [==============================] - 1s 1ms/step - loss: 0.4251 - accuracy: 0.8240\n",
            "Epoch 70/100\n",
            "750/750 [==============================] - 1s 1ms/step - loss: 0.4315 - accuracy: 0.8195\n",
            "Epoch 71/100\n",
            "750/750 [==============================] - 1s 1ms/step - loss: 0.4338 - accuracy: 0.8203\n",
            "Epoch 72/100\n",
            "750/750 [==============================] - 1s 1ms/step - loss: 0.4262 - accuracy: 0.8216\n",
            "Epoch 73/100\n",
            "750/750 [==============================] - 1s 1ms/step - loss: 0.4325 - accuracy: 0.8200\n",
            "Epoch 74/100\n",
            "750/750 [==============================] - 1s 1ms/step - loss: 0.4306 - accuracy: 0.8225\n",
            "Epoch 75/100\n",
            "750/750 [==============================] - 1s 1ms/step - loss: 0.4286 - accuracy: 0.8233\n",
            "Epoch 76/100\n",
            "750/750 [==============================] - 1s 1ms/step - loss: 0.4382 - accuracy: 0.8147\n",
            "Epoch 77/100\n",
            "750/750 [==============================] - 1s 1ms/step - loss: 0.4273 - accuracy: 0.8214\n",
            "Epoch 78/100\n",
            "750/750 [==============================] - 1s 1ms/step - loss: 0.4309 - accuracy: 0.8202\n",
            "Epoch 79/100\n",
            "750/750 [==============================] - 1s 1ms/step - loss: 0.4299 - accuracy: 0.8213\n",
            "Epoch 80/100\n",
            "750/750 [==============================] - 1s 1ms/step - loss: 0.4258 - accuracy: 0.8217\n",
            "Epoch 81/100\n",
            "750/750 [==============================] - 1s 1ms/step - loss: 0.4278 - accuracy: 0.8242\n",
            "Epoch 82/100\n",
            "750/750 [==============================] - 1s 1ms/step - loss: 0.4355 - accuracy: 0.8197\n",
            "Epoch 83/100\n",
            "750/750 [==============================] - 1s 1ms/step - loss: 0.4348 - accuracy: 0.8167\n",
            "Epoch 84/100\n",
            "750/750 [==============================] - 1s 1ms/step - loss: 0.4272 - accuracy: 0.8220\n",
            "Epoch 85/100\n",
            "750/750 [==============================] - 1s 1ms/step - loss: 0.4337 - accuracy: 0.8202\n",
            "Epoch 86/100\n",
            "750/750 [==============================] - 1s 1ms/step - loss: 0.4276 - accuracy: 0.8200\n",
            "Epoch 87/100\n",
            "750/750 [==============================] - 1s 1ms/step - loss: 0.4303 - accuracy: 0.8216\n",
            "Epoch 88/100\n",
            "750/750 [==============================] - 1s 1ms/step - loss: 0.4320 - accuracy: 0.8173\n",
            "Epoch 89/100\n",
            "750/750 [==============================] - 1s 1ms/step - loss: 0.4242 - accuracy: 0.8242\n",
            "Epoch 90/100\n",
            "750/750 [==============================] - 1s 1ms/step - loss: 0.4347 - accuracy: 0.8173\n",
            "Epoch 91/100\n",
            "750/750 [==============================] - 1s 1ms/step - loss: 0.4327 - accuracy: 0.8194\n",
            "Epoch 92/100\n",
            "750/750 [==============================] - 1s 1ms/step - loss: 0.4347 - accuracy: 0.8158\n",
            "Epoch 93/100\n",
            "750/750 [==============================] - 1s 1ms/step - loss: 0.4260 - accuracy: 0.8225\n",
            "Epoch 94/100\n",
            "750/750 [==============================] - 1s 1ms/step - loss: 0.4287 - accuracy: 0.8206\n",
            "Epoch 95/100\n",
            "750/750 [==============================] - 1s 1ms/step - loss: 0.4281 - accuracy: 0.8220\n",
            "Epoch 96/100\n",
            "750/750 [==============================] - 1s 1ms/step - loss: 0.4240 - accuracy: 0.8239\n",
            "Epoch 97/100\n",
            "750/750 [==============================] - 1s 1ms/step - loss: 0.4346 - accuracy: 0.8184\n",
            "Epoch 98/100\n",
            "750/750 [==============================] - 1s 1ms/step - loss: 0.4300 - accuracy: 0.8206\n",
            "Epoch 99/100\n",
            "750/750 [==============================] - 1s 1ms/step - loss: 0.4344 - accuracy: 0.8168\n",
            "Epoch 100/100\n",
            "750/750 [==============================] - 1s 1ms/step - loss: 0.4317 - accuracy: 0.8201\n"
          ],
          "name": "stdout"
        },
        {
          "output_type": "execute_result",
          "data": {
            "text/plain": [
              "<tensorflow.python.keras.callbacks.History at 0x7f78f30aff10>"
            ]
          },
          "metadata": {
            "tags": []
          },
          "execution_count": 44
        }
      ]
    },
    {
      "cell_type": "code",
      "metadata": {
        "id": "uW8aORUtLAZb"
      },
      "source": [
        "y_pred = ann.predict(X_test)\n",
        "y_pred = (y_pred > 0.5)"
      ],
      "execution_count": 45,
      "outputs": []
    },
    {
      "cell_type": "code",
      "metadata": {
        "colab": {
          "base_uri": "https://localhost:8080/"
        },
        "id": "wCNXRuHxLxKO",
        "outputId": "5495a7c1-994b-4b51-9405-06d85771fb6f"
      },
      "source": [
        "from sklearn.metrics import accuracy_score, confusion_matrix\n",
        "cm = confusion_matrix(y_test, y_pred)\n",
        "print(cm)\n",
        "print(\"Accuracy {:.2f} %\".format( 100 * accuracy_score(y_pred, y_test)))"
      ],
      "execution_count": 46,
      "outputs": [
        {
          "output_type": "stream",
          "text": [
            "[[4495  286]\n",
            " [ 768  451]]\n",
            "Accuracy 82.43 %\n"
          ],
          "name": "stdout"
        }
      ]
    },
    {
      "cell_type": "markdown",
      "metadata": {
        "id": "eYvf5k4_QOLb"
      },
      "source": [
        "### **Conclusion** \n",
        "We have got the model improved by removing the highly correlated features but not the high improvment from 81.47% to 82.43% "
      ]
    }
  ]
}