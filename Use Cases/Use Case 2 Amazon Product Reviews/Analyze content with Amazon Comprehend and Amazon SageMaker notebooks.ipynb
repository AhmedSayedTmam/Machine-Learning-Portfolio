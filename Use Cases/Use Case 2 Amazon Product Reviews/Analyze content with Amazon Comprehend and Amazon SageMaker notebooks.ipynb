{
 "cells": [
  {
   "cell_type": "code",
   "execution_count": 1,
   "id": "fatty-vulnerability",
   "metadata": {},
   "outputs": [],
   "source": [
    "import pandas as pd\n",
    "from collections import OrderedDict\n",
    "import requests"
   ]
  },
  {
   "cell_type": "code",
   "execution_count": 2,
   "id": "vietnamese-invitation",
   "metadata": {},
   "outputs": [],
   "source": [
    "import boto3 \n",
    "comprehend = boto3.client('comprehend', region_name='us-east-1')"
   ]
  },
  {
   "cell_type": "code",
   "execution_count": 4,
   "id": "liked-minority",
   "metadata": {},
   "outputs": [
    {
     "data": {
      "text/html": [
       "<div>\n",
       "<style scoped>\n",
       "    .dataframe tbody tr th:only-of-type {\n",
       "        vertical-align: middle;\n",
       "    }\n",
       "\n",
       "    .dataframe tbody tr th {\n",
       "        vertical-align: top;\n",
       "    }\n",
       "\n",
       "    .dataframe thead th {\n",
       "        text-align: right;\n",
       "    }\n",
       "</style>\n",
       "<table border=\"1\" class=\"dataframe\">\n",
       "  <thead>\n",
       "    <tr style=\"text-align: right;\">\n",
       "      <th></th>\n",
       "      <th>reviews.text</th>\n",
       "    </tr>\n",
       "  </thead>\n",
       "  <tbody>\n",
       "    <tr>\n",
       "      <th>0</th>\n",
       "      <td>This product so far has not disappointed. My c...</td>\n",
       "    </tr>\n",
       "    <tr>\n",
       "      <th>1</th>\n",
       "      <td>great for beginner or experienced person. Boug...</td>\n",
       "    </tr>\n",
       "    <tr>\n",
       "      <th>2</th>\n",
       "      <td>Inexpensive tablet for him to use and learn on...</td>\n",
       "    </tr>\n",
       "    <tr>\n",
       "      <th>3</th>\n",
       "      <td>I've had my Fire HD 8 two weeks now and I love...</td>\n",
       "    </tr>\n",
       "    <tr>\n",
       "      <th>4</th>\n",
       "      <td>I bought this for my grand daughter when she c...</td>\n",
       "    </tr>\n",
       "  </tbody>\n",
       "</table>\n",
       "</div>"
      ],
      "text/plain": [
       "                                        reviews.text\n",
       "0  This product so far has not disappointed. My c...\n",
       "1  great for beginner or experienced person. Boug...\n",
       "2  Inexpensive tablet for him to use and learn on...\n",
       "3  I've had my Fire HD 8 two weeks now and I love...\n",
       "4  I bought this for my grand daughter when she c..."
      ]
     },
     "execution_count": 4,
     "metadata": {},
     "output_type": "execute_result"
    }
   ],
   "source": [
    "df = pd.read_csv('Comprehend_Test.csv')\n",
    "df.head()"
   ]
  },
  {
   "cell_type": "code",
   "execution_count": 5,
   "id": "allied-variety",
   "metadata": {
    "scrolled": true
   },
   "outputs": [
    {
     "name": "stdout",
     "output_type": "stream",
     "text": [
      "<class 'pandas.core.frame.DataFrame'>\n",
      "RangeIndex: 1000 entries, 0 to 999\n",
      "Data columns (total 1 columns):\n",
      " #   Column        Non-Null Count  Dtype \n",
      "---  ------        --------------  ----- \n",
      " 0   reviews.text  1000 non-null   object\n",
      "dtypes: object(1)\n",
      "memory usage: 7.9+ KB\n"
     ]
    }
   ],
   "source": [
    "df.info()"
   ]
  },
  {
   "cell_type": "code",
   "execution_count": 7,
   "id": "diverse-giving",
   "metadata": {},
   "outputs": [],
   "source": [
    "reviews = []\n",
    "sentiments = []\n",
    "positive = []\n",
    "negative = []\n",
    "neutral = []\n",
    "\n",
    "for i in range(len(df)):\n",
    "    rev = df['reviews.text'][i]\n",
    "    \n",
    "    res = comprehend.detect_sentiment(Text=rev, LanguageCode='en')\n",
    "    s = res.get('Sentiment')\n",
    "    p = res.get('SentimentScore')['Positive']\n",
    "    neg = res.get('SentimentScore')['Negative']\n",
    "    neu = res.get('SentimentScore')['Neutral']\n",
    "    \n",
    "    reviews.append(rev)\n",
    "    sentiments.append(s)\n",
    "    positive.append(p)\n",
    "    negative.append(neg)\n",
    "    neutral.append(neu)\n",
    "    \n"
   ]
  },
  {
   "cell_type": "code",
   "execution_count": 8,
   "id": "solar-serve",
   "metadata": {},
   "outputs": [],
   "source": [
    "from collections import OrderedDict\n",
    "\n",
    "result = pd.DataFrame(OrderedDict( {\n",
    "            'reviews': reviews\n",
    "         , 'sentiment': sentiments\n",
    "         , 'positiveScore': positive\n",
    "         , 'negativeScore': negative\n",
    "         , 'neutralScore' : neutral\n",
    "         }))"
   ]
  },
  {
   "cell_type": "code",
   "execution_count": 9,
   "id": "legitimate-demographic",
   "metadata": {},
   "outputs": [
    {
     "data": {
      "text/html": [
       "<div>\n",
       "<style scoped>\n",
       "    .dataframe tbody tr th:only-of-type {\n",
       "        vertical-align: middle;\n",
       "    }\n",
       "\n",
       "    .dataframe tbody tr th {\n",
       "        vertical-align: top;\n",
       "    }\n",
       "\n",
       "    .dataframe thead th {\n",
       "        text-align: right;\n",
       "    }\n",
       "</style>\n",
       "<table border=\"1\" class=\"dataframe\">\n",
       "  <thead>\n",
       "    <tr style=\"text-align: right;\">\n",
       "      <th></th>\n",
       "      <th>reviews</th>\n",
       "      <th>sentiment</th>\n",
       "      <th>positiveScore</th>\n",
       "      <th>negativeScore</th>\n",
       "      <th>neutralScore</th>\n",
       "    </tr>\n",
       "  </thead>\n",
       "  <tbody>\n",
       "    <tr>\n",
       "      <th>0</th>\n",
       "      <td>This product so far has not disappointed. My c...</td>\n",
       "      <td>POSITIVE</td>\n",
       "      <td>0.999772</td>\n",
       "      <td>0.000060</td>\n",
       "      <td>0.000140</td>\n",
       "    </tr>\n",
       "    <tr>\n",
       "      <th>1</th>\n",
       "      <td>great for beginner or experienced person. Boug...</td>\n",
       "      <td>POSITIVE</td>\n",
       "      <td>0.999648</td>\n",
       "      <td>0.000030</td>\n",
       "      <td>0.000225</td>\n",
       "    </tr>\n",
       "    <tr>\n",
       "      <th>2</th>\n",
       "      <td>Inexpensive tablet for him to use and learn on...</td>\n",
       "      <td>POSITIVE</td>\n",
       "      <td>0.994858</td>\n",
       "      <td>0.000128</td>\n",
       "      <td>0.004978</td>\n",
       "    </tr>\n",
       "    <tr>\n",
       "      <th>3</th>\n",
       "      <td>I've had my Fire HD 8 two weeks now and I love...</td>\n",
       "      <td>POSITIVE</td>\n",
       "      <td>0.999498</td>\n",
       "      <td>0.000294</td>\n",
       "      <td>0.000074</td>\n",
       "    </tr>\n",
       "    <tr>\n",
       "      <th>4</th>\n",
       "      <td>I bought this for my grand daughter when she c...</td>\n",
       "      <td>POSITIVE</td>\n",
       "      <td>0.996598</td>\n",
       "      <td>0.000790</td>\n",
       "      <td>0.000720</td>\n",
       "    </tr>\n",
       "  </tbody>\n",
       "</table>\n",
       "</div>"
      ],
      "text/plain": [
       "                                             reviews sentiment  positiveScore  \\\n",
       "0  This product so far has not disappointed. My c...  POSITIVE       0.999772   \n",
       "1  great for beginner or experienced person. Boug...  POSITIVE       0.999648   \n",
       "2  Inexpensive tablet for him to use and learn on...  POSITIVE       0.994858   \n",
       "3  I've had my Fire HD 8 two weeks now and I love...  POSITIVE       0.999498   \n",
       "4  I bought this for my grand daughter when she c...  POSITIVE       0.996598   \n",
       "\n",
       "   negativeScore  neutralScore  \n",
       "0       0.000060      0.000140  \n",
       "1       0.000030      0.000225  \n",
       "2       0.000128      0.004978  \n",
       "3       0.000294      0.000074  \n",
       "4       0.000790      0.000720  "
      ]
     },
     "execution_count": 9,
     "metadata": {},
     "output_type": "execute_result"
    }
   ],
   "source": [
    "result.head()"
   ]
  },
  {
   "cell_type": "code",
   "execution_count": 10,
   "id": "absolute-telescope",
   "metadata": {},
   "outputs": [
    {
     "name": "stdout",
     "output_type": "stream",
     "text": [
      "<class 'pandas.core.frame.DataFrame'>\n",
      "RangeIndex: 1000 entries, 0 to 999\n",
      "Data columns (total 5 columns):\n",
      " #   Column         Non-Null Count  Dtype  \n",
      "---  ------         --------------  -----  \n",
      " 0   reviews        1000 non-null   object \n",
      " 1   sentiment      1000 non-null   object \n",
      " 2   positiveScore  1000 non-null   float64\n",
      " 3   negativeScore  1000 non-null   float64\n",
      " 4   neutralScore   1000 non-null   float64\n",
      "dtypes: float64(3), object(2)\n",
      "memory usage: 39.2+ KB\n"
     ]
    }
   ],
   "source": [
    "result.info()"
   ]
  },
  {
   "cell_type": "code",
   "execution_count": 12,
   "id": "ambient-election",
   "metadata": {},
   "outputs": [
    {
     "data": {
      "text/plain": [
       "POSITIVE    835\n",
       "MIXED       113\n",
       "NEGATIVE     44\n",
       "NEUTRAL       8\n",
       "Name: sentiment, dtype: int64"
      ]
     },
     "execution_count": 12,
     "metadata": {},
     "output_type": "execute_result"
    }
   ],
   "source": [
    "result['sentiment'].value_counts() "
   ]
  },
  {
   "cell_type": "code",
   "execution_count": 14,
   "id": "joined-cancellation",
   "metadata": {},
   "outputs": [
    {
     "data": {
      "text/plain": [
       "<AxesSubplot:>"
      ]
     },
     "execution_count": 14,
     "metadata": {},
     "output_type": "execute_result"
    },
    {
     "data": {
      "image/png": "[encoded data removed]",
      "text/plain": [
       "<Figure size 432x288 with 1 Axes>"
      ]
     },
     "metadata": {
      "needs_background": "light"
     },
     "output_type": "display_data"
    }
   ],
   "source": [
    "import matplotlib.pyplot as plt \n",
    "result['sentiment'].hist()"
   ]
  },
  {
   "cell_type": "markdown",
   "id": "particular-tourism",
   "metadata": {},
   "source": [
    "Finally, we can save the results in a comma separated file (CSV) "
   ]
  },
  {
   "cell_type": "code",
   "execution_count": 16,
   "id": "apparent-thong",
   "metadata": {},
   "outputs": [],
   "source": [
    "result.to_csv('result.csv', index=False)"
   ]
  }
 ],
 "metadata": {
  "kernelspec": {
   "display_name": "conda_python3",
   "language": "python",
   "name": "conda_python3"
  },
  "language_info": {
   "codemirror_mode": {
    "name": "ipython",
    "version": 3
   },
   "file_extension": ".py",
   "mimetype": "text/x-python",
   "name": "python",
   "nbconvert_exporter": "python",
   "pygments_lexer": "ipython3",
   "version": "3.6.13"
  }
 },
 "nbformat": 4,
 "nbformat_minor": 5
}
