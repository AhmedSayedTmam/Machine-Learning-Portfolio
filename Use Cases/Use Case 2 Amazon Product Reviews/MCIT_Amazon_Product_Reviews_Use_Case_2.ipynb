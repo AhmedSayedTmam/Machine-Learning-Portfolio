{
 "cells": [
  {
   "cell_type": "markdown",
   "metadata": {
    "id": "ofM1yam8oN9s"
   },
   "source": [
    "# MCIT Amazon Product Reviews Use Case 2 "
   ]
  },
  {
   "cell_type": "markdown",
   "metadata": {
    "id": "iufhTuimoN_C"
   },
   "source": [
    "#### In this notebook, we need to classify reviews as positive or negative for dataset about amazon product reviews, so we will make NLP then build, train and evaluate ML model to predict customers reviews as positive or negative.\n",
    "\n",
    "#### Here are the main steps we will go through:\n",
    "\n",
    "<a href=\"#1\">1.Read the dataset</a><br>\n",
    "<a href=\"#2\">2.Explore the dataset </a><br>\n",
    "<a href=\"#3\">3.Natural Language Processing </a><br>\n",
    "<a href=\"#4\">4.Select a model and train it</a><br>\n"
   ]
  },
  {
   "cell_type": "code",
   "execution_count": 1,
   "metadata": {
    "id": "f5MLxmEj-4qZ"
   },
   "outputs": [],
   "source": [
    "import pandas as pd\n",
    "import numpy as np\n",
    "import matplotlib.pyplot as plt\n",
    "%matplotlib inline\n",
    "import seaborn as sns\n",
    "import warnings\n",
    "from scipy import stats\n",
    "warnings.filterwarnings('ignore')\n",
    "pd.set_option('display.max_columns', None)"
   ]
  },
  {
   "cell_type": "markdown",
   "metadata": {
    "id": "ByKKopzPoN_O"
   },
   "source": [
    "## <a name=\"1\">1. Read the dataset</a>\n",
    "(<a href=\"#0\">Go to top</a>)\n",
    "\n",
    "Let's read the dataset into a dataframe, using Pandas."
   ]
  },
  {
   "cell_type": "code",
   "execution_count": 2,
   "metadata": {
    "colab": {
     "base_uri": "https://localhost:8080/",
     "height": 736
    },
    "id": "4k-qWCEF-4qq",
    "outputId": "9a85147f-c318-49d4-c8e9-6d5316409000",
    "scrolled": false
   },
   "outputs": [
    {
     "data": {
      "text/html": [
       "<div>\n",
       "<style scoped>\n",
       "    .dataframe tbody tr th:only-of-type {\n",
       "        vertical-align: middle;\n",
       "    }\n",
       "\n",
       "    .dataframe tbody tr th {\n",
       "        vertical-align: top;\n",
       "    }\n",
       "\n",
       "    .dataframe thead th {\n",
       "        text-align: right;\n",
       "    }\n",
       "</style>\n",
       "<table border=\"1\" class=\"dataframe\">\n",
       "  <thead>\n",
       "    <tr style=\"text-align: right;\">\n",
       "      <th></th>\n",
       "      <th>id</th>\n",
       "      <th>name</th>\n",
       "      <th>asins</th>\n",
       "      <th>brand</th>\n",
       "      <th>categories</th>\n",
       "      <th>keys</th>\n",
       "      <th>manufacturer</th>\n",
       "      <th>reviews.date</th>\n",
       "      <th>reviews.dateAdded</th>\n",
       "      <th>reviews.dateSeen</th>\n",
       "      <th>reviews.didPurchase</th>\n",
       "      <th>reviews.doRecommend</th>\n",
       "      <th>reviews.id</th>\n",
       "      <th>reviews.numHelpful</th>\n",
       "      <th>reviews.rating</th>\n",
       "      <th>reviews.sourceURLs</th>\n",
       "      <th>reviews.text</th>\n",
       "      <th>reviews.title</th>\n",
       "      <th>reviews.userCity</th>\n",
       "      <th>reviews.userProvince</th>\n",
       "      <th>reviews.username</th>\n",
       "    </tr>\n",
       "  </thead>\n",
       "  <tbody>\n",
       "    <tr>\n",
       "      <th>0</th>\n",
       "      <td>AVqkIhwDv8e3D1O-lebb</td>\n",
       "      <td>All-New Fire HD 8 Tablet, 8 HD Display, Wi-Fi,...</td>\n",
       "      <td>B01AHB9CN2</td>\n",
       "      <td>Amazon</td>\n",
       "      <td>Electronics,iPad &amp; Tablets,All Tablets,Fire Ta...</td>\n",
       "      <td>841667104676,amazon/53004484,amazon/b01ahb9cn2...</td>\n",
       "      <td>Amazon</td>\n",
       "      <td>2017-01-13T00:00:00.000Z</td>\n",
       "      <td>2017-07-03T23:33:15Z</td>\n",
       "      <td>2017-06-07T09:04:00.000Z,2017-04-30T00:45:00.000Z</td>\n",
       "      <td>NaN</td>\n",
       "      <td>True</td>\n",
       "      <td>NaN</td>\n",
       "      <td>0.0</td>\n",
       "      <td>5.0</td>\n",
       "      <td>http://reviews.bestbuy.com/3545/5620406/review...</td>\n",
       "      <td>This product so far has not disappointed. My c...</td>\n",
       "      <td>Kindle</td>\n",
       "      <td>NaN</td>\n",
       "      <td>NaN</td>\n",
       "      <td>Adapter</td>\n",
       "    </tr>\n",
       "    <tr>\n",
       "      <th>1</th>\n",
       "      <td>AVqkIhwDv8e3D1O-lebb</td>\n",
       "      <td>All-New Fire HD 8 Tablet, 8 HD Display, Wi-Fi,...</td>\n",
       "      <td>B01AHB9CN2</td>\n",
       "      <td>Amazon</td>\n",
       "      <td>Electronics,iPad &amp; Tablets,All Tablets,Fire Ta...</td>\n",
       "      <td>841667104676,amazon/53004484,amazon/b01ahb9cn2...</td>\n",
       "      <td>Amazon</td>\n",
       "      <td>2017-01-13T00:00:00.000Z</td>\n",
       "      <td>2017-07-03T23:33:15Z</td>\n",
       "      <td>2017-06-07T09:04:00.000Z,2017-04-30T00:45:00.000Z</td>\n",
       "      <td>NaN</td>\n",
       "      <td>True</td>\n",
       "      <td>NaN</td>\n",
       "      <td>0.0</td>\n",
       "      <td>5.0</td>\n",
       "      <td>http://reviews.bestbuy.com/3545/5620406/review...</td>\n",
       "      <td>great for beginner or experienced person. Boug...</td>\n",
       "      <td>very fast</td>\n",
       "      <td>NaN</td>\n",
       "      <td>NaN</td>\n",
       "      <td>truman</td>\n",
       "    </tr>\n",
       "    <tr>\n",
       "      <th>2</th>\n",
       "      <td>AVqkIhwDv8e3D1O-lebb</td>\n",
       "      <td>All-New Fire HD 8 Tablet, 8 HD Display, Wi-Fi,...</td>\n",
       "      <td>B01AHB9CN2</td>\n",
       "      <td>Amazon</td>\n",
       "      <td>Electronics,iPad &amp; Tablets,All Tablets,Fire Ta...</td>\n",
       "      <td>841667104676,amazon/53004484,amazon/b01ahb9cn2...</td>\n",
       "      <td>Amazon</td>\n",
       "      <td>2017-01-13T00:00:00.000Z</td>\n",
       "      <td>2017-07-03T23:33:15Z</td>\n",
       "      <td>2017-06-07T09:04:00.000Z,2017-04-30T00:45:00.000Z</td>\n",
       "      <td>NaN</td>\n",
       "      <td>True</td>\n",
       "      <td>NaN</td>\n",
       "      <td>0.0</td>\n",
       "      <td>5.0</td>\n",
       "      <td>http://reviews.bestbuy.com/3545/5620406/review...</td>\n",
       "      <td>Inexpensive tablet for him to use and learn on...</td>\n",
       "      <td>Beginner tablet for our 9 year old son.</td>\n",
       "      <td>NaN</td>\n",
       "      <td>NaN</td>\n",
       "      <td>DaveZ</td>\n",
       "    </tr>\n",
       "    <tr>\n",
       "      <th>3</th>\n",
       "      <td>AVqkIhwDv8e3D1O-lebb</td>\n",
       "      <td>All-New Fire HD 8 Tablet, 8 HD Display, Wi-Fi,...</td>\n",
       "      <td>B01AHB9CN2</td>\n",
       "      <td>Amazon</td>\n",
       "      <td>Electronics,iPad &amp; Tablets,All Tablets,Fire Ta...</td>\n",
       "      <td>841667104676,amazon/53004484,amazon/b01ahb9cn2...</td>\n",
       "      <td>Amazon</td>\n",
       "      <td>2017-01-13T00:00:00.000Z</td>\n",
       "      <td>2017-07-03T23:33:15Z</td>\n",
       "      <td>2017-06-07T09:04:00.000Z,2017-04-30T00:45:00.000Z</td>\n",
       "      <td>NaN</td>\n",
       "      <td>True</td>\n",
       "      <td>NaN</td>\n",
       "      <td>0.0</td>\n",
       "      <td>4.0</td>\n",
       "      <td>http://reviews.bestbuy.com/3545/5620406/review...</td>\n",
       "      <td>I've had my Fire HD 8 two weeks now and I love...</td>\n",
       "      <td>Good!!!</td>\n",
       "      <td>NaN</td>\n",
       "      <td>NaN</td>\n",
       "      <td>Shacks</td>\n",
       "    </tr>\n",
       "    <tr>\n",
       "      <th>4</th>\n",
       "      <td>AVqkIhwDv8e3D1O-lebb</td>\n",
       "      <td>All-New Fire HD 8 Tablet, 8 HD Display, Wi-Fi,...</td>\n",
       "      <td>B01AHB9CN2</td>\n",
       "      <td>Amazon</td>\n",
       "      <td>Electronics,iPad &amp; Tablets,All Tablets,Fire Ta...</td>\n",
       "      <td>841667104676,amazon/53004484,amazon/b01ahb9cn2...</td>\n",
       "      <td>Amazon</td>\n",
       "      <td>2017-01-12T00:00:00.000Z</td>\n",
       "      <td>2017-07-03T23:33:15Z</td>\n",
       "      <td>2017-06-07T09:04:00.000Z,2017-04-30T00:45:00.000Z</td>\n",
       "      <td>NaN</td>\n",
       "      <td>True</td>\n",
       "      <td>NaN</td>\n",
       "      <td>0.0</td>\n",
       "      <td>5.0</td>\n",
       "      <td>http://reviews.bestbuy.com/3545/5620406/review...</td>\n",
       "      <td>I bought this for my grand daughter when she c...</td>\n",
       "      <td>Fantastic Tablet for kids</td>\n",
       "      <td>NaN</td>\n",
       "      <td>NaN</td>\n",
       "      <td>explore42</td>\n",
       "    </tr>\n",
       "  </tbody>\n",
       "</table>\n",
       "</div>"
      ],
      "text/plain": [
       "                     id                                               name  \\\n",
       "0  AVqkIhwDv8e3D1O-lebb  All-New Fire HD 8 Tablet, 8 HD Display, Wi-Fi,...   \n",
       "1  AVqkIhwDv8e3D1O-lebb  All-New Fire HD 8 Tablet, 8 HD Display, Wi-Fi,...   \n",
       "2  AVqkIhwDv8e3D1O-lebb  All-New Fire HD 8 Tablet, 8 HD Display, Wi-Fi,...   \n",
       "3  AVqkIhwDv8e3D1O-lebb  All-New Fire HD 8 Tablet, 8 HD Display, Wi-Fi,...   \n",
       "4  AVqkIhwDv8e3D1O-lebb  All-New Fire HD 8 Tablet, 8 HD Display, Wi-Fi,...   \n",
       "\n",
       "        asins   brand                                         categories  \\\n",
       "0  B01AHB9CN2  Amazon  Electronics,iPad & Tablets,All Tablets,Fire Ta...   \n",
       "1  B01AHB9CN2  Amazon  Electronics,iPad & Tablets,All Tablets,Fire Ta...   \n",
       "2  B01AHB9CN2  Amazon  Electronics,iPad & Tablets,All Tablets,Fire Ta...   \n",
       "3  B01AHB9CN2  Amazon  Electronics,iPad & Tablets,All Tablets,Fire Ta...   \n",
       "4  B01AHB9CN2  Amazon  Electronics,iPad & Tablets,All Tablets,Fire Ta...   \n",
       "\n",
       "                                                keys manufacturer  \\\n",
       "0  841667104676,amazon/53004484,amazon/b01ahb9cn2...       Amazon   \n",
       "1  841667104676,amazon/53004484,amazon/b01ahb9cn2...       Amazon   \n",
       "2  841667104676,amazon/53004484,amazon/b01ahb9cn2...       Amazon   \n",
       "3  841667104676,amazon/53004484,amazon/b01ahb9cn2...       Amazon   \n",
       "4  841667104676,amazon/53004484,amazon/b01ahb9cn2...       Amazon   \n",
       "\n",
       "               reviews.date     reviews.dateAdded  \\\n",
       "0  2017-01-13T00:00:00.000Z  2017-07-03T23:33:15Z   \n",
       "1  2017-01-13T00:00:00.000Z  2017-07-03T23:33:15Z   \n",
       "2  2017-01-13T00:00:00.000Z  2017-07-03T23:33:15Z   \n",
       "3  2017-01-13T00:00:00.000Z  2017-07-03T23:33:15Z   \n",
       "4  2017-01-12T00:00:00.000Z  2017-07-03T23:33:15Z   \n",
       "\n",
       "                                    reviews.dateSeen reviews.didPurchase  \\\n",
       "0  2017-06-07T09:04:00.000Z,2017-04-30T00:45:00.000Z                 NaN   \n",
       "1  2017-06-07T09:04:00.000Z,2017-04-30T00:45:00.000Z                 NaN   \n",
       "2  2017-06-07T09:04:00.000Z,2017-04-30T00:45:00.000Z                 NaN   \n",
       "3  2017-06-07T09:04:00.000Z,2017-04-30T00:45:00.000Z                 NaN   \n",
       "4  2017-06-07T09:04:00.000Z,2017-04-30T00:45:00.000Z                 NaN   \n",
       "\n",
       "  reviews.doRecommend  reviews.id  reviews.numHelpful  reviews.rating  \\\n",
       "0                True         NaN                 0.0             5.0   \n",
       "1                True         NaN                 0.0             5.0   \n",
       "2                True         NaN                 0.0             5.0   \n",
       "3                True         NaN                 0.0             4.0   \n",
       "4                True         NaN                 0.0             5.0   \n",
       "\n",
       "                                  reviews.sourceURLs  \\\n",
       "0  http://reviews.bestbuy.com/3545/5620406/review...   \n",
       "1  http://reviews.bestbuy.com/3545/5620406/review...   \n",
       "2  http://reviews.bestbuy.com/3545/5620406/review...   \n",
       "3  http://reviews.bestbuy.com/3545/5620406/review...   \n",
       "4  http://reviews.bestbuy.com/3545/5620406/review...   \n",
       "\n",
       "                                        reviews.text  \\\n",
       "0  This product so far has not disappointed. My c...   \n",
       "1  great for beginner or experienced person. Boug...   \n",
       "2  Inexpensive tablet for him to use and learn on...   \n",
       "3  I've had my Fire HD 8 two weeks now and I love...   \n",
       "4  I bought this for my grand daughter when she c...   \n",
       "\n",
       "                             reviews.title  reviews.userCity  \\\n",
       "0                                   Kindle               NaN   \n",
       "1                                very fast               NaN   \n",
       "2  Beginner tablet for our 9 year old son.               NaN   \n",
       "3                                  Good!!!               NaN   \n",
       "4                Fantastic Tablet for kids               NaN   \n",
       "\n",
       "   reviews.userProvince reviews.username  \n",
       "0                   NaN          Adapter  \n",
       "1                   NaN           truman  \n",
       "2                   NaN            DaveZ  \n",
       "3                   NaN           Shacks  \n",
       "4                   NaN        explore42  "
      ]
     },
     "execution_count": 2,
     "metadata": {
      "tags": []
     },
     "output_type": "execute_result"
    }
   ],
   "source": [
    "df = pd.read_csv('1429_1.csv')\n",
    "df.head()"
   ]
  },
  {
   "cell_type": "markdown",
   "metadata": {
    "id": "hQJSQeFcoN_X"
   },
   "source": [
    "## <a name=\"2\">2. Explore the dataset</a>\n",
    "(<a href=\"#0\">Go to top</a>)\n",
    "\n",
    "Let's explore the dataset"
   ]
  },
  {
   "cell_type": "code",
   "execution_count": 3,
   "metadata": {
    "colab": {
     "base_uri": "https://localhost:8080/"
    },
    "id": "LCjmyPm8-4qt",
    "outputId": "c2b8582f-7bc3-4e52-ba41-95a599f26a23",
    "scrolled": true
   },
   "outputs": [
    {
     "name": "stdout",
     "output_type": "stream",
     "text": [
      "<class 'pandas.core.frame.DataFrame'>\n",
      "RangeIndex: 34660 entries, 0 to 34659\n",
      "Data columns (total 21 columns):\n",
      " #   Column                Non-Null Count  Dtype  \n",
      "---  ------                --------------  -----  \n",
      " 0   id                    34660 non-null  object \n",
      " 1   name                  27900 non-null  object \n",
      " 2   asins                 34658 non-null  object \n",
      " 3   brand                 34660 non-null  object \n",
      " 4   categories            34660 non-null  object \n",
      " 5   keys                  34660 non-null  object \n",
      " 6   manufacturer          34660 non-null  object \n",
      " 7   reviews.date          34621 non-null  object \n",
      " 8   reviews.dateAdded     24039 non-null  object \n",
      " 9   reviews.dateSeen      34660 non-null  object \n",
      " 10  reviews.didPurchase   1 non-null      object \n",
      " 11  reviews.doRecommend   34066 non-null  object \n",
      " 12  reviews.id            1 non-null      float64\n",
      " 13  reviews.numHelpful    34131 non-null  float64\n",
      " 14  reviews.rating        34627 non-null  float64\n",
      " 15  reviews.sourceURLs    34660 non-null  object \n",
      " 16  reviews.text          34659 non-null  object \n",
      " 17  reviews.title         34655 non-null  object \n",
      " 18  reviews.userCity      0 non-null      float64\n",
      " 19  reviews.userProvince  0 non-null      float64\n",
      " 20  reviews.username      34658 non-null  object \n",
      "dtypes: float64(5), object(16)\n",
      "memory usage: 5.6+ MB\n"
     ]
    }
   ],
   "source": [
    "df.info()"
   ]
  },
  {
   "cell_type": "code",
   "execution_count": 4,
   "metadata": {
    "colab": {
     "base_uri": "https://localhost:8080/"
    },
    "id": "h9y8EjBj-4qu",
    "outputId": "02a62a7c-671d-4380-fa62-718f9ffb2aee"
   },
   "outputs": [
    {
     "data": {
      "text/plain": [
       "(34660, 21)"
      ]
     },
     "execution_count": 4,
     "metadata": {
      "tags": []
     },
     "output_type": "execute_result"
    }
   ],
   "source": [
    "df.shape"
   ]
  },
  {
   "cell_type": "markdown",
   "metadata": {
    "id": "Ro0nJy8AoN_j"
   },
   "source": [
    "Since we are interested in 'reviews.text','reviews.rating' columns"
   ]
  },
  {
   "cell_type": "code",
   "execution_count": 5,
   "metadata": {
    "id": "ri3ICzlf-4qv"
   },
   "outputs": [],
   "source": [
    "df_review = df[['reviews.text','reviews.rating']]"
   ]
  },
  {
   "cell_type": "code",
   "execution_count": 6,
   "metadata": {
    "colab": {
     "base_uri": "https://localhost:8080/"
    },
    "id": "rsIc44Ks-4qw",
    "outputId": "16c38d4d-cb4c-4d0d-8d0f-2f6059f4700e",
    "scrolled": true
   },
   "outputs": [
    {
     "name": "stdout",
     "output_type": "stream",
     "text": [
      "<class 'pandas.core.frame.DataFrame'>\n",
      "RangeIndex: 34660 entries, 0 to 34659\n",
      "Data columns (total 2 columns):\n",
      " #   Column          Non-Null Count  Dtype  \n",
      "---  ------          --------------  -----  \n",
      " 0   reviews.text    34659 non-null  object \n",
      " 1   reviews.rating  34627 non-null  float64\n",
      "dtypes: float64(1), object(1)\n",
      "memory usage: 541.7+ KB\n"
     ]
    }
   ],
   "source": [
    "df_review.info()"
   ]
  },
  {
   "cell_type": "code",
   "execution_count": 7,
   "metadata": {
    "colab": {
     "base_uri": "https://localhost:8080/"
    },
    "id": "JjrlyY5s-4qx",
    "outputId": "f1fdeb1f-3d38-43d8-84f0-69da0ce35f35"
   },
   "outputs": [
    {
     "data": {
      "text/plain": [
       "(34660, 2)"
      ]
     },
     "execution_count": 7,
     "metadata": {
      "tags": []
     },
     "output_type": "execute_result"
    }
   ],
   "source": [
    "df_review.shape"
   ]
  },
  {
   "cell_type": "code",
   "execution_count": 8,
   "metadata": {
    "colab": {
     "base_uri": "https://localhost:8080/"
    },
    "id": "R5L2Otdt-4qx",
    "outputId": "862f9cd7-85e7-4182-e2b0-eb498f3555ed",
    "scrolled": false
   },
   "outputs": [
    {
     "data": {
      "text/plain": [
       "reviews.text       1\n",
       "reviews.rating    33\n",
       "dtype: int64"
      ]
     },
     "execution_count": 8,
     "metadata": {
      "tags": []
     },
     "output_type": "execute_result"
    }
   ],
   "source": [
    "df_review.isna().sum()"
   ]
  },
  {
   "cell_type": "code",
   "execution_count": 9,
   "metadata": {
    "id": "_qZxPFxU-4qz"
   },
   "outputs": [],
   "source": [
    "df_review = df_review.dropna()"
   ]
  },
  {
   "cell_type": "code",
   "execution_count": 10,
   "metadata": {
    "colab": {
     "base_uri": "https://localhost:8080/"
    },
    "id": "Y9U19XD3-4q0",
    "outputId": "ba3afeac-1fee-42ec-c529-bd43f7d7e9f5",
    "scrolled": true
   },
   "outputs": [
    {
     "data": {
      "text/plain": [
       "reviews.text      0\n",
       "reviews.rating    0\n",
       "dtype: int64"
      ]
     },
     "execution_count": 10,
     "metadata": {
      "tags": []
     },
     "output_type": "execute_result"
    }
   ],
   "source": [
    "df_review.isna().sum()"
   ]
  },
  {
   "cell_type": "code",
   "execution_count": 11,
   "metadata": {
    "colab": {
     "base_uri": "https://localhost:8080/"
    },
    "id": "obtD2BbM-4q2",
    "outputId": "b91fab3b-7d08-465b-a1ef-38a64d3197ef"
   },
   "outputs": [
    {
     "data": {
      "text/plain": [
       "(34626, 2)"
      ]
     },
     "execution_count": 11,
     "metadata": {
      "tags": []
     },
     "output_type": "execute_result"
    }
   ],
   "source": [
    "df_review.shape"
   ]
  },
  {
   "cell_type": "code",
   "execution_count": 12,
   "metadata": {
    "colab": {
     "base_uri": "https://localhost:8080/"
    },
    "id": "3N31K6AFZL9V",
    "outputId": "32be8c69-1001-476f-d9cf-a9bec4d1cf8a"
   },
   "outputs": [
    {
     "data": {
      "text/plain": [
       "0"
      ]
     },
     "execution_count": 12,
     "metadata": {
      "tags": []
     },
     "output_type": "execute_result"
    }
   ],
   "source": [
    "df_review.duplicated().sum()"
   ]
  },
  {
   "cell_type": "code",
   "execution_count": 13,
   "metadata": {
    "colab": {
     "base_uri": "https://localhost:8080/"
    },
    "id": "VaU1j3Cm-4q3",
    "outputId": "574253b3-f44e-482b-8535-264fa390383d"
   },
   "outputs": [
    {
     "name": "stdout",
     "output_type": "stream",
     "text": [
      "<class 'pandas.core.frame.DataFrame'>\n",
      "Int64Index: 34626 entries, 0 to 34659\n",
      "Data columns (total 2 columns):\n",
      " #   Column          Non-Null Count  Dtype  \n",
      "---  ------          --------------  -----  \n",
      " 0   reviews.text    34626 non-null  object \n",
      " 1   reviews.rating  34626 non-null  float64\n",
      "dtypes: float64(1), object(1)\n",
      "memory usage: 811.5+ KB\n"
     ]
    }
   ],
   "source": [
    "df_review.info()"
   ]
  },
  {
   "cell_type": "code",
   "execution_count": 14,
   "metadata": {
    "colab": {
     "base_uri": "https://localhost:8080/"
    },
    "id": "aIyaHFhR-4q4",
    "outputId": "df4b51ed-393a-4a9f-8429-0d72a7f19b03",
    "scrolled": true
   },
   "outputs": [
    {
     "data": {
      "text/plain": [
       "5.0    23774\n",
       "4.0     8541\n",
       "3.0     1499\n",
       "1.0      410\n",
       "2.0      402\n",
       "Name: reviews.rating, dtype: int64"
      ]
     },
     "execution_count": 14,
     "metadata": {
      "tags": []
     },
     "output_type": "execute_result"
    }
   ],
   "source": [
    "df_review['reviews.rating'].value_counts()"
   ]
  },
  {
   "cell_type": "markdown",
   "metadata": {
    "id": "XaFzPZaboN_6"
   },
   "source": [
    "Since we will consider ratings 5, 4 are positive and the rest negative"
   ]
  },
  {
   "cell_type": "code",
   "execution_count": 15,
   "metadata": {
    "id": "pf37C7ab-4q5"
   },
   "outputs": [],
   "source": [
    "df_review['reviews.rating'] = df_review['reviews.rating'].apply(lambda x: 1 if x == 5 or x == 4 else 0)"
   ]
  },
  {
   "cell_type": "code",
   "execution_count": 16,
   "metadata": {
    "colab": {
     "base_uri": "https://localhost:8080/"
    },
    "id": "47VGxU5N-4q6",
    "outputId": "dabb32d3-0fdd-46fd-b45d-0dc8c6d8f5b8",
    "scrolled": true
   },
   "outputs": [
    {
     "data": {
      "text/plain": [
       "1    32315\n",
       "0     2311\n",
       "Name: reviews.rating, dtype: int64"
      ]
     },
     "execution_count": 16,
     "metadata": {
      "tags": []
     },
     "output_type": "execute_result"
    }
   ],
   "source": [
    "df_review['reviews.rating'].value_counts()"
   ]
  },
  {
   "cell_type": "markdown",
   "metadata": {
    "id": "L7P-vmJk-4q7"
   },
   "source": [
    "We should  notice that we have imbalanced dataset"
   ]
  },
  {
   "cell_type": "markdown",
   "metadata": {
    "id": "8Y7xGbCPoOAC"
   },
   "source": [
    "## <a name=\"3\">3. Natural Language Processing</a>\n",
    "(<a href=\"#0\">Go to top</a>)\n",
    "\n",
    "Let's clean our text data"
   ]
  },
  {
   "cell_type": "code",
   "execution_count": 17,
   "metadata": {
    "colab": {
     "base_uri": "https://localhost:8080/"
    },
    "id": "342T6gu4-4q7",
    "outputId": "5f076372-555b-437d-9e2b-cf141d0c0b1d",
    "scrolled": true
   },
   "outputs": [
    {
     "name": "stdout",
     "output_type": "stream",
     "text": [
      "[nltk_data] Downloading package punkt to /root/nltk_data...\n",
      "[nltk_data]   Package punkt is already up-to-date!\n",
      "[nltk_data] Downloading package averaged_perceptron_tagger to\n",
      "[nltk_data]     /root/nltk_data...\n",
      "[nltk_data]   Package averaged_perceptron_tagger is already up-to-\n",
      "[nltk_data]       date!\n",
      "[nltk_data] Downloading package wordnet to /root/nltk_data...\n",
      "[nltk_data]   Package wordnet is already up-to-date!\n",
      "[nltk_data] Downloading package stopwords to /root/nltk_data...\n",
      "[nltk_data]   Package stopwords is already up-to-date!\n"
     ]
    }
   ],
   "source": [
    "import re, string\n",
    "import nltk\n",
    "nltk.download('punkt')\n",
    "nltk.download('averaged_perceptron_tagger')\n",
    "nltk.download('wordnet')\n",
    "nltk.download('stopwords')\n",
    "from nltk.corpus import stopwords\n",
    "from nltk.tokenize import word_tokenize\n",
    "from nltk.stem import SnowballStemmer\n",
    "from nltk.corpus import wordnet\n",
    "from nltk.stem import WordNetLemmatizer\n"
   ]
  },
  {
   "cell_type": "code",
   "execution_count": 18,
   "metadata": {
    "id": "13OYHYHU-4q8",
    "scrolled": true
   },
   "outputs": [],
   "source": [
    "df_review['reviews.text'] = df_review['reviews.text'].apply(lambda x: re.sub('[^a-zA-Z]', ' ', x))\n",
    "#Lowercase our text\n",
    "df_review['reviews.text'] = df_review['reviews.text'].apply(lambda x: x.lower())\n",
    "#Get rid of leading / trailing whitespace\n",
    "df_review['reviews.text'] = df_review['reviews.text'].apply(lambda x: x.split())\n",
    "#Remove HTML tags / markups\n",
    "df_review['reviews.text'] = df_review['reviews.text'].apply(lambda x: re.compile('<.*?>').sub('', str(x)))  \n",
    "#Replace punctuation with space       \n",
    "df_review['reviews.text'] = df_review['reviews.text'].apply(lambda x: re.compile('[%s]' % re.escape(string.punctuation)).sub(' ',str(x)))\n",
    "#Remove extra space and tabs\n",
    "df_review['reviews.text'] = df_review['reviews.text'].apply(lambda x: re.sub('\\s+', ' ', x))\n"
   ]
  },
  {
   "cell_type": "code",
   "execution_count": 19,
   "metadata": {
    "colab": {
     "base_uri": "https://localhost:8080/"
    },
    "id": "1UIiNPYy_-xs",
    "outputId": "ac229e6f-4287-4275-da18-db89826fb56e"
   },
   "outputs": [
    {
     "data": {
      "text/plain": [
       "0     this product so far has not disappointed my c...\n",
       "1     great for beginner or experienced person boug...\n",
       "2     inexpensive tablet for him to use and learn o...\n",
       "3     i ve had my fire hd two weeks now and i love ...\n",
       "4     i bought this for my grand daughter when she ...\n",
       "Name: reviews.text, dtype: object"
      ]
     },
     "execution_count": 19,
     "metadata": {
      "tags": []
     },
     "output_type": "execute_result"
    }
   ],
   "source": [
    "df_review['reviews.text'].head()"
   ]
  },
  {
   "cell_type": "code",
   "execution_count": 20,
   "metadata": {
    "id": "1D4k36gbt1Uy"
   },
   "outputs": [],
   "source": [
    "snow = SnowballStemmer('english')\n",
    "#Remove not from stopwords\n",
    "all_stopwords = stopwords.words('english')\n",
    "all_stopwords.remove('not')    \n",
    "df_review['reviews.text'] = df_review['reviews.text'].apply(lambda sentence: ' '.join([snow.stem(word) for word in nltk.word_tokenize(sentence) if not word in set(all_stopwords)]))\n",
    "    "
   ]
  },
  {
   "cell_type": "code",
   "execution_count": 21,
   "metadata": {
    "colab": {
     "base_uri": "https://localhost:8080/"
    },
    "id": "AsRa2-rKmjaa",
    "outputId": "2e5b0c95-b966-4fd6-f875-38fcbee5f3eb"
   },
   "outputs": [
    {
     "data": {
      "text/plain": [
       "0        product far not disappoint children love use l...\n",
       "1           great beginn experienc person bought gift love\n",
       "2        inexpens tablet use learn step nabi thrill lea...\n",
       "3        fire hd two week love tablet great valu prime ...\n",
       "4        bought grand daughter come visit set user ente...\n",
       "                               ...                        \n",
       "34655    not appreci faster higher amp charger use kind...\n",
       "34656    amazon includ charger kindl fact charg us extr...\n",
       "34657    love kindl fire realli disappoint kindl power ...\n",
       "34658    surpris find not come type charg cord purchas ...\n",
       "34659    spite fact noth good thing say amazon anth eve...\n",
       "Name: reviews.text, Length: 34626, dtype: object"
      ]
     },
     "execution_count": 21,
     "metadata": {
      "tags": []
     },
     "output_type": "execute_result"
    }
   ],
   "source": [
    "df_review['reviews.text']"
   ]
  },
  {
   "cell_type": "code",
   "execution_count": 22,
   "metadata": {
    "id": "jPNtKsBC-4q9"
   },
   "outputs": [],
   "source": [
    "def get_wordnet_pos(word):\n",
    "    tag = nltk.pos_tag([word])[0][1][0].upper()\n",
    "    tag_dict = {\"J\": wordnet.ADJ,\n",
    "                \"N\": wordnet.NOUN,\n",
    "                \"V\": wordnet.VERB,\n",
    "                \"R\": wordnet.ADV}\n",
    "\n",
    "    return tag_dict.get(tag, wordnet.NOUN)\n",
    "\n",
    "\n",
    "# 1. Init Lemmatizer\n",
    "lemmatizer = WordNetLemmatizer()\n",
    "\n",
    "# Lemmatize a Sentence with the appropriate POS tag\n",
    "df_review['reviews.text'] = df_review['reviews.text'].apply(lambda sentence: ' '.join([lemmatizer.lemmatize(w, get_wordnet_pos(w)) for w in nltk.word_tokenize(sentence)]))\n"
   ]
  },
  {
   "cell_type": "code",
   "execution_count": 23,
   "metadata": {
    "colab": {
     "base_uri": "https://localhost:8080/"
    },
    "id": "YncN0uEpCnrh",
    "outputId": "566111ee-fa90-4762-d43d-096c36197bd6"
   },
   "outputs": [
    {
     "data": {
      "text/plain": [
       "0        product far not disappoint child love use like...\n",
       "1           great beginn experienc person bought gift love\n",
       "2        inexpens tablet use learn step nabi thrill lea...\n",
       "3        fire hd two week love tablet great valu prime ...\n",
       "4        bought grand daughter come visit set user ente...\n",
       "                               ...                        \n",
       "34655    not appreci faster high amp charger use kindl ...\n",
       "34656    amazon includ charger kindl fact charg u extra...\n",
       "34657    love kindl fire realli disappoint kindl power ...\n",
       "34658    surpris find not come type charg cord purchas ...\n",
       "34659    spite fact noth good thing say amazon anth eve...\n",
       "Name: reviews.text, Length: 34626, dtype: object"
      ]
     },
     "execution_count": 23,
     "metadata": {
      "tags": []
     },
     "output_type": "execute_result"
    }
   ],
   "source": [
    "df_review['reviews.text']"
   ]
  },
  {
   "cell_type": "code",
   "execution_count": 24,
   "metadata": {
    "id": "IcEQOrVGmzZ5"
   },
   "outputs": [],
   "source": [
    "# #Another way of Lemmatization using spacy\n",
    "# import spacy\n",
    "\n",
    "# # Initialize spacy 'en' model, keeping only tagger component needed for lemmatization\n",
    "# nlp = spacy.load('en', disable=['parser', 'ner'])\n",
    "\n",
    "# sentence = df_review['reviews.text'][0]\n",
    "\n",
    "# # Parse the sentence using the loaded 'en' model object `nlp`\n",
    "# doc = nlp(sentence)\n",
    "\n",
    "# # Extract the lemma for each token and join\n",
    "# \" \".join([token.lemma_ for token in doc])\n",
    "# #> 'the strip bat be hang on -PRON- foot for good'\n"
   ]
  },
  {
   "cell_type": "code",
   "execution_count": 25,
   "metadata": {
    "colab": {
     "base_uri": "https://localhost:8080/"
    },
    "id": "tREkFNj5tTxD",
    "outputId": "656e5646-a5ad-452e-c8f3-1fb92d7fdb4d"
   },
   "outputs": [
    {
     "name": "stdout",
     "output_type": "stream",
     "text": [
      "<class 'pandas.core.frame.DataFrame'>\n",
      "Int64Index: 34626 entries, 0 to 34659\n",
      "Data columns (total 2 columns):\n",
      " #   Column          Non-Null Count  Dtype \n",
      "---  ------          --------------  ----- \n",
      " 0   reviews.text    34626 non-null  object\n",
      " 1   reviews.rating  34626 non-null  int64 \n",
      "dtypes: int64(1), object(1)\n",
      "memory usage: 811.5+ KB\n"
     ]
    }
   ],
   "source": [
    "df_review.info()"
   ]
  },
  {
   "cell_type": "markdown",
   "metadata": {
    "id": "WASVIfO4mnnP"
   },
   "source": [
    "## <a name=\"4\">4. Select a model and train it</a>\n",
    "(<a href=\"#0\">Go to top</a>)\n"
   ]
  },
  {
   "cell_type": "code",
   "execution_count": 26,
   "metadata": {
    "colab": {
     "base_uri": "https://localhost:8080/"
    },
    "id": "gU5MEN6fTT-o",
    "outputId": "70bf7ecd-12fd-43e5-91c2-dbbc75ba9349",
    "scrolled": true
   },
   "outputs": [
    {
     "data": {
      "text/plain": [
       "0        product far not disappoint child love use like...\n",
       "1           great beginn experienc person bought gift love\n",
       "2        inexpens tablet use learn step nabi thrill lea...\n",
       "3        fire hd two week love tablet great valu prime ...\n",
       "4        bought grand daughter come visit set user ente...\n",
       "                               ...                        \n",
       "34655    not appreci faster high amp charger use kindl ...\n",
       "34656    amazon includ charger kindl fact charg u extra...\n",
       "34657    love kindl fire realli disappoint kindl power ...\n",
       "34658    surpris find not come type charg cord purchas ...\n",
       "34659    spite fact noth good thing say amazon anth eve...\n",
       "Name: reviews.text, Length: 34626, dtype: object"
      ]
     },
     "execution_count": 26,
     "metadata": {
      "tags": []
     },
     "output_type": "execute_result"
    }
   ],
   "source": [
    "X = df_review['reviews.text']\n",
    "y = df_review['reviews.rating'] \n",
    "X"
   ]
  },
  {
   "cell_type": "markdown",
   "metadata": {
    "id": "6As1ThPpoOAk"
   },
   "source": [
    "Let's split our data "
   ]
  },
  {
   "cell_type": "code",
   "execution_count": 27,
   "metadata": {
    "id": "y2qUHU0ASiTs"
   },
   "outputs": [],
   "source": [
    "from sklearn.model_selection import train_test_split\n",
    "X_train, X_test, y_train, y_test = train_test_split(X, y, test_size=0.2, shuffle=True, random_state=23)"
   ]
  },
  {
   "cell_type": "code",
   "execution_count": 28,
   "metadata": {
    "colab": {
     "base_uri": "https://localhost:8080/"
    },
    "id": "NbKWO3V8UJf5",
    "outputId": "a772af42-e73f-42e1-c905-c49e029c5a5e"
   },
   "outputs": [
    {
     "name": "stdout",
     "output_type": "stream",
     "text": [
      "Train Set Shape\t\t:(27700,)\n",
      "Test Set Shape\t\t:(6926,)\n"
     ]
    }
   ],
   "source": [
    "print ('Train Set Shape\\t\\t:{}\\nTest Set Shape\\t\\t:{}'.format(X_train.shape, X_test.shape))"
   ]
  },
  {
   "cell_type": "markdown",
   "metadata": {
    "id": "6VaK_dy9oOAo"
   },
   "source": [
    "### Using CountVectorizer"
   ]
  },
  {
   "cell_type": "code",
   "execution_count": 29,
   "metadata": {
    "id": "_VZ-HqTq-4q-"
   },
   "outputs": [],
   "source": [
    "from sklearn.feature_extraction.text import CountVectorizer\n",
    "# Create the word vector with CountVectorizer\n",
    "count_vect = CountVectorizer(ngram_range=(1,1))\n",
    "X_train = count_vect.fit_transform(X_train)\n",
    "X_train = X_train.toarray()\n",
    "X_test = count_vect.transform(X_test)\n",
    "X_test = X_test.toarray()"
   ]
  },
  {
   "cell_type": "code",
   "execution_count": 30,
   "metadata": {
    "colab": {
     "base_uri": "https://localhost:8080/"
    },
    "id": "99bDMqSW-4rA",
    "outputId": "0e7c7542-8b80-440a-801d-cb0a4064edbb"
   },
   "outputs": [
    {
     "name": "stdout",
     "output_type": "stream",
     "text": [
      "Vocabulary length : 8021\n"
     ]
    }
   ],
   "source": [
    "# Print vocabulary length\n",
    "print('Vocabulary length :', len(count_vect.get_feature_names()))"
   ]
  },
  {
   "cell_type": "code",
   "execution_count": 31,
   "metadata": {
    "id": "U-m3XkepXhrv"
   },
   "outputs": [],
   "source": [
    "# # Assign feature names of vector into a variable\n",
    "# vocab = count_vect.get_feature_names()"
   ]
  },
  {
   "cell_type": "code",
   "execution_count": 32,
   "metadata": {
    "id": "uPPckes8XiDV"
   },
   "outputs": [],
   "source": [
    "# # Dataframe for train countvectorizer dataset\n",
    "# pd.DataFrame(X_train, columns = vocab).head()"
   ]
  },
  {
   "cell_type": "markdown",
   "metadata": {
    "id": "C56PtUNioOA8"
   },
   "source": [
    "### Using Naiv Bayes Classifier"
   ]
  },
  {
   "cell_type": "code",
   "execution_count": 33,
   "metadata": {
    "colab": {
     "base_uri": "https://localhost:8080/"
    },
    "id": "9NUoGgdk-4rE",
    "outputId": "28af36d0-22c3-4e09-f022-4fc0dc232c6c"
   },
   "outputs": [
    {
     "data": {
      "text/plain": [
       "MultinomialNB(alpha=1.0, class_prior=None, fit_prior=True)"
      ]
     },
     "execution_count": 33,
     "metadata": {
      "tags": []
     },
     "output_type": "execute_result"
    }
   ],
   "source": [
    "from sklearn.naive_bayes import MultinomialNB\n",
    "naive = MultinomialNB()\n",
    "naive.fit(X_train, y_train)"
   ]
  },
  {
   "cell_type": "code",
   "execution_count": 34,
   "metadata": {
    "id": "WXlQKlNJjRf1"
   },
   "outputs": [],
   "source": [
    "from sklearn.metrics import precision_recall_fscore_support\n",
    "from sklearn.metrics import confusion_matrix, classification_report, roc_auc_score\n",
    "\n",
    "def predict(predictor, features, labels):\n",
    "    \"\"\"\n",
    "    predictor : Predictor object of model\n",
    "    features: Input features to model\n",
    "    label: Ground truth target values\n",
    "    \"\"\"\n",
    "    predictions = predictor.predict(features)\n",
    "\n",
    "    # Calculate accuracy\n",
    "    accuracy = (predictions == labels).sum() / labels.shape[0]\n",
    "    print(f'Accuracy: {accuracy}')\n",
    "    \n",
    "    auc = roc_auc_score(labels, predictions)\n",
    "    print(f'AUC     : {auc}')\n",
    "    \n",
    "    precision, recall, f1_score, _ = precision_recall_fscore_support(labels, predictions, average = 'binary')\n",
    "    print(f'Precision: {precision}')\n",
    "    print(f'Recall: {recall}')\n",
    "    print(f'F1_score: {f1_score}')\n",
    "    \n",
    "    \n",
    "    confusion_matrix = pd.crosstab(index=labels, columns=predictions, rownames=['Actual'], colnames=['Predicted']).astype(int)\n",
    "    sns.heatmap(confusion_matrix, annot=True, fmt='.0f', cmap=\"YlGnBu\").set_title('Confusion Matrix') \n"
   ]
  },
  {
   "cell_type": "code",
   "execution_count": 35,
   "metadata": {
    "colab": {
     "base_uri": "https://localhost:8080/",
     "height": 385
    },
    "id": "fcuE5qtH2AK8",
    "outputId": "e28b2644-3867-4563-9f59-4938f0045175"
   },
   "outputs": [
    {
     "name": "stdout",
     "output_type": "stream",
     "text": [
      "Accuracy: 0.9440072202166065\n",
      "AUC     : 0.7213557074382158\n",
      "Precision: 0.962555652802618\n",
      "Recall: 0.9780759415358441\n",
      "F1_score: 0.9702537350645365\n"
     ]
    },
    {
     "data": {
      "image/png": "[encoded data removed]",
      "text/plain": [
       "<Figure size 432x288 with 2 Axes>"
      ]
     },
     "metadata": {
      "needs_background": "light",
      "tags": []
     },
     "output_type": "display_data"
    }
   ],
   "source": [
    "predict(naive, X_train, y_train)"
   ]
  },
  {
   "cell_type": "code",
   "execution_count": 36,
   "metadata": {
    "colab": {
     "base_uri": "https://localhost:8080/",
     "height": 385
    },
    "id": "AoX63Dyi2Ane",
    "outputId": "640bd336-74bf-4835-fc8b-f1d3cd0de01c"
   },
   "outputs": [
    {
     "name": "stdout",
     "output_type": "stream",
     "text": [
      "Accuracy: 0.9350274328616807\n",
      "AUC     : 0.6575383755494684\n",
      "Precision: 0.9526466596290152\n",
      "Recall: 0.9789245312257865\n",
      "F1_score: 0.9656068480586976\n"
     ]
    },
    {
     "data": {
      "image/png": "[encoded data removed]",
      "text/plain": [
       "<Figure size 432x288 with 2 Axes>"
      ]
     },
     "metadata": {
      "needs_background": "light",
      "tags": []
     },
     "output_type": "display_data"
    }
   ],
   "source": [
    "predict(naive, X_test, y_test)"
   ]
  },
  {
   "cell_type": "markdown",
   "metadata": {
    "id": "2brCt8BsjfnV"
   },
   "source": [
    "### Trying oversampling (SMOTE) "
   ]
  },
  {
   "cell_type": "markdown",
   "metadata": {
    "id": "mVRfXNP9oOBH"
   },
   "source": [
    "Since we have imbalanced data let's try overampling and watch our model performance"
   ]
  },
  {
   "cell_type": "markdown",
   "metadata": {
    "id": "kv7qhwTIoOBI"
   },
   "source": [
    "Here we use the cleaned data"
   ]
  },
  {
   "cell_type": "code",
   "execution_count": 37,
   "metadata": {
    "colab": {
     "base_uri": "https://localhost:8080/",
     "height": 198
    },
    "id": "iu3b2xxsjR1T",
    "outputId": "b3eedcee-dd39-455a-97b3-3415feeb4069"
   },
   "outputs": [
    {
     "data": {
      "text/html": [
       "<div>\n",
       "<style scoped>\n",
       "    .dataframe tbody tr th:only-of-type {\n",
       "        vertical-align: middle;\n",
       "    }\n",
       "\n",
       "    .dataframe tbody tr th {\n",
       "        vertical-align: top;\n",
       "    }\n",
       "\n",
       "    .dataframe thead th {\n",
       "        text-align: right;\n",
       "    }\n",
       "</style>\n",
       "<table border=\"1\" class=\"dataframe\">\n",
       "  <thead>\n",
       "    <tr style=\"text-align: right;\">\n",
       "      <th></th>\n",
       "      <th>reviews.text</th>\n",
       "      <th>reviews.rating</th>\n",
       "    </tr>\n",
       "  </thead>\n",
       "  <tbody>\n",
       "    <tr>\n",
       "      <th>0</th>\n",
       "      <td>product far not disappoint child love use like...</td>\n",
       "      <td>1</td>\n",
       "    </tr>\n",
       "    <tr>\n",
       "      <th>1</th>\n",
       "      <td>great beginn experienc person bought gift love</td>\n",
       "      <td>1</td>\n",
       "    </tr>\n",
       "    <tr>\n",
       "      <th>2</th>\n",
       "      <td>inexpens tablet use learn step nabi thrill lea...</td>\n",
       "      <td>1</td>\n",
       "    </tr>\n",
       "    <tr>\n",
       "      <th>3</th>\n",
       "      <td>fire hd two week love tablet great valu prime ...</td>\n",
       "      <td>1</td>\n",
       "    </tr>\n",
       "    <tr>\n",
       "      <th>4</th>\n",
       "      <td>bought grand daughter come visit set user ente...</td>\n",
       "      <td>1</td>\n",
       "    </tr>\n",
       "  </tbody>\n",
       "</table>\n",
       "</div>"
      ],
      "text/plain": [
       "                                        reviews.text  reviews.rating\n",
       "0  product far not disappoint child love use like...               1\n",
       "1     great beginn experienc person bought gift love               1\n",
       "2  inexpens tablet use learn step nabi thrill lea...               1\n",
       "3  fire hd two week love tablet great valu prime ...               1\n",
       "4  bought grand daughter come visit set user ente...               1"
      ]
     },
     "execution_count": 37,
     "metadata": {
      "tags": []
     },
     "output_type": "execute_result"
    }
   ],
   "source": [
    "df_review_sm = df_review[['reviews.text','reviews.rating']]\n",
    "df_review_sm.head()"
   ]
  },
  {
   "cell_type": "code",
   "execution_count": 38,
   "metadata": {
    "colab": {
     "base_uri": "https://localhost:8080/"
    },
    "id": "b-H-I375rrA_",
    "outputId": "09d9af0d-84ce-4da0-c861-3b0d2c9f9f08"
   },
   "outputs": [
    {
     "name": "stdout",
     "output_type": "stream",
     "text": [
      "<class 'pandas.core.frame.DataFrame'>\n",
      "Int64Index: 34626 entries, 0 to 34659\n",
      "Data columns (total 2 columns):\n",
      " #   Column          Non-Null Count  Dtype \n",
      "---  ------          --------------  ----- \n",
      " 0   reviews.text    34626 non-null  object\n",
      " 1   reviews.rating  34626 non-null  int64 \n",
      "dtypes: int64(1), object(1)\n",
      "memory usage: 811.5+ KB\n"
     ]
    }
   ],
   "source": [
    "df_review_sm.info()"
   ]
  },
  {
   "cell_type": "code",
   "execution_count": 39,
   "metadata": {
    "id": "n1DmQIuijR-F"
   },
   "outputs": [],
   "source": [
    "X_sm = df_review_sm['reviews.text']\n",
    "y_sm = df_review_sm['reviews.rating']"
   ]
  },
  {
   "cell_type": "code",
   "execution_count": 40,
   "metadata": {
    "id": "AvAw6o1Bp6rP"
   },
   "outputs": [],
   "source": [
    "from sklearn.model_selection import train_test_split\n",
    "X_train_sm, X_test_sm, y_train_sm, y_test_sm = train_test_split(X_sm, y_sm, test_size=0.2, shuffle=True, random_state=23)"
   ]
  },
  {
   "cell_type": "code",
   "execution_count": 41,
   "metadata": {
    "colab": {
     "base_uri": "https://localhost:8080/"
    },
    "id": "FP-tGr_aqNvv",
    "outputId": "fdbf9e94-66a1-4018-f811-4c710fc6bb8a"
   },
   "outputs": [
    {
     "name": "stdout",
     "output_type": "stream",
     "text": [
      "Train Set Shape\t\t:(27700,)\n",
      "Test Set Shape\t\t:(6926, 8021)\n"
     ]
    }
   ],
   "source": [
    "print ('Train Set Shape\\t\\t:{}\\nTest Set Shape\\t\\t:{}'.format(X_train_sm.shape, X_test.shape))"
   ]
  },
  {
   "cell_type": "markdown",
   "metadata": {
    "id": "AByj36NCoOBV"
   },
   "source": [
    "Using CountVectorizer"
   ]
  },
  {
   "cell_type": "code",
   "execution_count": 42,
   "metadata": {
    "id": "GGmKhLcsqN-Z"
   },
   "outputs": [],
   "source": [
    "from sklearn.feature_extraction.text import CountVectorizer\n",
    "# Create the word vector with CountVectorizer\n",
    "count_vect_sm = CountVectorizer(ngram_range=(1,1))\n",
    "X_train_sm = count_vect_sm.fit_transform(X_train_sm)\n",
    "X_train_sm = X_train_sm.toarray()\n",
    "X_test_sm = count_vect_sm.transform(X_test_sm)\n",
    "X_test_sm = X_test_sm.toarray()"
   ]
  },
  {
   "cell_type": "code",
   "execution_count": 43,
   "metadata": {
    "colab": {
     "base_uri": "https://localhost:8080/"
    },
    "id": "JFUImOm-wKKm",
    "outputId": "d6d25aaa-7229-4119-8755-22375335a34e"
   },
   "outputs": [
    {
     "data": {
      "text/plain": [
       "(27700, 8021)"
      ]
     },
     "execution_count": 43,
     "metadata": {
      "tags": []
     },
     "output_type": "execute_result"
    }
   ],
   "source": [
    "X_train_sm.shape"
   ]
  },
  {
   "cell_type": "markdown",
   "metadata": {
    "id": "HLcTGFNLoOBa"
   },
   "source": [
    "Since testing data should be a way from our trained model, we will do oversampling only on training data "
   ]
  },
  {
   "cell_type": "code",
   "execution_count": 44,
   "metadata": {
    "id": "oJd4j0BBjSGX"
   },
   "outputs": [],
   "source": [
    "from imblearn.over_sampling import SMOTE \n",
    "from sklearn.utils import shuffle\n",
    "\n",
    "sm = SMOTE(random_state=42)\n",
    "X_train_sm, y_train_sm = sm.fit_resample(X_train_sm, y_train_sm)\n",
    "X_train_sm, y_train_sm = shuffle(X_train_sm, y_train_sm)\n",
    "\n"
   ]
  },
  {
   "cell_type": "code",
   "execution_count": 45,
   "metadata": {
    "colab": {
     "base_uri": "https://localhost:8080/"
    },
    "id": "QSRNKa3njSM4",
    "outputId": "3bddcd18-1237-4005-f889-e8a30bb228b2"
   },
   "outputs": [
    {
     "data": {
      "text/plain": [
       "((51724, 8021), (51724,))"
      ]
     },
     "execution_count": 45,
     "metadata": {
      "tags": []
     },
     "output_type": "execute_result"
    }
   ],
   "source": [
    "X_train_sm.shape, y_train_sm.shape"
   ]
  },
  {
   "cell_type": "markdown",
   "metadata": {
    "id": "WWGzA3FuoOBf"
   },
   "source": [
    "Using Naive Bayes Classifier"
   ]
  },
  {
   "cell_type": "code",
   "execution_count": 46,
   "metadata": {
    "colab": {
     "base_uri": "https://localhost:8080/"
    },
    "id": "NzmzsgngjSfx",
    "outputId": "964e57eb-4a5f-409d-c7fe-c0dc090c5a90"
   },
   "outputs": [
    {
     "data": {
      "text/plain": [
       "MultinomialNB(alpha=1.0, class_prior=None, fit_prior=True)"
      ]
     },
     "execution_count": 46,
     "metadata": {
      "tags": []
     },
     "output_type": "execute_result"
    }
   ],
   "source": [
    "from sklearn.naive_bayes import MultinomialNB\n",
    "naive_sm = MultinomialNB()\n",
    "naive_sm.fit(X_train_sm, y_train_sm)"
   ]
  },
  {
   "cell_type": "code",
   "execution_count": 47,
   "metadata": {
    "colab": {
     "base_uri": "https://localhost:8080/",
     "height": 385
    },
    "id": "YLctNKFa0EfA",
    "outputId": "34dd5b71-91a5-4d89-c331-717536c7b34d"
   },
   "outputs": [
    {
     "name": "stdout",
     "output_type": "stream",
     "text": [
      "Accuracy: 0.8824723532596087\n",
      "AUC     : 0.8824723532596086\n",
      "Precision: 0.8688793585679657\n",
      "Recall: 0.9008970690588508\n",
      "F1_score: 0.8845985914156084\n"
     ]
    },
    {
     "data": {
      "image/png": "[encoded data removed]",
      "text/plain": [
       "<Figure size 432x288 with 2 Axes>"
      ]
     },
     "metadata": {
      "needs_background": "light",
      "tags": []
     },
     "output_type": "display_data"
    }
   ],
   "source": [
    "predict(naive_sm, X_train_sm, y_train_sm)"
   ]
  },
  {
   "cell_type": "code",
   "execution_count": 48,
   "metadata": {
    "colab": {
     "base_uri": "https://localhost:8080/",
     "height": 385
    },
    "id": "TeDQBWX00Smz",
    "outputId": "cf689821-4b5c-446c-9d46-69e2807fa897"
   },
   "outputs": [
    {
     "name": "stdout",
     "output_type": "stream",
     "text": [
      "Accuracy: 0.8836269130811435\n",
      "AUC     : 0.732812212816105\n",
      "Precision: 0.9655399835119538\n",
      "Recall: 0.907484890748489\n",
      "F1_score: 0.9356127176865314\n"
     ]
    },
    {
     "data": {
      "image/png": "[encoded data removed]",
      "text/plain": [
       "<Figure size 432x288 with 2 Axes>"
      ]
     },
     "metadata": {
      "needs_background": "light",
      "tags": []
     },
     "output_type": "display_data"
    }
   ],
   "source": [
    "predict(naive_sm, X_test_sm, y_test_sm)"
   ]
  }
 ],
 "metadata": {
  "colab": {
   "collapsed_sections": [],
   "name": "MCIT_Amazon_Product_Reviews_Use_Case_2_.ipynb",
   "provenance": []
  },
  "kernelspec": {
   "display_name": "Python 3",
   "language": "python",
   "name": "python3"
  },
  "language_info": {
   "codemirror_mode": {
    "name": "ipython",
    "version": 3
   },
   "file_extension": ".py",
   "mimetype": "text/x-python",
   "name": "python",
   "nbconvert_exporter": "python",
   "pygments_lexer": "ipython3",
   "version": "3.8.5"
  }
 },
 "nbformat": 4,
 "nbformat_minor": 1
}
